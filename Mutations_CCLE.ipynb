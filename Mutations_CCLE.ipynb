{
 "cells": [
  {
   "cell_type": "code",
   "execution_count": 39,
   "metadata": {},
   "outputs": [
    {
     "name": "stdout",
     "output_type": "stream",
     "text": [
      "The autoreload extension is already loaded. To reload it, use:\n",
      "  %reload_ext autoreload\n"
     ]
    }
   ],
   "source": [
    "from __future__ import print_function\n",
    "import os.path\n",
    "import dalmatian as dm\n",
    "import pandas as pd\n",
    "import sys\n",
    "from CCLE_postp_function import CreateDatasetWithNewCellLines\n",
    "sys.path.insert(0, '../JKBio/')\n",
    "import datanalytics as da \n",
    "import TerraFunction as terra\n",
    "%load_ext autoreload\n",
    "%autoreload 2"
   ]
  },
  {
   "cell_type": "code",
   "execution_count": 29,
   "metadata": {},
   "outputs": [],
   "source": [
    "namespace=\"broad-genomics-delivery\"\n",
    "workspace=\"Getz_IBM_CellLines_Exomes\"\n",
    "refnamespace=\"broad-firecloud-ccle\"\n",
    "refworkspace=\"DepMap_Mutation_Calling_CGA_pipeline\"\n",
    "source=\"ibm\"\n",
    "sample_set_id = \"19Q3interim\""
   ]
  },
  {
   "cell_type": "code",
   "execution_count": 34,
   "metadata": {},
   "outputs": [],
   "source": [
    "wm = dm.WorkspaceManager(namespace, workspace)\n",
    "refwm = dm.WorkspaceManager(refnamespace, refworkspace)"
   ]
  },
  {
   "cell_type": "code",
   "execution_count": 49,
   "metadata": {},
   "outputs": [
    {
     "name": "stdout",
     "output_type": "stream",
     "text": [
      "Sample set \"19Q3interim\" (13 samples) successfully updated.\n"
     ]
    }
   ],
   "source": [
    "a = [\"ibm_ACH-001518\",\n",
    "\"ibm_ACH-002019\",\n",
    "\"ibm_ACH-002027\",\n",
    "\"ibm_ACH-002069\",\n",
    "\"ibm_ACH-001991\",\n",
    "\"ibm_ACH-001719\",\n",
    "\"ibm_ACH-001616\",\n",
    "\"ibm_ACH-001623\",\n",
    "\"ibm_ACH-002022\",\n",
    "\"ibm_ACH-002042\",\n",
    "\"ibm_ACH-002023\",\n",
    "\"ibm_ACH-001687\",\n",
    "\"ibm_ACH-001698\"]\n",
    "refwm.update_sample_set(sample_set_id=sample_set_id, sample_ids=a)"
   ]
  },
  {
   "cell_type": "code",
   "execution_count": 47,
   "metadata": {},
   "outputs": [
    {
     "name": "stderr",
     "output_type": "stream",
     "text": [
      "/home/jeremie/ccle_processing/CCLE_postp_function.py:20: UserWarning: Boolean Series key will be reindexed to match DataFrame index.\n",
      "  samples = wfrom.get_samples()\n"
     ]
    },
    {
     "name": "stdout",
     "output_type": "stream",
     "text": [
      "uploading new samples\n",
      "Successfully imported 1576 participants.\n",
      "Updating many hound records. Switching to batch updates\n",
      "Hound executing batch upload of 2 records\n",
      "Successfully imported 1801 samples.\n",
      "Updating many hound records. Switching to batch updates\n",
      "Hound executing batch upload of 655566 records\n",
      "creating a sample set\n",
      "Successfully imported 1 sample sets:\n",
      "  * 19Q3interim (1 samples)\n"
     ]
    }
   ],
   "source": [
    "CreateDatasetWithNewCellLines(wm,refwm, source, sample_set_id)"
   ]
  },
  {
   "cell_type": "markdown",
   "metadata": {},
   "source": [
    "# Run the pipeline"
   ]
  },
  {
   "cell_type": "code",
   "execution_count": 44,
   "metadata": {},
   "outputs": [
    {
     "data": {
      "text/plain": [
       "{'deleted': False,\n",
       " 'inputs': {'CGA_Production_Analysis_Workflow.CrossCheckLaneFingerprints_Task.HaplotypeDBForCrossCheck': 'workspace.HAP_DB_FOR_CC',\n",
       "  'CGA_Production_Analysis_Workflow.gatk_acnv_only.one_thousand_genomes_common_variants_minor_allele_freq_five': 'workspace.COMMON_VARIANTS_1000_GENOMES',\n",
       "  'CGA_Production_Analysis_Workflow.VEP_Task.GNOMAD_FILE_IDX': 'workspace.GNOMAD_IDX',\n",
       "  'CGA_Production_Analysis_Workflow.lego_plotter_task.mut_categs': 'workspace.MUT_CATEGORIES',\n",
       "  'CGA_Production_Analysis_Workflow.MutectFC_Task.mutectIntervals': 'workspace.MUTECT_FC_INTERVALS',\n",
       "  'CGA_Production_Analysis_Workflow.hasPicardMetrics_normal': '',\n",
       "  'CGA_Production_Analysis_Workflow.DB_SNP_VCF_IDX': 'workspace.DB_SNP_VCF_IDX',\n",
       "  'CGA_Production_Analysis_Workflow.iceMAFPonFilter.PONFile': 'workspace.ICE_TOKEN_PON',\n",
       "  'CGA_Production_Analysis_Workflow.ctrlName': '\"CCLF_RCRF1009-Normal-SM-F3R8L\"',\n",
       "  'CGA_Production_Analysis_Workflow.targetIntervals': 'workspace.ILLUMINA_TARGET_INTERVALS',\n",
       "  'CGA_Production_Analysis_Workflow.readGroupBlackList': 'workspace.READ_GROUP_BLACKLIST',\n",
       "  'CGA_Production_Analysis_Workflow.ContEST_Task.SNP6Bed': 'workspace.SNP6BED',\n",
       "  'CGA_Production_Analysis_Workflow.blat.hg19_bit': 'workspace.BLAT_REALIGNER_HG19_BIT',\n",
       "  'CGA_Production_Analysis_Workflow.CopyNumberReportQC_Task.captureNormalsDBRCLZip': 'workspace.CAP_NORM_DB_ZIP',\n",
       "  'CGA_Production_Analysis_Workflow.gatk_acnv_only.PoN': 'workspace.ACNV_PON',\n",
       "  'CGA_Production_Analysis_Workflow.hasPicardMetrics_tumor': '',\n",
       "  'CGA_Production_Analysis_Workflow.ContEST_Task.HapMapVCF': 'workspace.HAP_MAP_VCF',\n",
       "  'CGA_Production_Analysis_Workflow.cga_pipeline_config': 'workspace.CGA_PIPELINE_CONFIG',\n",
       "  'CGA_Production_Analysis_Workflow.DeTiN_Task.exac_pickle': 'workspace.EXAC_PICKLE',\n",
       "  'CGA_Production_Analysis_Workflow.VEP_Task.VEP_File': 'workspace.VEP_ZIP_FILE',\n",
       "  'CGA_Production_Analysis_Workflow.Strelka.config': 'workspace.STRELKA_CONFIG',\n",
       "  'CGA_Production_Analysis_Workflow.GATK4_JAR': 'workspace.GATK4_JAR',\n",
       "  'CGA_Production_Analysis_Workflow.Oncotate_Task.oncoDBTarBall': 'workspace.ONCO_TARBALL',\n",
       "  'CGA_Production_Analysis_Workflow.baitIntervals': 'workspace.ILLUMINA_BAIT_INTERVALS',\n",
       "  'CGA_Production_Analysis_Workflow.refFastaDict': 'workspace.REF_FASTA_DICT',\n",
       "  'CGA_Production_Analysis_Workflow.mutation_validator.tumorRNABamIdx': '',\n",
       "  'CGA_Production_Analysis_Workflow.refFastaIdx': 'workspace.REF_FASTA_IDX',\n",
       "  'CGA_Production_Analysis_Workflow.cosmicVCF': 'workspace.COSMIC_VCF',\n",
       "  'CGA_Production_Analysis_Workflow.DB_SNP_VCF': 'workspace.DB_SNP_VCF',\n",
       "  'CGA_Production_Analysis_Workflow.gatk_acnv_only.gatk_protected': 'workspace.GATK_PROTECTED_JAR',\n",
       "  'CGA_Production_Analysis_Workflow.VEP_Task.GNOMAD_FILE': 'workspace.GNOMAD',\n",
       "  'CGA_Production_Analysis_Workflow.tumorBamIdx': 'this.WES_bai',\n",
       "  'CGA_Production_Analysis_Workflow.normalPanel': 'workspace.KGENOMES_NORMAL_PANEL_VCF',\n",
       "  'CGA_Production_Analysis_Workflow.tumorBam': 'this.WES_bam',\n",
       "  'CGA_Production_Analysis_Workflow.normalBam': '\"gs://fc-38a1a377-72c6-4e90-917f-e4bb709b8f2c/CCLF_RCRF1009-Normal-SM-F3R8L/seq_data_v2/CCLF_RCRF1009GL.bam\"',\n",
       "  'CGA_Production_Analysis_Workflow.caseName': 'this.name',\n",
       "  'CGA_Production_Analysis_Workflow.normalBamIdx': '\"gs://fc-38a1a377-72c6-4e90-917f-e4bb709b8f2c/CCLF_RCRF1009-Normal-SM-F3R8L/seq_data_v2/CCLF_RCRF1009GL.bai\"',\n",
       "  'CGA_Production_Analysis_Workflow.pairName': 'this.name',\n",
       "  'CGA_Production_Analysis_Workflow.refFasta': 'workspace.REF_FASTA',\n",
       "  'CGA_Production_Analysis_Workflow.forceComputePicardMetrics_normal': '',\n",
       "  'CGA_Production_Analysis_Workflow.mutation_validator.tumorRNABam': '',\n",
       "  'CGA_Production_Analysis_Workflow.VEP_Task.oncoDBTarBall_JustRef': 'workspace.ONCO_TAR_HGREF',\n",
       "  'CGA_Production_Analysis_Workflow.gatk_acnv_only.common_snp_list': 'workspace.GOOD_HETS',\n",
       "  'CGA_Production_Analysis_Workflow.runDeTiN': '',\n",
       "  'CGA_Production_Analysis_Workflow.agilentMAFPonFilter.PONFile': 'workspace.AGILENT_TOKEN_PON',\n",
       "  'CGA_Production_Analysis_Workflow.forceComputePicardMetrics_tumor': '',\n",
       "  'CGA_Production_Analysis_Workflow.cytoBandFile': 'workspace.CYTO_BAND',\n",
       "  'CGA_Production_Analysis_Workflow.CopyNumberReportQC_Task.regionFile': 'workspace.REGION_FILE'},\n",
       " 'methodConfigVersion': 3,\n",
       " 'methodRepoMethod': {'methodName': 'CGA_Production_Analysis_Pipeline_Cell_Lines_debugging',\n",
       "  'methodVersion': 22,\n",
       "  'methodNamespace': 'cclf',\n",
       "  'methodUri': 'agora://cclf/CGA_Production_Analysis_Pipeline_Cell_Lines_debugging/22',\n",
       "  'sourceRepo': 'agora'},\n",
       " 'name': 'ICE_CGA_Production_Analysis_Pipeline_Cell_Lines',\n",
       " 'namespace': 'cclf',\n",
       " 'outputs': {'CGA_Production_Analysis_Workflow.filters_passed_merged_intersection_maf': 'this.filters_passed_merged_intersection_maf',\n",
       "  'CGA_Production_Analysis_Workflow.agilent_pon_filter_passed_mutations': 'this.agilent_pon_filter_passed_mutations',\n",
       "  'CGA_Production_Analysis_Workflow.normal_bam_base_distribution_by_cycle_metrics': 'this.normal_bam_base_distribution_by_cycle_metrics',\n",
       "  'CGA_Production_Analysis_Workflow.mut_legos_html': 'this.mut_legos_html',\n",
       "  'CGA_Production_Analysis_Workflow.oxoG_OBF_number_mutations_passed': 'this.oxoG_OBF_number_mutations_passed',\n",
       "  'CGA_Production_Analysis_Workflow.strelka_passed_indels': 'this.strelka_passed_indels',\n",
       "  'CGA_Production_Analysis_Workflow.deTiN_aSCNA_model': 'this.deTiN_aSCNA_model',\n",
       "  'CGA_Production_Analysis_Workflow.oxoG_OBF_passed_mutations': 'this.oxoG_OBF_passed_mutations',\n",
       "  'CGA_Production_Analysis_Workflow.normal_bam_hybrid_selection_metrics': 'this.normal_bam_hybrid_selection_metrics',\n",
       "  'CGA_Production_Analysis_Workflow.ffpe_OBF_number_mutations_rejected': 'this.ffpe_OBF_number_mutations_rejected',\n",
       "  'CGA_Production_Analysis_Workflow.normal_bam_insert_size_metrics': 'this.normal_bam_insert_size_metrics',\n",
       "  'CGA_Production_Analysis_Workflow.MUTECT1_VEP_annotated_vcf': 'this.MUTECT1_VEP_annotated_vcf',\n",
       "  'CGA_Production_Analysis_Workflow.lego_plotter_pngs': 'this.lego_plotter_pngs',\n",
       "  'CGA_Production_Analysis_Workflow.contest_base_report': 'this.contest_base_report',\n",
       "  'CGA_Production_Analysis_Workflow.normal_bam_quality_yield_metrics': 'this.normal_bam_quality_yield_metrics',\n",
       "  'CGA_Production_Analysis_Workflow.agilent_pon_filter_passed_and_rejected_mutations': 'this.agilent_pon_filter_passed_and_rejected_mutations',\n",
       "  'CGA_Production_Analysis_Workflow.strelka_all_indels': 'this.strelka_all_indels',\n",
       "  'CGA_Production_Analysis_Workflow.mutect_force_call_pw': 'this.mutect_force_call_pw',\n",
       "  'CGA_Production_Analysis_Workflow.agilent_pon_filter_number_mutations_passed': 'this.agilent_pon_filter_number_mutations_passed',\n",
       "  'CGA_Production_Analysis_Workflow.gatk_cnv_seg_file': 'this.gatk_cnv_seg_file',\n",
       "  'CGA_Production_Analysis_Workflow.tumor_bam_base_distribution_by_cycle': 'this.tumor_bam_base_distribution_by_cycle',\n",
       "  'CGA_Production_Analysis_Workflow.ice_pon_filter_passed_mutations': 'this.ice_pon_filter_passed_mutations',\n",
       "  'CGA_Production_Analysis_Workflow.normal_bam_gc_bias_summary_metrics': 'this.normal_bam_gc_bias_summary_metrics',\n",
       "  'CGA_Production_Analysis_Workflow.normal_bam_insert_size_histogram': 'this.normal_bam_insert_size_histogram',\n",
       "  'CGA_Production_Analysis_Workflow.normal_bam_gc_bias': 'this.normal_bam_gc_bias',\n",
       "  'CGA_Production_Analysis_Workflow.MUTECT2_VCF_ALL': 'this.MUTECT2_VCF_ALL',\n",
       "  'CGA_Production_Analysis_Workflow.normal_bam_gc_bias_detail_metrics': 'this.normal_bam_gc_bias_detail_metrics',\n",
       "  'CGA_Production_Analysis_Workflow.tumor_bam_pre_adapter_detail_metrics': 'this.tumor_bam_pre_adapter_detail_metrics',\n",
       "  'CGA_Production_Analysis_Workflow.deTiN_aSCNA_scatter_plot': 'this.deTiN_aSCNA_scatter_plot',\n",
       "  'CGA_Production_Analysis_Workflow.contamination_data': 'this.contamination_data',\n",
       "  'CGA_Production_Analysis_Workflow.blat_all_maf': 'this.blat_all_maf',\n",
       "  'CGA_Production_Analysis_Workflow.MUTECT1_CS_SNV': 'this.MUTECT1_CS_SNV',\n",
       "  'CGA_Production_Analysis_Workflow.fracContam': 'this.fracContam',\n",
       "  'CGA_Production_Analysis_Workflow.mutation_validator_validated_maf': 'this.mutation_validator_validated_maf',\n",
       "  'CGA_Production_Analysis_Workflow.alleliccapseg_tsv': 'this.alleliccapseg_tsv',\n",
       "  'CGA_Production_Analysis_Workflow.copy_number_qc_report_png': 'this.copy_number_qc_report_png',\n",
       "  'CGA_Production_Analysis_Workflow.lego_plotter_figs': 'this.lego_plotter_figs',\n",
       "  'CGA_Production_Analysis_Workflow.MUTECT1_CW': 'this.MUTECT1_CW',\n",
       "  'CGA_Production_Analysis_Workflow.ice_pon_filter_passed_and_rejected_mutations': 'this.ice_pon_filter_passed_and_rejected_mutations',\n",
       "  'CGA_Production_Analysis_Workflow.cross_check_fingprt_metrics': 'this.cross_check_fingprt_metrics',\n",
       "  'CGA_Production_Analysis_Workflow.cross_check_fingprt_min_lod_lanes': 'this.cross_check_fingprt_min_lod_lanes',\n",
       "  'CGA_Production_Analysis_Workflow.normal_bam_converted_oxog_metrics': 'this.normal_bam_converted_oxog_metrics',\n",
       "  'CGA_Production_Analysis_Workflow.absolute_rdata': 'this.absolute_rdata',\n",
       "  'CGA_Production_Analysis_Workflow.normal_bam_lane_list': 'this.normal_bam_lane_list',\n",
       "  'CGA_Production_Analysis_Workflow.tumor_bam_insert_size_histogram': 'this.tumor_bam_insert_size_histogram',\n",
       "  'CGA_Production_Analysis_Workflow.strelka_all_snvs': 'this.strelka_all_snvs',\n",
       "  'CGA_Production_Analysis_Workflow.alleliccapseg_skew': 'this.alleliccapseg_skew',\n",
       "  'CGA_Production_Analysis_Workflow.normal_bam_base_distribution_by_cycle': 'this.normal_bam_base_distribution_by_cycle',\n",
       "  'CGA_Production_Analysis_Workflow.cross_check_fingprt_report': 'this.cross_check_fingprt_report',\n",
       "  'CGA_Production_Analysis_Workflow.agilent_pon_filter_number_mutations_rejected': 'this.agilent_pon_filter_number_mutations_rejected',\n",
       "  'CGA_Production_Analysis_Workflow.tumor_bam_gc_bias': 'this.tumor_bam_gc_bias',\n",
       "  'CGA_Production_Analysis_Workflow.deTiN_indels': 'this.deTiN_indels',\n",
       "  'CGA_Production_Analysis_Workflow.gatk_cnv_coverage_file': 'this.gatk_cnv_coverage_file',\n",
       "  'CGA_Production_Analysis_Workflow.tumor_bam_base_distribution_by_cycle_metrics': 'this.tumor_bam_base_distribution_by_cycle_metrics',\n",
       "  'CGA_Production_Analysis_Workflow.ffpe_OBF_number_mutations_passed': 'this.ffpe_OBF_number_mutations_passed',\n",
       "  'CGA_Production_Analysis_Workflow.ice_pon_filter_number_mutations_rejected': 'this.ice_pon_filter_number_mutations_rejected',\n",
       "  'CGA_Production_Analysis_Workflow.tumor_bam_quality_by_cycle_metrics': 'this.tumor_bam_quality_by_cycle_metrics',\n",
       "  'CGA_Production_Analysis_Workflow.tumor_bam_gc_bias_detail_metrics': 'this.tumor_bam_gc_bias_detail_metrics',\n",
       "  'CGA_Production_Analysis_Workflow.tumor_bam_bait_bias_detail_metrics': 'this.tumor_bam_bait_bias_detail_metrics',\n",
       "  'CGA_Production_Analysis_Workflow.deTiN_SSNVs_plot': 'this.deTiN_SSNVs_plot',\n",
       "  'CGA_Production_Analysis_Workflow.lego_plotter_pss': 'this.lego_plotter_pss',\n",
       "  'CGA_Production_Analysis_Workflow.tumor_bam_quality_distribution_metrics': 'this.tumor_bam_quality_distribution_metrics',\n",
       "  'CGA_Production_Analysis_Workflow.tumor_bam_hybrid_selection_metrics': 'this.tumor_bam_hybrid_selection_metrics',\n",
       "  'CGA_Production_Analysis_Workflow.normal_bam_quality_distribution': 'this.normal_bam_quality_distribution',\n",
       "  'CGA_Production_Analysis_Workflow.filters_passed_merged_union_maf': 'this.filters_passed_merged_union_maf',\n",
       "  'CGA_Production_Analysis_Workflow.normal_bam_pre_adapter_summary_metrics': 'this.normal_bam_pre_adapter_summary_metrics',\n",
       "  'CGA_Production_Analysis_Workflow.blat_number_mutations_rejected': 'this.blat_number_mutations_rejected',\n",
       "  'CGA_Production_Analysis_Workflow.contest_validation': 'this.contest_validation',\n",
       "  'CGA_Production_Analysis_Workflow.tumor_bam_quality_distribution': 'this.tumor_bam_quality_distribution',\n",
       "  'CGA_Production_Analysis_Workflow.TiN_CI': 'this.TiN_CI',\n",
       "  'CGA_Production_Analysis_Workflow.gatk_cnv_tn_coverage': 'this.gatk_cnv_tn_coverage',\n",
       "  'CGA_Production_Analysis_Workflow.normal_bam_bait_bias_summary_metrics': 'this.normal_bam_bait_bias_summary_metrics',\n",
       "  'CGA_Production_Analysis_Workflow.absolute_plot': 'this.absolute_plot',\n",
       "  'CGA_Production_Analysis_Workflow.gatk_cnv_pre_tn_coverage': 'this.gatk_cnv_pre_tn_coverage',\n",
       "  'CGA_Production_Analysis_Workflow.normal_bam_quality_by_cycle_metrics': 'this.normal_bam_quality_by_cycle_metrics',\n",
       "  'CGA_Production_Analysis_Workflow.alleliccapseg_plot': 'this.alleliccapseg_plot',\n",
       "  'CGA_Production_Analysis_Workflow.tumor_bam_quality_yield_metrics': 'this.tumor_bam_quality_yield_metrics',\n",
       "  'CGA_Production_Analysis_Workflow.normal_bam_bait_bias_detail_metrics': 'this.normal_bam_bait_bias_detail_metrics',\n",
       "  'CGA_Production_Analysis_Workflow.absolute_highres_plot': 'this.absolute_highres_plot',\n",
       "  'CGA_Production_Analysis_Workflow.mutect1_snv_mutect2_indel_strelka_indel_annotated_maf': 'this.mutect1_snv_mutect2_indel_strelka_indel_annotated_maf',\n",
       "  'CGA_Production_Analysis_Workflow.oxoG_OBF_passed_and_rejected_mutations': 'this.oxoG_OBF_passed_and_rejected_mutations',\n",
       "  'CGA_Production_Analysis_Workflow.MUTECT2_VEP_annotated_vcf': 'this.MUTECT2_VEP_annotated_vcf',\n",
       "  'CGA_Production_Analysis_Workflow.deTiN_TiN_modes_plot': 'this.deTiN_TiN_modes_plot',\n",
       "  'CGA_Production_Analysis_Workflow.normal_bam_alignment_summary_metrics': 'this.normal_bam_alignment_summary_metrics',\n",
       "  'CGA_Production_Analysis_Workflow.gatk_het_ad_normal': 'this.gatk_het_ad_normal',\n",
       "  'CGA_Production_Analysis_Workflow.normal_bam_pre_adapter_detail_metrics': 'this.normal_bam_pre_adapter_detail_metrics',\n",
       "  'CGA_Production_Analysis_Workflow.tumor_bam_pre_adapter_summary_metrics': 'this.tumor_bam_pre_adapter_summary_metrics',\n",
       "  'CGA_Production_Analysis_Workflow.tumor_bam_alignment_summary_metrics': 'this.tumor_bam_alignment_summary_metrics',\n",
       "  'CGA_Production_Analysis_Workflow.ffpe_OBF_figures': 'this.ffpe_OBF_figures',\n",
       "  'CGA_Production_Analysis_Workflow.gatk_het_ad_tumor': 'this.gatk_het_ad_tumor',\n",
       "  'CGA_Production_Analysis_Workflow.lego_plotter_ais': 'this.lego_plotter_ais',\n",
       "  'CGA_Production_Analysis_Workflow.copy_number_qc_mix_ups': 'this.copy_number_qc_mix_ups',\n",
       "  'CGA_Production_Analysis_Workflow.ice_pon_filter_number_mutations_passed': 'this.ice_pon_filter_number_mutations_passed',\n",
       "  'CGA_Production_Analysis_Workflow.deTiN_number_added_SSNVs': 'this.deTiN_number_added_SSNVs',\n",
       "  'CGA_Production_Analysis_Workflow.MUTECT2_VCF_INDELS': 'this.MUTECT2_VCF_INDELS',\n",
       "  'CGA_Production_Analysis_Workflow.tumor_bam_bam_validation': 'this.tumor_bam_bam_validation',\n",
       "  'CGA_Production_Analysis_Workflow.contestAFFile': 'this.contestAFFile',\n",
       "  'CGA_Production_Analysis_Workflow.tumor_bam_lane_list': 'this.tumor_bam_lane_list',\n",
       "  'CGA_Production_Analysis_Workflow.blat_passed_mutations': 'this.blat_passed_mutations',\n",
       "  'CGA_Production_Analysis_Workflow.deTiN_segments': 'this.deTiN_segments',\n",
       "  'CGA_Production_Analysis_Workflow.tumor_bam_quality_by_cycle': 'this.tumor_bam_quality_by_cycle',\n",
       "  'CGA_Production_Analysis_Workflow.oxoG_OBF_number_mutations_rejected': 'this.oxoG_OBF_number_mutations_rejected',\n",
       "  'CGA_Production_Analysis_Workflow.STRELKA_VEP_annotated_vcf': 'this.STRELKA_VEP_annotated_vcf',\n",
       "  'CGA_Production_Analysis_Workflow.ffpe_OBF_q_val': 'this.ffpe_OBF_q_val',\n",
       "  'CGA_Production_Analysis_Workflow.deTiN_aSCNA_kmeans_RSS_plot': 'this.deTiN_aSCNA_kmeans_RSS_plot',\n",
       "  'CGA_Production_Analysis_Workflow.ffpe_OBF_passed_mutations': 'this.ffpe_OBF_passed_mutations',\n",
       "  'CGA_Production_Analysis_Workflow.blat_number_mutations_passed': 'this.blat_number_mutations_passed',\n",
       "  'CGA_Production_Analysis_Workflow.oxoG_OBF_q_val': 'this.oxoG_OBF_q_val',\n",
       "  'CGA_Production_Analysis_Workflow.mutect_force_call_cw': 'this.mutect_force_call_cw',\n",
       "  'CGA_Production_Analysis_Workflow.normal_bam_quality_by_cycle': 'this.normal_bam_quality_by_cycle',\n",
       "  'CGA_Production_Analysis_Workflow.normal_bam_bam_validation': 'this.normal_bam_bam_validation',\n",
       "  'CGA_Production_Analysis_Workflow.tumor_bam_gc_bias_summary_metrics': 'this.tumor_bam_gc_bias_summary_metrics',\n",
       "  'CGA_Production_Analysis_Workflow.strelka_passed_snvs': 'this.strelka_passed_snvs',\n",
       "  'CGA_Production_Analysis_Workflow.oxoG_OBF_figures': 'this.oxoG_OBF_figures',\n",
       "  'CGA_Production_Analysis_Workflow.mutect_force_call_cs': 'this.mutect_force_call_cs',\n",
       "  'CGA_Production_Analysis_Workflow.cross_check_fingprt_min_lod_value': 'this.cross_check_fingprt_min_lod_value',\n",
       "  'CGA_Production_Analysis_Workflow.deTiN_call_stats': 'this.deTiN_call_stats',\n",
       "  'CGA_Production_Analysis_Workflow.tumor_bam_bait_bias_summary_metrics': 'this.tumor_bam_bait_bias_summary_metrics',\n",
       "  'CGA_Production_Analysis_Workflow.tumor_bam_read_coverage_lane': 'this.tumor_bam_read_coverage_lane',\n",
       "  'CGA_Production_Analysis_Workflow.normal_bam_quality_distribution_metrics': 'this.normal_bam_quality_distribution_metrics',\n",
       "  'CGA_Production_Analysis_Workflow.TiN': 'this.TiN',\n",
       "  'CGA_Production_Analysis_Workflow.tumor_bam_insert_size_metrics': 'this.tumor_bam_insert_size_metrics',\n",
       "  'CGA_Production_Analysis_Workflow.copy_number_qc_report': 'this.copy_number_qc_report',\n",
       "  'CGA_Production_Analysis_Workflow.tumor_bam_converted_oxog_metrics': 'this.tumor_bam_converted_oxog_metrics',\n",
       "  'CGA_Production_Analysis_Workflow.normal_bam_read_coverage_lane': 'this.normal_bam_read_coverage_lane',\n",
       "  'CGA_Production_Analysis_Workflow.ffpe_OBF_passed_and_rejected_mutations': 'this.ffpe_OBF_passed_and_rejected_mutations',\n",
       "  'CGA_Production_Analysis_Workflow.gatk_cnv_all_plots': 'this.gatk_cnv_all_plots'},\n",
       " 'prerequisites': {},\n",
       " 'rootEntityType': 'sample'}"
      ]
     },
     "execution_count": 44,
     "metadata": {},
     "output_type": "execute_result"
    }
   ],
   "source": [
    "CGAmutations = refwm.get_config(\"ICE_CGA_Production_Analysis_Pipeline_Cell_Lines\")\n",
    "CGAmutations"
   ]
  },
  {
   "cell_type": "code",
   "execution_count": null,
   "metadata": {},
   "outputs": [],
   "source": [
    "refwm.update_config(CGAmutations)\n",
    "submission_id = refwm.create_submission(CGAmutations['name'], samplesetname,'sample_set',expression='this.samples')"
   ]
  },
  {
   "cell_type": "code",
   "execution_count": null,
   "metadata": {},
   "outputs": [],
   "source": [
    "wait_for_submission(refwm, submission_id1)"
   ]
  },
  {
   "cell_type": "code",
   "execution_count": null,
   "metadata": {},
   "outputs": [],
   "source": [
    "filtercommonvar = refwm.get_config(\"common_variant_filter\")\n",
    "filtercommonvar"
   ]
  },
  {
   "cell_type": "code",
   "execution_count": null,
   "metadata": {},
   "outputs": [],
   "source": [
    "refwm.update_config(filtercommonvar)\n",
    "submission_id = refwm.create_submission(filtercommonvar['name'], samplesetname,'sample_set',expression='this.samples')"
   ]
  },
  {
   "cell_type": "code",
   "execution_count": null,
   "metadata": {},
   "outputs": [],
   "source": [
    "wait_for_submission(refwm, submission_id1)"
   ]
  },
  {
   "cell_type": "code",
   "execution_count": null,
   "metadata": {},
   "outputs": [],
   "source": [
    "filtermaf = refwm.get_config(\"filterMAF_on_CGA_pipeline\")\n",
    "filtermaf"
   ]
  },
  {
   "cell_type": "code",
   "execution_count": null,
   "metadata": {},
   "outputs": [],
   "source": [
    "refwm.update_config(filtermaf)\n",
    "submission_id = refwm.create_submission(filtermaf['name'], samplesetname,'sample_set',expression='this.samples')"
   ]
  },
  {
   "cell_type": "code",
   "execution_count": null,
   "metadata": {},
   "outputs": [],
   "source": [
    "wait_for_submission(refwm, submission_id1)"
   ]
  },
  {
   "cell_type": "code",
   "execution_count": null,
   "metadata": {},
   "outputs": [],
   "source": [
    "aggregate = refwm.get_config(\"aggregateMAFs_selectFields\")\n",
    "aggregate"
   ]
  },
  {
   "cell_type": "code",
   "execution_count": null,
   "metadata": {},
   "outputs": [],
   "source": [
    "refwm.update_config(aggregate)\n",
    "submission_id = refwm.create_submission(aggregate['name'], samplesetname,'sample_set',expression='this.samples')"
   ]
  },
  {
   "cell_type": "code",
   "execution_count": null,
   "metadata": {},
   "outputs": [],
   "source": [
    "wait_for_submission(refwm, submission_id1)"
   ]
  },
  {
   "cell_type": "code",
   "execution_count": null,
   "metadata": {},
   "outputs": [],
   "source": [
    "%load_ext rpy2.ipython\n",
    "release = sample_set_id"
   ]
  },
  {
   "cell_type": "code",
   "execution_count": null,
   "metadata": {},
   "outputs": [],
   "source": [
    "%%R\n",
    "release <- '19Q3interim'"
   ]
  },
  {
   "cell_type": "code",
   "execution_count": null,
   "metadata": {},
   "outputs": [],
   "source": [
    "%%R\n",
    "source('../JKBio/gkugener/RScripts/load_libraries_and_annotations.R')\n",
    "load('../JKBio/gkugener/DM_OMICS/Annotations.RData') \n",
    "# There are some cell lines the celllinemapr does not know how to map so we need to load this data object for now (from old datasets)\n",
    "\n"
   ]
  },
  {
   "cell_type": "code",
   "execution_count": null,
   "metadata": {},
   "outputs": [],
   "source": [
    "%%R\n",
    "source('CCLE_postp_function.R')"
   ]
  },
  {
   "cell_type": "code",
   "execution_count": null,
   "metadata": {},
   "outputs": [],
   "source": [
    "res = refwm.get_sample_sets().loc[samplesetname]\n",
    "res = res['']\n",
    "! gsutil cp $res \"temp/mutation.mergedmaf.txt\"\n"
   ]
  },
  {
   "cell_type": "code",
   "execution_count": null,
   "metadata": {},
   "outputs": [],
   "source": []
  },
  {
   "cell_type": "code",
   "execution_count": null,
   "metadata": {},
   "outputs": [],
   "source": []
  },
  {
   "cell_type": "code",
   "execution_count": null,
   "metadata": {},
   "outputs": [],
   "source": [
    "%%R\n",
    "li"
   ]
  },
  {
   "cell_type": "code",
   "execution_count": null,
   "metadata": {},
   "outputs": [],
   "source": [
    "from taigapy import TaigaClient\n",
    "\n",
    "tc = TaigaClient()\n",
    "tc.update_dataset(dataset_permaname=\"depmap-fusions-7990\",\n",
    "                 upload_file_path_dict={'temp/fusions.'+release+'.filtered.tsv': 'TableTSV',\n",
    "                                        'temp/fusions.'+release+'.unfiltered.tsv': 'TableTSV'},\n",
    "                 dataset_description=\"Updating to \"+release,\n",
    "                 force_remove=True)"
   ]
  }
 ],
 "metadata": {
  "kernelspec": {
   "display_name": "Python 3",
   "language": "python",
   "name": "python3"
  },
  "language_info": {
   "codemirror_mode": {
    "name": "ipython",
    "version": 3
   },
   "file_extension": ".py",
   "mimetype": "text/x-python",
   "name": "python",
   "nbconvert_exporter": "python",
   "pygments_lexer": "ipython3",
   "version": "3.7.3"
  }
 },
 "nbformat": 4,
 "nbformat_minor": 2
}
