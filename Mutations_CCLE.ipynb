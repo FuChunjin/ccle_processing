{
 "cells": [
  {
   "cell_type": "code",
   "execution_count": 39,
   "metadata": {},
   "outputs": [
    {
     "name": "stdout",
     "output_type": "stream",
     "text": [
      "The autoreload extension is already loaded. To reload it, use:\n",
      "  %reload_ext autoreload\n",
      "The rpy2.ipython extension is already loaded. To reload it, use:\n",
      "  %reload_ext rpy2.ipython\n"
     ]
    }
   ],
   "source": [
    "from __future__ import print_function\n",
    "import os.path\n",
    "import dalmatian as dm\n",
    "import pandas as pd\n",
    "import sys\n",
    "from CCLE_postp_function import *\n",
    "sys.path.insert(0, '../JKBio/')\n",
    "import Datanalytics as da \n",
    "import TerraFunction as terra\n",
    "%load_ext autoreload\n",
    "%autoreload 2\n",
    "%load_ext rpy2.ipython\n",
    "from taigapy import TaigaClient\n",
    "tc = TaigaClient()\n",
    "import numpy as np"
   ]
  },
  {
   "cell_type": "code",
   "execution_count": 3,
   "metadata": {},
   "outputs": [],
   "source": [
    "namespace=\"broad-genomics-delivery\"\n",
    "workspace=\"Getz_IBM_CellLines_Exomes\"\n",
    "refnamespace=\"broad-firecloud-ccle\"\n",
    "refworkspace=\"DepMap_Mutation_Calling_CGA_pipeline\"\n",
    "source=\"ibm\"\n",
    "samplesetname = \"19Q3interim\"\n",
    "release = samplesetname"
   ]
  },
  {
   "cell_type": "code",
   "execution_count": 4,
   "metadata": {},
   "outputs": [],
   "source": [
    "wm = dm.WorkspaceManager(namespace, workspace)\n",
    "refwm = dm.WorkspaceManager(refnamespace, refworkspace)"
   ]
  },
  {
   "cell_type": "code",
   "execution_count": 47,
   "metadata": {},
   "outputs": [
    {
     "name": "stderr",
     "output_type": "stream",
     "text": [
      "/home/jeremie/ccle_processing/CCLE_postp_function.py:20: UserWarning: Boolean Series key will be reindexed to match DataFrame index.\n",
      "  samples = wfrom.get_samples()\n"
     ]
    },
    {
     "name": "stdout",
     "output_type": "stream",
     "text": [
      "uploading new samples\n",
      "Successfully imported 1576 participants.\n",
      "Updating many hound records. Switching to batch updates\n",
      "Hound executing batch upload of 2 records\n",
      "Successfully imported 1801 samples.\n",
      "Updating many hound records. Switching to batch updates\n",
      "Hound executing batch upload of 655566 records\n",
      "creating a sample set\n",
      "Successfully imported 1 sample sets:\n",
      "  * 19Q3interim (1 samples)\n"
     ]
    }
   ],
   "source": [
    "CreateDatasetWithNewCellLines(wm,refwm, source, samplesetname)"
   ]
  },
  {
   "cell_type": "markdown",
   "metadata": {},
   "source": [
    "# Run the pipeline"
   ]
  },
  {
   "cell_type": "code",
   "execution_count": 44,
   "metadata": {},
   "outputs": [
    {
     "data": {
      "text/plain": [
       "{'deleted': False,\n",
       " 'inputs': {'CGA_Production_Analysis_Workflow.CrossCheckLaneFingerprints_Task.HaplotypeDBForCrossCheck': 'workspace.HAP_DB_FOR_CC',\n",
       "  'CGA_Production_Analysis_Workflow.gatk_acnv_only.one_thousand_genomes_common_variants_minor_allele_freq_five': 'workspace.COMMON_VARIANTS_1000_GENOMES',\n",
       "  'CGA_Production_Analysis_Workflow.VEP_Task.GNOMAD_FILE_IDX': 'workspace.GNOMAD_IDX',\n",
       "  'CGA_Production_Analysis_Workflow.lego_plotter_task.mut_categs': 'workspace.MUT_CATEGORIES',\n",
       "  'CGA_Production_Analysis_Workflow.MutectFC_Task.mutectIntervals': 'workspace.MUTECT_FC_INTERVALS',\n",
       "  'CGA_Production_Analysis_Workflow.hasPicardMetrics_normal': '',\n",
       "  'CGA_Production_Analysis_Workflow.DB_SNP_VCF_IDX': 'workspace.DB_SNP_VCF_IDX',\n",
       "  'CGA_Production_Analysis_Workflow.iceMAFPonFilter.PONFile': 'workspace.ICE_TOKEN_PON',\n",
       "  'CGA_Production_Analysis_Workflow.ctrlName': '\"CCLF_RCRF1009-Normal-SM-F3R8L\"',\n",
       "  'CGA_Production_Analysis_Workflow.targetIntervals': 'workspace.ILLUMINA_TARGET_INTERVALS',\n",
       "  'CGA_Production_Analysis_Workflow.readGroupBlackList': 'workspace.READ_GROUP_BLACKLIST',\n",
       "  'CGA_Production_Analysis_Workflow.ContEST_Task.SNP6Bed': 'workspace.SNP6BED',\n",
       "  'CGA_Production_Analysis_Workflow.blat.hg19_bit': 'workspace.BLAT_REALIGNER_HG19_BIT',\n",
       "  'CGA_Production_Analysis_Workflow.CopyNumberReportQC_Task.captureNormalsDBRCLZip': 'workspace.CAP_NORM_DB_ZIP',\n",
       "  'CGA_Production_Analysis_Workflow.gatk_acnv_only.PoN': 'workspace.ACNV_PON',\n",
       "  'CGA_Production_Analysis_Workflow.hasPicardMetrics_tumor': '',\n",
       "  'CGA_Production_Analysis_Workflow.ContEST_Task.HapMapVCF': 'workspace.HAP_MAP_VCF',\n",
       "  'CGA_Production_Analysis_Workflow.cga_pipeline_config': 'workspace.CGA_PIPELINE_CONFIG',\n",
       "  'CGA_Production_Analysis_Workflow.DeTiN_Task.exac_pickle': 'workspace.EXAC_PICKLE',\n",
       "  'CGA_Production_Analysis_Workflow.VEP_Task.VEP_File': 'workspace.VEP_ZIP_FILE',\n",
       "  'CGA_Production_Analysis_Workflow.Strelka.config': 'workspace.STRELKA_CONFIG',\n",
       "  'CGA_Production_Analysis_Workflow.GATK4_JAR': 'workspace.GATK4_JAR',\n",
       "  'CGA_Production_Analysis_Workflow.Oncotate_Task.oncoDBTarBall': 'workspace.ONCO_TARBALL',\n",
       "  'CGA_Production_Analysis_Workflow.baitIntervals': 'workspace.ILLUMINA_BAIT_INTERVALS',\n",
       "  'CGA_Production_Analysis_Workflow.refFastaDict': 'workspace.REF_FASTA_DICT',\n",
       "  'CGA_Production_Analysis_Workflow.mutation_validator.tumorRNABamIdx': '',\n",
       "  'CGA_Production_Analysis_Workflow.refFastaIdx': 'workspace.REF_FASTA_IDX',\n",
       "  'CGA_Production_Analysis_Workflow.cosmicVCF': 'workspace.COSMIC_VCF',\n",
       "  'CGA_Production_Analysis_Workflow.DB_SNP_VCF': 'workspace.DB_SNP_VCF',\n",
       "  'CGA_Production_Analysis_Workflow.gatk_acnv_only.gatk_protected': 'workspace.GATK_PROTECTED_JAR',\n",
       "  'CGA_Production_Analysis_Workflow.VEP_Task.GNOMAD_FILE': 'workspace.GNOMAD',\n",
       "  'CGA_Production_Analysis_Workflow.tumorBamIdx': 'this.WES_bai',\n",
       "  'CGA_Production_Analysis_Workflow.normalPanel': 'workspace.KGENOMES_NORMAL_PANEL_VCF',\n",
       "  'CGA_Production_Analysis_Workflow.tumorBam': 'this.WES_bam',\n",
       "  'CGA_Production_Analysis_Workflow.normalBam': '\"gs://fc-38a1a377-72c6-4e90-917f-e4bb709b8f2c/CCLF_RCRF1009-Normal-SM-F3R8L/seq_data_v2/CCLF_RCRF1009GL.bam\"',\n",
       "  'CGA_Production_Analysis_Workflow.caseName': 'this.name',\n",
       "  'CGA_Production_Analysis_Workflow.normalBamIdx': '\"gs://fc-38a1a377-72c6-4e90-917f-e4bb709b8f2c/CCLF_RCRF1009-Normal-SM-F3R8L/seq_data_v2/CCLF_RCRF1009GL.bai\"',\n",
       "  'CGA_Production_Analysis_Workflow.pairName': 'this.name',\n",
       "  'CGA_Production_Analysis_Workflow.refFasta': 'workspace.REF_FASTA',\n",
       "  'CGA_Production_Analysis_Workflow.forceComputePicardMetrics_normal': '',\n",
       "  'CGA_Production_Analysis_Workflow.mutation_validator.tumorRNABam': '',\n",
       "  'CGA_Production_Analysis_Workflow.VEP_Task.oncoDBTarBall_JustRef': 'workspace.ONCO_TAR_HGREF',\n",
       "  'CGA_Production_Analysis_Workflow.gatk_acnv_only.common_snp_list': 'workspace.GOOD_HETS',\n",
       "  'CGA_Production_Analysis_Workflow.runDeTiN': '',\n",
       "  'CGA_Production_Analysis_Workflow.agilentMAFPonFilter.PONFile': 'workspace.AGILENT_TOKEN_PON',\n",
       "  'CGA_Production_Analysis_Workflow.forceComputePicardMetrics_tumor': '',\n",
       "  'CGA_Production_Analysis_Workflow.cytoBandFile': 'workspace.CYTO_BAND',\n",
       "  'CGA_Production_Analysis_Workflow.CopyNumberReportQC_Task.regionFile': 'workspace.REGION_FILE'},\n",
       " 'methodConfigVersion': 3,\n",
       " 'methodRepoMethod': {'methodName': 'CGA_Production_Analysis_Pipeline_Cell_Lines_debugging',\n",
       "  'methodVersion': 22,\n",
       "  'methodNamespace': 'cclf',\n",
       "  'methodUri': 'agora://cclf/CGA_Production_Analysis_Pipeline_Cell_Lines_debugging/22',\n",
       "  'sourceRepo': 'agora'},\n",
       " 'name': 'ICE_CGA_Production_Analysis_Pipeline_Cell_Lines',\n",
       " 'namespace': 'cclf',\n",
       " 'outputs': {'CGA_Production_Analysis_Workflow.filters_passed_merged_intersection_maf': 'this.filters_passed_merged_intersection_maf',\n",
       "  'CGA_Production_Analysis_Workflow.agilent_pon_filter_passed_mutations': 'this.agilent_pon_filter_passed_mutations',\n",
       "  'CGA_Production_Analysis_Workflow.normal_bam_base_distribution_by_cycle_metrics': 'this.normal_bam_base_distribution_by_cycle_metrics',\n",
       "  'CGA_Production_Analysis_Workflow.mut_legos_html': 'this.mut_legos_html',\n",
       "  'CGA_Production_Analysis_Workflow.oxoG_OBF_number_mutations_passed': 'this.oxoG_OBF_number_mutations_passed',\n",
       "  'CGA_Production_Analysis_Workflow.strelka_passed_indels': 'this.strelka_passed_indels',\n",
       "  'CGA_Production_Analysis_Workflow.deTiN_aSCNA_model': 'this.deTiN_aSCNA_model',\n",
       "  'CGA_Production_Analysis_Workflow.oxoG_OBF_passed_mutations': 'this.oxoG_OBF_passed_mutations',\n",
       "  'CGA_Production_Analysis_Workflow.normal_bam_hybrid_selection_metrics': 'this.normal_bam_hybrid_selection_metrics',\n",
       "  'CGA_Production_Analysis_Workflow.ffpe_OBF_number_mutations_rejected': 'this.ffpe_OBF_number_mutations_rejected',\n",
       "  'CGA_Production_Analysis_Workflow.normal_bam_insert_size_metrics': 'this.normal_bam_insert_size_metrics',\n",
       "  'CGA_Production_Analysis_Workflow.MUTECT1_VEP_annotated_vcf': 'this.MUTECT1_VEP_annotated_vcf',\n",
       "  'CGA_Production_Analysis_Workflow.lego_plotter_pngs': 'this.lego_plotter_pngs',\n",
       "  'CGA_Production_Analysis_Workflow.contest_base_report': 'this.contest_base_report',\n",
       "  'CGA_Production_Analysis_Workflow.normal_bam_quality_yield_metrics': 'this.normal_bam_quality_yield_metrics',\n",
       "  'CGA_Production_Analysis_Workflow.agilent_pon_filter_passed_and_rejected_mutations': 'this.agilent_pon_filter_passed_and_rejected_mutations',\n",
       "  'CGA_Production_Analysis_Workflow.strelka_all_indels': 'this.strelka_all_indels',\n",
       "  'CGA_Production_Analysis_Workflow.mutect_force_call_pw': 'this.mutect_force_call_pw',\n",
       "  'CGA_Production_Analysis_Workflow.agilent_pon_filter_number_mutations_passed': 'this.agilent_pon_filter_number_mutations_passed',\n",
       "  'CGA_Production_Analysis_Workflow.gatk_cnv_seg_file': 'this.gatk_cnv_seg_file',\n",
       "  'CGA_Production_Analysis_Workflow.tumor_bam_base_distribution_by_cycle': 'this.tumor_bam_base_distribution_by_cycle',\n",
       "  'CGA_Production_Analysis_Workflow.ice_pon_filter_passed_mutations': 'this.ice_pon_filter_passed_mutations',\n",
       "  'CGA_Production_Analysis_Workflow.normal_bam_gc_bias_summary_metrics': 'this.normal_bam_gc_bias_summary_metrics',\n",
       "  'CGA_Production_Analysis_Workflow.normal_bam_insert_size_histogram': 'this.normal_bam_insert_size_histogram',\n",
       "  'CGA_Production_Analysis_Workflow.normal_bam_gc_bias': 'this.normal_bam_gc_bias',\n",
       "  'CGA_Production_Analysis_Workflow.MUTECT2_VCF_ALL': 'this.MUTECT2_VCF_ALL',\n",
       "  'CGA_Production_Analysis_Workflow.normal_bam_gc_bias_detail_metrics': 'this.normal_bam_gc_bias_detail_metrics',\n",
       "  'CGA_Production_Analysis_Workflow.tumor_bam_pre_adapter_detail_metrics': 'this.tumor_bam_pre_adapter_detail_metrics',\n",
       "  'CGA_Production_Analysis_Workflow.deTiN_aSCNA_scatter_plot': 'this.deTiN_aSCNA_scatter_plot',\n",
       "  'CGA_Production_Analysis_Workflow.contamination_data': 'this.contamination_data',\n",
       "  'CGA_Production_Analysis_Workflow.blat_all_maf': 'this.blat_all_maf',\n",
       "  'CGA_Production_Analysis_Workflow.MUTECT1_CS_SNV': 'this.MUTECT1_CS_SNV',\n",
       "  'CGA_Production_Analysis_Workflow.fracContam': 'this.fracContam',\n",
       "  'CGA_Production_Analysis_Workflow.mutation_validator_validated_maf': 'this.mutation_validator_validated_maf',\n",
       "  'CGA_Production_Analysis_Workflow.alleliccapseg_tsv': 'this.alleliccapseg_tsv',\n",
       "  'CGA_Production_Analysis_Workflow.copy_number_qc_report_png': 'this.copy_number_qc_report_png',\n",
       "  'CGA_Production_Analysis_Workflow.lego_plotter_figs': 'this.lego_plotter_figs',\n",
       "  'CGA_Production_Analysis_Workflow.MUTECT1_CW': 'this.MUTECT1_CW',\n",
       "  'CGA_Production_Analysis_Workflow.ice_pon_filter_passed_and_rejected_mutations': 'this.ice_pon_filter_passed_and_rejected_mutations',\n",
       "  'CGA_Production_Analysis_Workflow.cross_check_fingprt_metrics': 'this.cross_check_fingprt_metrics',\n",
       "  'CGA_Production_Analysis_Workflow.cross_check_fingprt_min_lod_lanes': 'this.cross_check_fingprt_min_lod_lanes',\n",
       "  'CGA_Production_Analysis_Workflow.normal_bam_converted_oxog_metrics': 'this.normal_bam_converted_oxog_metrics',\n",
       "  'CGA_Production_Analysis_Workflow.absolute_rdata': 'this.absolute_rdata',\n",
       "  'CGA_Production_Analysis_Workflow.normal_bam_lane_list': 'this.normal_bam_lane_list',\n",
       "  'CGA_Production_Analysis_Workflow.tumor_bam_insert_size_histogram': 'this.tumor_bam_insert_size_histogram',\n",
       "  'CGA_Production_Analysis_Workflow.strelka_all_snvs': 'this.strelka_all_snvs',\n",
       "  'CGA_Production_Analysis_Workflow.alleliccapseg_skew': 'this.alleliccapseg_skew',\n",
       "  'CGA_Production_Analysis_Workflow.normal_bam_base_distribution_by_cycle': 'this.normal_bam_base_distribution_by_cycle',\n",
       "  'CGA_Production_Analysis_Workflow.cross_check_fingprt_report': 'this.cross_check_fingprt_report',\n",
       "  'CGA_Production_Analysis_Workflow.agilent_pon_filter_number_mutations_rejected': 'this.agilent_pon_filter_number_mutations_rejected',\n",
       "  'CGA_Production_Analysis_Workflow.tumor_bam_gc_bias': 'this.tumor_bam_gc_bias',\n",
       "  'CGA_Production_Analysis_Workflow.deTiN_indels': 'this.deTiN_indels',\n",
       "  'CGA_Production_Analysis_Workflow.gatk_cnv_coverage_file': 'this.gatk_cnv_coverage_file',\n",
       "  'CGA_Production_Analysis_Workflow.tumor_bam_base_distribution_by_cycle_metrics': 'this.tumor_bam_base_distribution_by_cycle_metrics',\n",
       "  'CGA_Production_Analysis_Workflow.ffpe_OBF_number_mutations_passed': 'this.ffpe_OBF_number_mutations_passed',\n",
       "  'CGA_Production_Analysis_Workflow.ice_pon_filter_number_mutations_rejected': 'this.ice_pon_filter_number_mutations_rejected',\n",
       "  'CGA_Production_Analysis_Workflow.tumor_bam_quality_by_cycle_metrics': 'this.tumor_bam_quality_by_cycle_metrics',\n",
       "  'CGA_Production_Analysis_Workflow.tumor_bam_gc_bias_detail_metrics': 'this.tumor_bam_gc_bias_detail_metrics',\n",
       "  'CGA_Production_Analysis_Workflow.tumor_bam_bait_bias_detail_metrics': 'this.tumor_bam_bait_bias_detail_metrics',\n",
       "  'CGA_Production_Analysis_Workflow.deTiN_SSNVs_plot': 'this.deTiN_SSNVs_plot',\n",
       "  'CGA_Production_Analysis_Workflow.lego_plotter_pss': 'this.lego_plotter_pss',\n",
       "  'CGA_Production_Analysis_Workflow.tumor_bam_quality_distribution_metrics': 'this.tumor_bam_quality_distribution_metrics',\n",
       "  'CGA_Production_Analysis_Workflow.tumor_bam_hybrid_selection_metrics': 'this.tumor_bam_hybrid_selection_metrics',\n",
       "  'CGA_Production_Analysis_Workflow.normal_bam_quality_distribution': 'this.normal_bam_quality_distribution',\n",
       "  'CGA_Production_Analysis_Workflow.filters_passed_merged_union_maf': 'this.filters_passed_merged_union_maf',\n",
       "  'CGA_Production_Analysis_Workflow.normal_bam_pre_adapter_summary_metrics': 'this.normal_bam_pre_adapter_summary_metrics',\n",
       "  'CGA_Production_Analysis_Workflow.blat_number_mutations_rejected': 'this.blat_number_mutations_rejected',\n",
       "  'CGA_Production_Analysis_Workflow.contest_validation': 'this.contest_validation',\n",
       "  'CGA_Production_Analysis_Workflow.tumor_bam_quality_distribution': 'this.tumor_bam_quality_distribution',\n",
       "  'CGA_Production_Analysis_Workflow.TiN_CI': 'this.TiN_CI',\n",
       "  'CGA_Production_Analysis_Workflow.gatk_cnv_tn_coverage': 'this.gatk_cnv_tn_coverage',\n",
       "  'CGA_Production_Analysis_Workflow.normal_bam_bait_bias_summary_metrics': 'this.normal_bam_bait_bias_summary_metrics',\n",
       "  'CGA_Production_Analysis_Workflow.absolute_plot': 'this.absolute_plot',\n",
       "  'CGA_Production_Analysis_Workflow.gatk_cnv_pre_tn_coverage': 'this.gatk_cnv_pre_tn_coverage',\n",
       "  'CGA_Production_Analysis_Workflow.normal_bam_quality_by_cycle_metrics': 'this.normal_bam_quality_by_cycle_metrics',\n",
       "  'CGA_Production_Analysis_Workflow.alleliccapseg_plot': 'this.alleliccapseg_plot',\n",
       "  'CGA_Production_Analysis_Workflow.tumor_bam_quality_yield_metrics': 'this.tumor_bam_quality_yield_metrics',\n",
       "  'CGA_Production_Analysis_Workflow.normal_bam_bait_bias_detail_metrics': 'this.normal_bam_bait_bias_detail_metrics',\n",
       "  'CGA_Production_Analysis_Workflow.absolute_highres_plot': 'this.absolute_highres_plot',\n",
       "  'CGA_Production_Analysis_Workflow.mutect1_snv_mutect2_indel_strelka_indel_annotated_maf': 'this.mutect1_snv_mutect2_indel_strelka_indel_annotated_maf',\n",
       "  'CGA_Production_Analysis_Workflow.oxoG_OBF_passed_and_rejected_mutations': 'this.oxoG_OBF_passed_and_rejected_mutations',\n",
       "  'CGA_Production_Analysis_Workflow.MUTECT2_VEP_annotated_vcf': 'this.MUTECT2_VEP_annotated_vcf',\n",
       "  'CGA_Production_Analysis_Workflow.deTiN_TiN_modes_plot': 'this.deTiN_TiN_modes_plot',\n",
       "  'CGA_Production_Analysis_Workflow.normal_bam_alignment_summary_metrics': 'this.normal_bam_alignment_summary_metrics',\n",
       "  'CGA_Production_Analysis_Workflow.gatk_het_ad_normal': 'this.gatk_het_ad_normal',\n",
       "  'CGA_Production_Analysis_Workflow.normal_bam_pre_adapter_detail_metrics': 'this.normal_bam_pre_adapter_detail_metrics',\n",
       "  'CGA_Production_Analysis_Workflow.tumor_bam_pre_adapter_summary_metrics': 'this.tumor_bam_pre_adapter_summary_metrics',\n",
       "  'CGA_Production_Analysis_Workflow.tumor_bam_alignment_summary_metrics': 'this.tumor_bam_alignment_summary_metrics',\n",
       "  'CGA_Production_Analysis_Workflow.ffpe_OBF_figures': 'this.ffpe_OBF_figures',\n",
       "  'CGA_Production_Analysis_Workflow.gatk_het_ad_tumor': 'this.gatk_het_ad_tumor',\n",
       "  'CGA_Production_Analysis_Workflow.lego_plotter_ais': 'this.lego_plotter_ais',\n",
       "  'CGA_Production_Analysis_Workflow.copy_number_qc_mix_ups': 'this.copy_number_qc_mix_ups',\n",
       "  'CGA_Production_Analysis_Workflow.ice_pon_filter_number_mutations_passed': 'this.ice_pon_filter_number_mutations_passed',\n",
       "  'CGA_Production_Analysis_Workflow.deTiN_number_added_SSNVs': 'this.deTiN_number_added_SSNVs',\n",
       "  'CGA_Production_Analysis_Workflow.MUTECT2_VCF_INDELS': 'this.MUTECT2_VCF_INDELS',\n",
       "  'CGA_Production_Analysis_Workflow.tumor_bam_bam_validation': 'this.tumor_bam_bam_validation',\n",
       "  'CGA_Production_Analysis_Workflow.contestAFFile': 'this.contestAFFile',\n",
       "  'CGA_Production_Analysis_Workflow.tumor_bam_lane_list': 'this.tumor_bam_lane_list',\n",
       "  'CGA_Production_Analysis_Workflow.blat_passed_mutations': 'this.blat_passed_mutations',\n",
       "  'CGA_Production_Analysis_Workflow.deTiN_segments': 'this.deTiN_segments',\n",
       "  'CGA_Production_Analysis_Workflow.tumor_bam_quality_by_cycle': 'this.tumor_bam_quality_by_cycle',\n",
       "  'CGA_Production_Analysis_Workflow.oxoG_OBF_number_mutations_rejected': 'this.oxoG_OBF_number_mutations_rejected',\n",
       "  'CGA_Production_Analysis_Workflow.STRELKA_VEP_annotated_vcf': 'this.STRELKA_VEP_annotated_vcf',\n",
       "  'CGA_Production_Analysis_Workflow.ffpe_OBF_q_val': 'this.ffpe_OBF_q_val',\n",
       "  'CGA_Production_Analysis_Workflow.deTiN_aSCNA_kmeans_RSS_plot': 'this.deTiN_aSCNA_kmeans_RSS_plot',\n",
       "  'CGA_Production_Analysis_Workflow.ffpe_OBF_passed_mutations': 'this.ffpe_OBF_passed_mutations',\n",
       "  'CGA_Production_Analysis_Workflow.blat_number_mutations_passed': 'this.blat_number_mutations_passed',\n",
       "  'CGA_Production_Analysis_Workflow.oxoG_OBF_q_val': 'this.oxoG_OBF_q_val',\n",
       "  'CGA_Production_Analysis_Workflow.mutect_force_call_cw': 'this.mutect_force_call_cw',\n",
       "  'CGA_Production_Analysis_Workflow.normal_bam_quality_by_cycle': 'this.normal_bam_quality_by_cycle',\n",
       "  'CGA_Production_Analysis_Workflow.normal_bam_bam_validation': 'this.normal_bam_bam_validation',\n",
       "  'CGA_Production_Analysis_Workflow.tumor_bam_gc_bias_summary_metrics': 'this.tumor_bam_gc_bias_summary_metrics',\n",
       "  'CGA_Production_Analysis_Workflow.strelka_passed_snvs': 'this.strelka_passed_snvs',\n",
       "  'CGA_Production_Analysis_Workflow.oxoG_OBF_figures': 'this.oxoG_OBF_figures',\n",
       "  'CGA_Production_Analysis_Workflow.mutect_force_call_cs': 'this.mutect_force_call_cs',\n",
       "  'CGA_Production_Analysis_Workflow.cross_check_fingprt_min_lod_value': 'this.cross_check_fingprt_min_lod_value',\n",
       "  'CGA_Production_Analysis_Workflow.deTiN_call_stats': 'this.deTiN_call_stats',\n",
       "  'CGA_Production_Analysis_Workflow.tumor_bam_bait_bias_summary_metrics': 'this.tumor_bam_bait_bias_summary_metrics',\n",
       "  'CGA_Production_Analysis_Workflow.tumor_bam_read_coverage_lane': 'this.tumor_bam_read_coverage_lane',\n",
       "  'CGA_Production_Analysis_Workflow.normal_bam_quality_distribution_metrics': 'this.normal_bam_quality_distribution_metrics',\n",
       "  'CGA_Production_Analysis_Workflow.TiN': 'this.TiN',\n",
       "  'CGA_Production_Analysis_Workflow.tumor_bam_insert_size_metrics': 'this.tumor_bam_insert_size_metrics',\n",
       "  'CGA_Production_Analysis_Workflow.copy_number_qc_report': 'this.copy_number_qc_report',\n",
       "  'CGA_Production_Analysis_Workflow.tumor_bam_converted_oxog_metrics': 'this.tumor_bam_converted_oxog_metrics',\n",
       "  'CGA_Production_Analysis_Workflow.normal_bam_read_coverage_lane': 'this.normal_bam_read_coverage_lane',\n",
       "  'CGA_Production_Analysis_Workflow.ffpe_OBF_passed_and_rejected_mutations': 'this.ffpe_OBF_passed_and_rejected_mutations',\n",
       "  'CGA_Production_Analysis_Workflow.gatk_cnv_all_plots': 'this.gatk_cnv_all_plots'},\n",
       " 'prerequisites': {},\n",
       " 'rootEntityType': 'sample'}"
      ]
     },
     "execution_count": 44,
     "metadata": {},
     "output_type": "execute_result"
    }
   ],
   "source": [
    "CGAmutations = refwm.get_config(\"ICE_CGA_Production_Analysis_Pipeline_Cell_Lines\")\n",
    "CGAmutations"
   ]
  },
  {
   "cell_type": "code",
   "execution_count": null,
   "metadata": {},
   "outputs": [],
   "source": [
    "refwm.update_config(CGAmutations)\n",
    "submission_id = refwm.create_submission(CGAmutations['name'], samplesetname,'sample_set',expression='this.samples')"
   ]
  },
  {
   "cell_type": "code",
   "execution_count": null,
   "metadata": {},
   "outputs": [],
   "source": [
    "wait_for_submission(refwm, submission_id1)"
   ]
  },
  {
   "cell_type": "code",
   "execution_count": 5,
   "metadata": {},
   "outputs": [
    {
     "data": {
      "text/plain": [
       "{'deleted': False,\n",
       " 'inputs': {'CommonVariantFilter.maf': 'this.mutation_validator_validated_maf',\n",
       "  'CommonVariantFilter.disable_whitelist': '',\n",
       "  'CommonVariantFilter.docker_tag': '',\n",
       "  'CommonVariantFilter.filter_noncoding': '',\n",
       "  'CommonVariantFilter.min_filter_depth': '',\n",
       "  'CommonVariantFilter.min_exac_ac': '',\n",
       "  'CommonVariantFilter.preemptible': '',\n",
       "  'CommonVariantFilter.sampleId': 'this.name',\n",
       "  'CommonVariantFilter.SSD': '',\n",
       "  'CommonVariantFilter.RAM': ''},\n",
       " 'methodConfigVersion': 2,\n",
       " 'methodRepoMethod': {'methodName': 'common_variant_filter',\n",
       "  'methodVersion': 3,\n",
       "  'methodNamespace': 'breardon',\n",
       "  'methodUri': 'agora://breardon/common_variant_filter/3',\n",
       "  'sourceRepo': 'agora'},\n",
       " 'name': 'common_variant_filter',\n",
       " 'namespace': 'breardon',\n",
       " 'outputs': {'CommonVariantFilter.commonfilterTask.passCount': 'this.passCount_cga_cf',\n",
       "  'CommonVariantFilter.commonfilterTask.passedMAF': 'this.passedMAF_cga_cf',\n",
       "  'CommonVariantFilter.commonfilterTask.rejectCount': 'this.rejectCount_cga_cf',\n",
       "  'CommonVariantFilter.commonfilterTask.rejectedMAF': 'this.rejectedMAF_cga_cf',\n",
       "  'CommonVariantFilter.commonfilterTask.consideredCount': 'this.consideredCount_cga_cf'},\n",
       " 'prerequisites': {},\n",
       " 'rootEntityType': 'sample'}"
      ]
     },
     "execution_count": 5,
     "metadata": {},
     "output_type": "execute_result"
    }
   ],
   "source": [
    "filtercommonvar = refwm.get_config(\"common_variant_filter\")\n",
    "filtercommonvar"
   ]
  },
  {
   "cell_type": "code",
   "execution_count": 6,
   "metadata": {},
   "outputs": [
    {
     "name": "stdout",
     "output_type": "stream",
     "text": [
      "Successfully updated configuration breardon/common_variant_filter\n",
      "Successfully created submission e40b47c5-ee8e-4b6c-93a5-88c17c09ae22.\n"
     ]
    }
   ],
   "source": [
    "refwm.update_config(filtercommonvar)\n",
    "submission_id = refwm.create_submission(filtercommonvar['name'], samplesetname, 'sample_set', expression='this.samples')"
   ]
  },
  {
   "cell_type": "code",
   "execution_count": 7,
   "metadata": {},
   "outputs": [
    {
     "ename": "NameError",
     "evalue": "name 'wait_for_submission' is not defined",
     "output_type": "error",
     "traceback": [
      "\u001b[0;31m---------------------------------------------------------------------------\u001b[0m",
      "\u001b[0;31mNameError\u001b[0m                                 Traceback (most recent call last)",
      "\u001b[0;32m<ipython-input-7-73ccb22cbc81>\u001b[0m in \u001b[0;36m<module>\u001b[0;34m\u001b[0m\n\u001b[0;32m----> 1\u001b[0;31m \u001b[0mwait_for_submission\u001b[0m\u001b[0;34m(\u001b[0m\u001b[0mrefwm\u001b[0m\u001b[0;34m,\u001b[0m \u001b[0msubmission_id1\u001b[0m\u001b[0;34m)\u001b[0m\u001b[0;34m\u001b[0m\u001b[0;34m\u001b[0m\u001b[0m\n\u001b[0m",
      "\u001b[0;31mNameError\u001b[0m: name 'wait_for_submission' is not defined"
     ]
    }
   ],
   "source": [
    "wait_for_submission(refwm, submission_id)"
   ]
  },
  {
   "cell_type": "code",
   "execution_count": 5,
   "metadata": {},
   "outputs": [
    {
     "data": {
      "text/plain": [
       "{'deleted': False,\n",
       " 'inputs': {'filterMAF_for_CGA_workflow.filterMaf.inMAFfn': 'this.passedMAF_cga_cf',\n",
       "  'filterMAF_for_CGA_workflow.filterMaf.onlyCoding': '\"true\"',\n",
       "  'filterMAF_for_CGA_workflow.filterMaf.minAltReads': '\"2\"',\n",
       "  'filterMAF_for_CGA_workflow.filterMaf.minAF': '\"0.1\"',\n",
       "  'filterMAF_for_CGA_workflow.filterMaf.maxExAC_AF_COSMIC': '\"1E-4\"',\n",
       "  'filterMAF_for_CGA_workflow.filterMaf.minCoverage': '\"4\"',\n",
       "  'filterMAF_for_CGA_workflow.filterMaf.COSMIChotspotMinCnt': '\"10\"',\n",
       "  'filterMAF_for_CGA_workflow.filterMaf.intersectWithMafFN': '',\n",
       "  'filterMAF_for_CGA_workflow.filterMaf.addExAC_column': '\"gs://fc-secure-012d088c-f039-4d36-bde5-ee9b1b76b912/scripts/add_column.R\"',\n",
       "  'filterMAF_for_CGA_workflow.filterMaf.sample_id': 'this.name',\n",
       "  'filterMAF_for_CGA_workflow.filterMaf.TCGAhotspotMinCnt': '\"3\"',\n",
       "  'filterMAF_for_CGA_workflow.filterMaf.TCGAhotspotMutFN': 'workspace.TCGAhotspotMutFN',\n",
       "  'filterMAF_for_CGA_workflow.filterMaf.maxPon_loglike': '\"1\"',\n",
       "  'filterMAF_for_CGA_workflow.filterMaf.blackListFN': 'workspace.blackListFN',\n",
       "  'filterMAF_for_CGA_workflow.filterMaf.maxExAC_AF': '\"5E-5\"'},\n",
       " 'methodConfigVersion': 11,\n",
       " 'methodRepoMethod': {'methodName': 'filterMAF_on_CGA_pipeline',\n",
       "  'methodVersion': 8,\n",
       "  'methodNamespace': 'gkugener',\n",
       "  'methodUri': 'agora://gkugener/filterMAF_on_CGA_pipeline/8',\n",
       "  'sourceRepo': 'agora'},\n",
       " 'name': 'filterMAF_on_CGA_pipeline',\n",
       " 'namespace': 'gkugener',\n",
       " 'outputs': {'filterMAF_for_CGA_workflow.filterMaf.outMAFannotatedFN': 'this.outMAFannotatedFN',\n",
       "  'filterMAF_for_CGA_workflow.filterMaf.outMAFfn': 'this.outMAFfn'},\n",
       " 'prerequisites': {},\n",
       " 'rootEntityType': 'sample'}"
      ]
     },
     "execution_count": 5,
     "metadata": {},
     "output_type": "execute_result"
    }
   ],
   "source": [
    "filtermaf = refwm.get_config(\"filterMAF_on_CGA_pipeline\")\n",
    "filtermaf"
   ]
  },
  {
   "cell_type": "code",
   "execution_count": null,
   "metadata": {},
   "outputs": [],
   "source": [
    "refwm.update_config(filtermaf)\n",
    "submission_id = refwm.create_submission(filtermaf['name'], samplesetname,'sample_set',expression='this.samples')"
   ]
  },
  {
   "cell_type": "code",
   "execution_count": null,
   "metadata": {},
   "outputs": [],
   "source": [
    "wait_for_submission(refwm, submission_id1)"
   ]
  },
  {
   "cell_type": "code",
   "execution_count": null,
   "metadata": {},
   "outputs": [],
   "source": [
    "updateAllSampleSet('CCLE_'+samplesetname, Allsample_setname='DM19Q2_PATHS_CORRECTED_V2')"
   ]
  },
  {
   "cell_type": "code",
   "execution_count": 6,
   "metadata": {},
   "outputs": [
    {
     "data": {
      "text/plain": [
       "{'deleted': False,\n",
       " 'inputs': {'aggregateMAFs_selectFields_workflow.aggregateMAFs_selectFields.outputFN_prfx': 'this.name',\n",
       "  'aggregateMAFs_selectFields_workflow.aggregateMAFs_selectFields.num_preempt': '5',\n",
       "  'aggregateMAFs_selectFields_workflow.aggregateMAFs_selectFields.disk_space': '1000',\n",
       "  'aggregateMAFs_selectFields_workflow.aggregateMAFs_selectFields.aggregate_selectedFields_MAF_Script': '\"gs://fc-ca01b420-53e8-4922-b152-8d5e9bdcc07f/scripts/aggregate_selectedFields_MAF.R\"',\n",
       "  'aggregateMAFs_selectFields_workflow.aggregateMAFs_selectFields.memory': '15',\n",
       "  'aggregateMAFs_selectFields_workflow.aggregateMAFs_selectFields.inMafFNs': 'this.samples.outMAFfn',\n",
       "  'aggregateMAFs_selectFields_workflow.aggregateMAFs_selectFields.SelectFields': '\"Hugo_Symbol,Entrez_Gene_Id,Center,NCBI_Build,Chromosome,Start_position,End_position,Strand,Variant_Classification,Variant_Type,Reference_Allele,Tumor_Seq_Allele1,Tumor_Seq_Allele2,dbSNP_RS,dbSNP_Val_Status,Genome_Change,Annotation_Transcript,Tumor_Sample_Barcode,cDNA_Change,Codon_Change,Protein_Change,t_alt_count,t_ref_count,tumor_f,isDeleterious,isTCGAhotspot,TCGAhsCnt,isCOSMIChotspot,COSMIChsCnt,i_ExAC_AF,PASS\"'},\n",
       " 'methodConfigVersion': 6,\n",
       " 'methodRepoMethod': {'methodName': 'aggregateMAFs_selectFields',\n",
       "  'methodVersion': 1,\n",
       "  'methodNamespace': 'ccle_mg',\n",
       "  'methodUri': 'agora://ccle_mg/aggregateMAFs_selectFields/1',\n",
       "  'sourceRepo': 'agora'},\n",
       " 'name': 'aggregateMAFs_selectFields',\n",
       " 'namespace': 'ccle_mg',\n",
       " 'outputs': {'aggregateMAFs_selectFields_workflow.aggregateMAFs_selectFields.mergedMAFfn': 'this.passedCGA_filteredMAF_aggregated'},\n",
       " 'prerequisites': {},\n",
       " 'rootEntityType': 'sample_set'}"
      ]
     },
     "execution_count": 6,
     "metadata": {},
     "output_type": "execute_result"
    }
   ],
   "source": [
    "aggregate = refwm.get_config(\"aggregateMAFs_selectFields\")\n",
    "aggregate"
   ]
  },
  {
   "cell_type": "code",
   "execution_count": null,
   "metadata": {},
   "outputs": [],
   "source": [
    "refwm.update_config(aggregate)\n",
    "submission_id = refwm.create_submission(aggregate['name'], samplesetname,'sample_set',expression='this.samples')"
   ]
  },
  {
   "cell_type": "code",
   "execution_count": null,
   "metadata": {},
   "outputs": [],
   "source": [
    "wait_for_submission(refwm, submission_id1)"
   ]
  },
  {
   "cell_type": "markdown",
   "metadata": {},
   "source": [
    "# Downloading from terra"
   ]
  },
  {
   "cell_type": "code",
   "execution_count": null,
   "metadata": {},
   "outputs": [],
   "source": [
    "res = refwm.get_sample_sets().loc['all_samples']\n",
    "res"
   ]
  },
  {
   "cell_type": "code",
   "execution_count": 5,
   "metadata": {},
   "outputs": [
    {
     "name": "stdout",
     "output_type": "stream",
     "text": [
      "Copying gs://fc-secure-012d088c-f039-4d36-bde5-ee9b1b76b912/aa8cbc26-e1f1-4100-b424-e2a461d6f10d/aggregateMAFs_selectFields_workflow/f25a70f4-56e3-4e3c-87f4-75ad36c090f4/call-aggregateMAFs_selectFields/DM19Q2_COMPLETE_SET.mergedMAF.txt...\n",
      "- [1 files][ 92.3 MiB/ 92.3 MiB]                                                \n",
      "Operation completed over 1 objects/92.3 MiB.                                     \n"
     ]
    }
   ],
   "source": [
    "res = refwm.get_sample_sets().loc['DM19Q2_COMPLETE_SET']\n",
    "res = res['passedCGA_filteredMAF_aggregated']\n",
    "! gsutil cp $res \"temp/mutation.mergedmaf.txt\""
   ]
  },
  {
   "cell_type": "markdown",
   "metadata": {},
   "source": [
    "# postprocessing"
   ]
  },
  {
   "cell_type": "code",
   "execution_count": 15,
   "metadata": {},
   "outputs": [
    {
     "name": "stderr",
     "output_type": "stream",
     "text": [
      "2019-06-27 06:32:40::WARNING  R[write to console]: ── \u001b[1mAttaching packages\u001b[22m ─────────────────────────────────────── tidyverse 1.2.1 ──\n",
      "\n",
      "2019-06-27 06:32:40::WARNING  R[write to console]: \u001b[32m✔\u001b[39m \u001b[34mggplot2\u001b[39m 3.1.1     \u001b[32m✔\u001b[39m \u001b[34mtidyr  \u001b[39m 0.8.3\n",
      "\u001b[32m✔\u001b[39m \u001b[34mtibble \u001b[39m 2.1.3     \u001b[32m✔\u001b[39m \u001b[34mpurrr  \u001b[39m 0.3.2\n",
      "\u001b[32m✔\u001b[39m \u001b[34mggplot2\u001b[39m 3.1.1     \u001b[32m✔\u001b[39m \u001b[34mforcats\u001b[39m 0.4.0\n",
      "\n",
      "2019-06-27 06:32:40::WARNING  R[write to console]: ── \u001b[1mConflicts\u001b[22m ────────────────────────────────────────── tidyverse_conflicts() ──\n",
      "\u001b[31m✖\u001b[39m \u001b[34mdplyr\u001b[39m::\u001b[32marrange()\u001b[39m    masks \u001b[34mplyr\u001b[39m::arrange()\n",
      "\u001b[31m✖\u001b[39m \u001b[34mdplyr\u001b[39m::\u001b[32mcollapse()\u001b[39m   masks \u001b[34mIRanges\u001b[39m::collapse()\n",
      "\u001b[31m✖\u001b[39m \u001b[34mdplyr\u001b[39m::\u001b[32mcombine()\u001b[39m    masks \u001b[34mBiobase\u001b[39m::combine(), \u001b[34mBiocGenerics\u001b[39m::combine()\n",
      "\u001b[31m✖\u001b[39m \u001b[34mpurrr\u001b[39m::\u001b[32mcompact()\u001b[39m    masks \u001b[34mplyr\u001b[39m::compact()\n",
      "\u001b[31m✖\u001b[39m \u001b[34mdplyr\u001b[39m::\u001b[32mcount()\u001b[39m      masks \u001b[34mplyr\u001b[39m::count()\n",
      "\u001b[31m✖\u001b[39m \u001b[34mdplyr\u001b[39m::\u001b[32mdesc()\u001b[39m       masks \u001b[34mplyr\u001b[39m::desc(), \u001b[34mIRanges\u001b[39m::desc()\n",
      "\u001b[31m✖\u001b[39m \u001b[34mtidyr\u001b[39m::\u001b[32mexpand()\u001b[39m     masks \u001b[34mS4Vectors\u001b[39m::expand()\n",
      "\u001b[31m✖\u001b[39m \u001b[34mdplyr\u001b[39m::\u001b[32mfailwith()\u001b[39m   masks \u001b[34mplyr\u001b[39m::failwith()\n",
      "\u001b[31m✖\u001b[39m \u001b[34mdplyr\u001b[39m::\u001b[32mfilter()\u001b[39m     masks \u001b[34mstats\u001b[39m::filter()\n",
      "\u001b[31m✖\u001b[39m \u001b[34mdplyr\u001b[39m::\u001b[32mfirst()\u001b[39m      masks \u001b[34mS4Vectors\u001b[39m::first()\n",
      "\u001b[31m✖\u001b[39m \u001b[34mdplyr\u001b[39m::\u001b[32mid()\u001b[39m         masks \u001b[34mplyr\u001b[39m::id()\n",
      "\u001b[31m✖\u001b[39m \u001b[34mdplyr\u001b[39m::\u001b[32mlag()\u001b[39m        masks \u001b[34mstats\u001b[39m::lag()\n",
      "\u001b[31m✖\u001b[39m \u001b[34mdplyr\u001b[39m::\u001b[32mmutate()\u001b[39m     masks \u001b[34mplyr\u001b[39m::mutate()\n",
      "\u001b[31m✖\u001b[39m \u001b[34mggplot2\u001b[39m::\u001b[32mPosition()\u001b[39m masks \u001b[34mBiocGenerics\u001b[39m::Position(), \u001b[34mbase\u001b[39m::Position()\n",
      "\u001b[31m✖\u001b[39m \u001b[34mpurrr\u001b[39m::\u001b[32mreduce()\u001b[39m     masks \u001b[34mIRanges\u001b[39m::reduce()\n",
      "\u001b[31m✖\u001b[39m \u001b[34mdplyr\u001b[39m::\u001b[32mrename()\u001b[39m     masks \u001b[34mplyr\u001b[39m::rename(), \u001b[34mS4Vectors\u001b[39m::rename()\n",
      "\u001b[31m✖\u001b[39m \u001b[34mdplyr\u001b[39m::\u001b[32mselect()\u001b[39m     masks \u001b[34mAnnotationDbi\u001b[39m::select()\n",
      "\u001b[31m✖\u001b[39m \u001b[34mdplyr\u001b[39m::\u001b[32mslice()\u001b[39m      masks \u001b[34mIRanges\u001b[39m::slice()\n",
      "\u001b[31m✖\u001b[39m \u001b[34mdplyr\u001b[39m::\u001b[32msummarise()\u001b[39m  masks \u001b[34mplyr\u001b[39m::summarise()\n",
      "\u001b[31m✖\u001b[39m \u001b[34mdplyr\u001b[39m::\u001b[32msummarize()\u001b[39m  masks \u001b[34mplyr\u001b[39m::summarize()\n",
      "\n",
      "2019-06-27 06:32:40::WARNING  R[write to console]: \n",
      "Attaching package: ‘magrittr’\n",
      "\n",
      "\n",
      "2019-06-27 06:32:40::WARNING  R[write to console]: The following object is masked from ‘package:purrr’:\n",
      "\n",
      "    set_names\n",
      "\n",
      "\n",
      "2019-06-27 06:32:40::WARNING  R[write to console]: The following object is masked from ‘package:tidyr’:\n",
      "\n",
      "    extract\n",
      "\n",
      "\n",
      "2019-06-27 06:32:40::WARNING  R[write to console]: \n",
      "Attaching package: ‘reshape2’\n",
      "\n",
      "\n",
      "2019-06-27 06:32:40::WARNING  R[write to console]: The following object is masked from ‘package:tidyr’:\n",
      "\n",
      "    smiths\n",
      "\n",
      "\n",
      "2019-06-27 06:32:40::WARNING  R[write to console]: \n",
      "Attaching package: ‘limma’\n",
      "\n",
      "\n",
      "2019-06-27 06:32:40::WARNING  R[write to console]: The following object is masked from ‘package:BiocGenerics’:\n",
      "\n",
      "    plotMA\n",
      "\n",
      "\n",
      "2019-06-27 06:32:40::WARNING  R[write to console]: Loading required package: lpSolve\n",
      "\n",
      "2019-06-27 06:32:40::WARNING  R[write to console]: \n",
      "Attaching package: ‘zoo’\n",
      "\n",
      "\n",
      "2019-06-27 06:32:40::WARNING  R[write to console]: The following objects are masked from ‘package:base’:\n",
      "\n",
      "    as.Date, as.Date.numeric\n",
      "\n",
      "\n",
      "2019-06-27 06:32:41::WARNING  R[write to console]: \n",
      "Attaching package: ‘scales’\n",
      "\n",
      "\n",
      "2019-06-27 06:32:41::WARNING  R[write to console]: The following object is masked from ‘package:purrr’:\n",
      "\n",
      "    discard\n",
      "\n",
      "\n",
      "2019-06-27 06:32:41::WARNING  R[write to console]: The following object is masked from ‘package:readr’:\n",
      "\n",
      "    col_factor\n",
      "\n",
      "\n",
      "2019-06-27 06:32:41::WARNING  R[write to console]: \n",
      "Attaching package: ‘rlang’\n",
      "\n",
      "\n",
      "2019-06-27 06:32:41::WARNING  R[write to console]: The following object is masked from ‘package:magrittr’:\n",
      "\n",
      "    set_names\n",
      "\n",
      "\n",
      "2019-06-27 06:32:41::WARNING  R[write to console]: The following objects are masked from ‘package:purrr’:\n",
      "\n",
      "    %@%, as_function, flatten, flatten_chr, flatten_dbl, flatten_int,\n",
      "    flatten_lgl, flatten_raw, invoke, list_along, modify, prepend,\n",
      "    splice\n",
      "\n",
      "\n",
      "2019-06-27 06:32:41::WARNING  R[write to console]: The following object is masked from ‘package:Biobase’:\n",
      "\n",
      "    exprs\n",
      "\n",
      "\n",
      "2019-06-27 06:32:41::WARNING  R[write to console]: Loading required package: SnowballC\n",
      "\n",
      "2019-06-27 06:32:41::WARNING  R[write to console]: \n",
      "Attaching package: ‘gridExtra’\n",
      "\n",
      "\n",
      "2019-06-27 06:32:41::WARNING  R[write to console]: The following object is masked from ‘package:dplyr’:\n",
      "\n",
      "    combine\n",
      "\n",
      "\n",
      "2019-06-27 06:32:41::WARNING  R[write to console]: The following object is masked from ‘package:Biobase’:\n",
      "\n",
      "    combine\n",
      "\n",
      "\n",
      "2019-06-27 06:32:41::WARNING  R[write to console]: The following object is masked from ‘package:BiocGenerics’:\n",
      "\n",
      "    combine\n",
      "\n",
      "\n",
      "2019-06-27 06:32:41::WARNING  R[write to console]: \n",
      "Attaching package: ‘ggridges’\n",
      "\n",
      "\n",
      "2019-06-27 06:32:41::WARNING  R[write to console]: The following object is masked from ‘package:ggplot2’:\n",
      "\n",
      "    scale_discrete_manual\n",
      "\n",
      "\n",
      "2019-06-27 06:32:41::WARNING  R[write to console]: \n",
      "Attaching package: ‘GGally’\n",
      "\n",
      "\n",
      "2019-06-27 06:32:41::WARNING  R[write to console]: The following object is masked from ‘package:dplyr’:\n",
      "\n",
      "    nasa\n",
      "\n",
      "\n",
      "2019-06-27 06:32:41::WARNING  R[write to console]: \n",
      "Attaching package: ‘plotly’\n",
      "\n",
      "\n",
      "2019-06-27 06:32:41::WARNING  R[write to console]: The following object is masked from ‘package:ggplot2’:\n",
      "\n",
      "    last_plot\n",
      "\n",
      "\n",
      "2019-06-27 06:32:41::WARNING  R[write to console]: The following objects are masked from ‘package:plyr’:\n",
      "\n",
      "    arrange, mutate, rename, summarise\n",
      "\n",
      "\n",
      "2019-06-27 06:32:41::WARNING  R[write to console]: The following object is masked from ‘package:AnnotationDbi’:\n",
      "\n",
      "    select\n",
      "\n",
      "\n",
      "2019-06-27 06:32:41::WARNING  R[write to console]: The following object is masked from ‘package:IRanges’:\n",
      "\n",
      "    slice\n",
      "\n",
      "\n",
      "2019-06-27 06:32:41::WARNING  R[write to console]: The following object is masked from ‘package:S4Vectors’:\n",
      "\n",
      "    rename\n",
      "\n",
      "\n",
      "2019-06-27 06:32:41::WARNING  R[write to console]: The following object is masked from ‘package:stats’:\n",
      "\n",
      "    filter\n",
      "\n",
      "\n",
      "2019-06-27 06:32:41::WARNING  R[write to console]: The following object is masked from ‘package:graphics’:\n",
      "\n",
      "    layout\n",
      "\n",
      "\n",
      "2019-06-27 06:32:41::WARNING  R[write to console]: Loading required package: grid\n",
      "\n",
      "2019-06-27 06:32:41::WARNING  R[write to console]: Loading required package: futile.logger\n",
      "\n",
      "2019-06-27 06:32:41::WARNING  R[write to console]: Registering fonts with R\n",
      "\n",
      "2019-06-27 06:32:41::WARNING  R[write to console]: \n",
      "Attaching package: ‘cowplot’\n",
      "\n",
      "\n",
      "2019-06-27 06:32:41::WARNING  R[write to console]: The following object is masked from ‘package:ggthemes’:\n",
      "\n",
      "    theme_map\n",
      "\n",
      "\n",
      "2019-06-27 06:32:41::WARNING  R[write to console]: The following object is masked from ‘package:ggplot2’:\n",
      "\n",
      "    ggsave\n",
      "\n",
      "\n",
      "2019-06-27 06:32:41::WARNING  R[write to console]: \n",
      "Attaching package: ‘data.table’\n",
      "\n",
      "\n",
      "2019-06-27 06:32:41::WARNING  R[write to console]: The following object is masked from ‘package:rlang’:\n",
      "\n",
      "    :=\n",
      "\n",
      "\n",
      "2019-06-27 06:32:41::WARNING  R[write to console]: The following objects are masked from ‘package:reshape2’:\n",
      "\n",
      "    dcast, melt\n",
      "\n",
      "\n",
      "2019-06-27 06:32:41::WARNING  R[write to console]: The following object is masked from ‘package:purrr’:\n",
      "\n",
      "    transpose\n",
      "\n",
      "\n",
      "2019-06-27 06:32:41::WARNING  R[write to console]: The following objects are masked from ‘package:dplyr’:\n",
      "\n",
      "    between, first, last\n",
      "\n",
      "\n",
      "2019-06-27 06:32:41::WARNING  R[write to console]: The following object is masked from ‘package:IRanges’:\n",
      "\n",
      "    shift\n",
      "\n",
      "\n",
      "2019-06-27 06:32:41::WARNING  R[write to console]: The following objects are masked from ‘package:S4Vectors’:\n",
      "\n",
      "    first, second\n",
      "\n",
      "\n",
      "2019-06-27 06:32:41::WARNING  R[write to console]: \n",
      "Attaching package: ‘DT’\n",
      "\n",
      "\n",
      "2019-06-27 06:32:41::WARNING  R[write to console]: The following object is masked from ‘package:networkD3’:\n",
      "\n",
      "    JS\n",
      "\n",
      "\n",
      "2019-06-27 06:32:41::WARNING  R[write to console]: Loading required package: GenomeInfoDb\n",
      "\n",
      "2019-06-27 06:32:42::WARNING  R[write to console]: Loading required package: annotate\n",
      "\n",
      "2019-06-27 06:32:42::WARNING  R[write to console]: Loading required package: XML\n",
      "\n",
      "2019-06-27 06:32:43::WARNING  R[write to console]: \n",
      "Attaching package: ‘XML’\n",
      "\n",
      "\n",
      "2019-06-27 06:32:43::WARNING  R[write to console]: The following object is masked from ‘package:tools’:\n",
      "\n",
      "    toHTML\n",
      "\n",
      "\n"
     ]
    },
    {
     "name": "stderr",
     "output_type": "stream",
     "text": [
      "2019-06-27 06:32:43::WARNING  R[write to console]: Loading required package: graph\n",
      "\n",
      "2019-06-27 06:32:43::WARNING  R[write to console]: \n",
      "Attaching package: ‘graph’\n",
      "\n",
      "\n",
      "2019-06-27 06:32:43::WARNING  R[write to console]: The following object is masked from ‘package:XML’:\n",
      "\n",
      "    addNode\n",
      "\n",
      "\n",
      "2019-06-27 06:32:43::WARNING  R[write to console]: The following object is masked from ‘package:stringr’:\n",
      "\n",
      "    boundary\n",
      "\n",
      "\n",
      "2019-06-27 06:32:43::WARNING  R[write to console]: The following object is masked from ‘package:plyr’:\n",
      "\n",
      "    join\n",
      "\n",
      "\n",
      "2019-06-27 06:32:44::WARNING  R[write to console]: Loading required package: RCurl\n",
      "\n",
      "2019-06-27 06:32:44::WARNING  R[write to console]: Loading required package: bitops\n",
      "\n",
      "2019-06-27 06:32:44::WARNING  R[write to console]: \n",
      "Attaching package: ‘RCurl’\n",
      "\n",
      "\n",
      "2019-06-27 06:32:44::WARNING  R[write to console]: The following object is masked from ‘package:tidyr’:\n",
      "\n",
      "    complete\n",
      "\n",
      "\n",
      "2019-06-27 06:32:44::WARNING  R[write to console]: Loading required package: httr\n",
      "\n",
      "2019-06-27 06:32:44::WARNING  R[write to console]: \n",
      "Attaching package: ‘httr’\n",
      "\n",
      "\n",
      "2019-06-27 06:32:44::WARNING  R[write to console]: The following object is masked from ‘package:plotly’:\n",
      "\n",
      "    config\n",
      "\n",
      "\n",
      "2019-06-27 06:32:44::WARNING  R[write to console]: The following object is masked from ‘package:Biobase’:\n",
      "\n",
      "    content\n",
      "\n",
      "\n",
      "2019-06-27 06:32:44::WARNING  R[write to console]: Package 'mclust' version 5.4.3\n",
      "Type 'citation(\"mclust\")' for citing this R package in publications.\n",
      "\n",
      "2019-06-27 06:32:44::WARNING  R[write to console]: \n",
      "Attaching package: ‘mclust’\n",
      "\n",
      "\n",
      "2019-06-27 06:32:44::WARNING  R[write to console]: The following object is masked from ‘package:purrr’:\n",
      "\n",
      "    map\n",
      "\n",
      "\n"
     ]
    },
    {
     "name": "stdout",
     "output_type": "stream",
     "text": [
      "Fetching https://cds.team/taiga/api/dataset/msigdb-gene-set-collections-8453/2 \n",
      "Status 200 \n"
     ]
    },
    {
     "name": "stderr",
     "output_type": "stream",
     "text": [
      "2019-06-27 06:32:44::WARNING  R[write to console]: No encoding supplied: defaulting to UTF-8.\n",
      "\n"
     ]
    },
    {
     "name": "stdout",
     "output_type": "stream",
     "text": [
      "loading cached data version from  ~/.taiga/msigdb-gene-set-collections-8453_2.toc \n",
      "Checking for cached file ~/.taiga/495ea37b8d744a428946a5628c5fe7ce_gsc-data.raw \n"
     ]
    },
    {
     "name": "stderr",
     "output_type": "stream",
     "text": [
      "2019-06-27 06:32:45::WARNING  R[write to console]: Error in readChar(con, 5L, useBytes = TRUE) : cannot open the connection\n",
      "Calls: <Anonymous> ... <Anonymous> -> <Anonymous> -> withVisible -> load -> readChar\n",
      "\n",
      "2019-06-27 06:32:45::WARNING  R[write to console]: In addition: \n",
      "2019-06-27 06:32:45::WARNING  R[write to console]: Warning messages:\n",
      "\n",
      "2019-06-27 06:32:45::WARNING  R[write to console]: 1: \n",
      "2019-06-27 06:32:45::WARNING  R[write to console]: In taiga2.resolve.id(data.id, data.name, data.version, data.dir,  :\n",
      "2019-06-27 06:32:45::WARNING  R[write to console]: \n",
      " \n",
      "2019-06-27 06:32:45::WARNING  R[write to console]:  No filename passed, getting the first one by default\n",
      "\n",
      "2019-06-27 06:32:45::WARNING  R[write to console]: 2: \n",
      "2019-06-27 06:32:45::WARNING  R[write to console]: In readChar(con, 5L, useBytes = TRUE) :\n",
      "2019-06-27 06:32:45::WARNING  R[write to console]: \n",
      " \n",
      "2019-06-27 06:32:45::WARNING  R[write to console]:  cannot open compressed file '../JKBio/gkugener/DM_OMICS/Annotations.RData', probable reason 'No such file or directory'\n",
      "\n"
     ]
    },
    {
     "name": "stdout",
     "output_type": "stream",
     "text": [
      "\n",
      "Error in readChar(con, 5L, useBytes = TRUE) : cannot open the connection\n",
      "Calls: <Anonymous> ... <Anonymous> -> <Anonymous> -> withVisible -> load -> readChar\n"
     ]
    }
   ],
   "source": [
    "%%R\n",
    "source('../JKBio/gkugener/RScripts/load_libraries_and_annotations.R')\n",
    "load('../JKBio/gkugener/DM_OMICS/Annotations.RData') \n",
    "# There are some cell lines the celllinemapr does not know how to map so we need to load this data object for now (from old datasets)"
   ]
  },
  {
   "cell_type": "code",
   "execution_count": 11,
   "metadata": {
    "scrolled": true
   },
   "outputs": [
    {
     "name": "stderr",
     "output_type": "stream",
     "text": [
      "2019-06-27 06:31:50::WARNING  R[write to console]: Loading required package: AnnotationDbi\n",
      "\n",
      "2019-06-27 06:31:50::WARNING  R[write to console]: Loading required package: stats4\n",
      "\n",
      "2019-06-27 06:31:50::WARNING  R[write to console]: Loading required package: BiocGenerics\n",
      "\n",
      "2019-06-27 06:31:50::WARNING  R[write to console]: Loading required package: parallel\n",
      "\n",
      "2019-06-27 06:31:50::WARNING  R[write to console]: \n",
      "Attaching package: ‘BiocGenerics’\n",
      "\n",
      "\n",
      "2019-06-27 06:31:50::WARNING  R[write to console]: The following objects are masked from ‘package:parallel’:\n",
      "\n",
      "    clusterApply, clusterApplyLB, clusterCall, clusterEvalQ,\n",
      "    clusterExport, clusterMap, parApply, parCapply, parLapply,\n",
      "    parLapplyLB, parRapply, parSapply, parSapplyLB\n",
      "\n",
      "\n",
      "2019-06-27 06:31:50::WARNING  R[write to console]: The following objects are masked from ‘package:stats’:\n",
      "\n",
      "    IQR, mad, sd, var, xtabs\n",
      "\n",
      "\n",
      "2019-06-27 06:31:50::WARNING  R[write to console]: The following objects are masked from ‘package:base’:\n",
      "\n",
      "    anyDuplicated, append, as.data.frame, basename, cbind, colMeans,\n",
      "    colnames, colSums, dirname, do.call, duplicated, eval, evalq,\n",
      "    Filter, Find, get, grep, grepl, intersect, is.unsorted, lapply,\n",
      "    lengths, Map, mapply, match, mget, order, paste, pmax, pmax.int,\n",
      "    pmin, pmin.int, Position, rank, rbind, Reduce, rowMeans, rownames,\n",
      "    rowSums, sapply, setdiff, sort, table, tapply, union, unique,\n",
      "    unsplit, which, which.max, which.min\n",
      "\n",
      "\n",
      "2019-06-27 06:31:50::WARNING  R[write to console]: Loading required package: Biobase\n",
      "\n",
      "2019-06-27 06:31:51::WARNING  R[write to console]: Welcome to Bioconductor\n",
      "\n",
      "    Vignettes contain introductory material; view with\n",
      "    'browseVignettes()'. To cite Bioconductor, see\n",
      "    'citation(\"Biobase\")', and for packages 'citation(\"pkgname\")'.\n",
      "\n",
      "\n",
      "2019-06-27 06:31:51::WARNING  R[write to console]: Loading required package: IRanges\n",
      "\n",
      "2019-06-27 06:31:51::WARNING  R[write to console]: Loading required package: S4Vectors\n",
      "\n",
      "2019-06-27 06:31:51::WARNING  R[write to console]: \n",
      "Attaching package: ‘S4Vectors’\n",
      "\n",
      "\n",
      "2019-06-27 06:31:51::WARNING  R[write to console]: The following object is masked from ‘package:base’:\n",
      "\n",
      "    expand.grid\n",
      "\n",
      "\n",
      "2019-06-27 06:31:53::WARNING  R[write to console]: \n",
      "\n",
      "2019-06-27 06:31:53::WARNING  R[write to console]: \n",
      "Attaching package: ‘plyr’\n",
      "\n",
      "\n",
      "2019-06-27 06:31:53::WARNING  R[write to console]: The following object is masked from ‘package:IRanges’:\n",
      "\n",
      "    desc\n",
      "\n",
      "\n",
      "2019-06-27 06:31:53::WARNING  R[write to console]: The following object is masked from ‘package:S4Vectors’:\n",
      "\n",
      "    rename\n",
      "\n",
      "\n",
      "2019-06-27 06:31:53::WARNING  R[write to console]: \n",
      "Attaching package: ‘dplyr’\n",
      "\n",
      "\n",
      "2019-06-27 06:31:53::WARNING  R[write to console]: The following objects are masked from ‘package:plyr’:\n",
      "\n",
      "    arrange, count, desc, failwith, id, mutate, rename, summarise,\n",
      "    summarize\n",
      "\n",
      "\n",
      "2019-06-27 06:31:53::WARNING  R[write to console]: The following object is masked from ‘package:AnnotationDbi’:\n",
      "\n",
      "    select\n",
      "\n",
      "\n",
      "2019-06-27 06:31:53::WARNING  R[write to console]: The following objects are masked from ‘package:IRanges’:\n",
      "\n",
      "    collapse, desc, intersect, setdiff, slice, union\n",
      "\n",
      "\n",
      "2019-06-27 06:31:53::WARNING  R[write to console]: The following objects are masked from ‘package:S4Vectors’:\n",
      "\n",
      "    first, intersect, rename, setdiff, setequal, union\n",
      "\n",
      "\n",
      "2019-06-27 06:31:53::WARNING  R[write to console]: The following object is masked from ‘package:Biobase’:\n",
      "\n",
      "    combine\n",
      "\n",
      "\n",
      "2019-06-27 06:31:53::WARNING  R[write to console]: The following objects are masked from ‘package:BiocGenerics’:\n",
      "\n",
      "    combine, intersect, setdiff, union\n",
      "\n",
      "\n",
      "2019-06-27 06:31:53::WARNING  R[write to console]: The following objects are masked from ‘package:stats’:\n",
      "\n",
      "    filter, lag\n",
      "\n",
      "\n",
      "2019-06-27 06:31:53::WARNING  R[write to console]: The following objects are masked from ‘package:base’:\n",
      "\n",
      "    intersect, setdiff, setequal, union\n",
      "\n",
      "\n"
     ]
    }
   ],
   "source": [
    "%%R\n",
    "source('CCLE_postp_function.R')\n",
    "release <- '19Q3interim'"
   ]
  },
  {
   "cell_type": "code",
   "execution_count": 16,
   "metadata": {
    "scrolled": true
   },
   "outputs": [],
   "source": [
    "%%R\n",
    "library(tidyverse)\n",
    "library(data.table)\n",
    "library(magrittr)\n",
    "library(taigr)\n",
    "library(celllinemapr) # To pull out DepMap_IDs from CCLE_names where needed\n",
    "newly_merged_maf <- 'temp/mutation.mergedmaf.txt'"
   ]
  },
  {
   "cell_type": "code",
   "execution_count": 17,
   "metadata": {
    "scrolled": true
   },
   "outputs": [],
   "source": [
    "%%R\n",
    "newly_merged_maf <- readMutations(newly_merged_maf)"
   ]
  },
  {
   "cell_type": "code",
   "execution_count": 18,
   "metadata": {
    "scrolled": true
   },
   "outputs": [],
   "source": [
    "%%R\n",
    "snps_indels <- createSNPs(newly_merged_maf)"
   ]
  },
  {
   "cell_type": "markdown",
   "metadata": {},
   "source": [
    "### (1.5) Quick adding\n",
    "\n",
    "Here, rather than rerunning the entire analysis, because we know we are adding only WES samples, we can download the previous release's MAF, add the samples, update any annotations, and perform any global filters at the end.\n",
    "\n",
    "First we need to do an additional step of filtering on coverage and number "
   ]
  },
  {
   "cell_type": "code",
   "execution_count": 19,
   "metadata": {
    "scrolled": true
   },
   "outputs": [
    {
     "name": "stdout",
     "output_type": "stream",
     "text": [
      "Fetching https://cds.team/taiga/api/dataset/depmap-mutation-calls-9be3/12 \n",
      "Status 200 \n"
     ]
    },
    {
     "name": "stderr",
     "output_type": "stream",
     "text": [
      "2019-06-27 06:33:06::WARNING  R[write to console]: No encoding supplied: defaulting to UTF-8.\n",
      "\n"
     ]
    },
    {
     "name": "stdout",
     "output_type": "stream",
     "text": [
      "loading cached data version from  /home/jeremie/.taiga/depmap-mutation-calls-9be3_12.toc \n"
     ]
    },
    {
     "name": "stderr",
     "output_type": "stream",
     "text": [
      "2019-06-27 06:33:06::WARNING  R[write to console]: Loading from cached file /home/jeremie/.taiga/8e592fa8c4fc4428a278918eb951c606_depmap-19q1-mutation-calls.rds\n",
      "\n"
     ]
    }
   ],
   "source": [
    "%%R\n",
    "previous.release.maf <- load.from.taiga(data.name='depmap-mutation-calls-9be3', data.version=12, data.file='depmap_19Q1_mutation_calls')\n",
    "if (colnames(previous.release.maf)[1] == 'X1') {\n",
    " previous.release.maf[,1] <- NULL \n",
    "}"
   ]
  },
  {
   "cell_type": "code",
   "execution_count": 20,
   "metadata": {},
   "outputs": [],
   "source": [
    "%%R\n",
    "merged_latest_release <- addToMainMutation(previous.release.maf, snps_indels)"
   ]
  },
  {
   "cell_type": "code",
   "execution_count": 21,
   "metadata": {},
   "outputs": [],
   "source": [
    "%%R\n",
    "filtered <- filterAllelicFraction(merged_latest_release)"
   ]
  },
  {
   "cell_type": "code",
   "execution_count": 22,
   "metadata": {},
   "outputs": [],
   "source": [
    "%%R\n",
    "filtered <- filterMinCoverage(filtered$merged_latest_release, filtered$removed_from_maf)"
   ]
  },
  {
   "cell_type": "code",
   "execution_count": 23,
   "metadata": {},
   "outputs": [
    {
     "name": "stdout",
     "output_type": "stream",
     "text": [
      "[1] \"find conflicts...\"\n",
      "[1] \"2.4126057267189 for Hugo_Symbol\"\n",
      "[1] \"2.59379101594289 for Entrez_Gene_Id\"\n",
      "[1] \"2.4949270606041 for Variant_Classification\"\n",
      "[1] \"2.44204205671946 for Variant_Type\"\n",
      "[1] \"2.40701411167781 for dbSNP_RS\"\n",
      "[1] \"2.42017827431361 for dbSNP_Val_Status\"\n",
      "[1] \"2.46702679395676 for Genome_Change\"\n",
      "[1] \"2.50486087799072 for Annotation_Transcript\"\n",
      "[1] \"2.44873420397441 for cDNA_Change\"\n",
      "[1] \"2.47855456670125 for Codon_Change\"\n",
      "[1] \"2.47216558059057 for Protein_Change\"\n",
      "[1] \"2.52361447811127 for isDeleterious\"\n",
      "[1] \"2.51363442738851 for isTCGAhotspot\"\n",
      "[1] \"2.45796721378962 for TCGAhsCnt\"\n",
      "[1] \"2.39245359500249 for isCOSMIChotspot\"\n",
      "[1] \"2.46209506193797 for COSMIChsCnt\"\n",
      "[1] \"2.46295743385951 for ExAC_AF\"\n",
      "[1] \"combining...\"\n",
      "[1] \"resolve conflicts..\"\n"
     ]
    }
   ],
   "source": [
    "%%R\n",
    "clean_annotations <- mergeAnnotations(newly_merged_maf,previous.release.maf)"
   ]
  },
  {
   "cell_type": "code",
   "execution_count": 77,
   "metadata": {},
   "outputs": [],
   "source": [
    "%%R\n",
    "ready_for_upload <- addAnnotation(filtered$merged_latest_release, clean_annotations, colnames(previous.release.maf))"
   ]
  },
  {
   "cell_type": "code",
   "execution_count": 32,
   "metadata": {},
   "outputs": [],
   "source": [
    "%%R\n",
    "# Save the ready to upload file to upload to taiga\n",
    "write.table(\n",
    "  ready_for_upload, \n",
    "  paste0('temp/mutations.', release, '.tsv'), sep = '\\t', quote = F, row.names = F)"
   ]
  },
  {
   "cell_type": "markdown",
   "metadata": {},
   "source": [
    "# Validation"
   ]
  },
  {
   "cell_type": "markdown",
   "metadata": {},
   "source": [
    "#### Compare to previous release\n",
    "\n",
    "I would run some checks here comparing the results to the previous releases MAF. Namely:\n",
    "\n",
    "- Count the total number of mutations per cell line, split by type (SNP, INS, DEL)\n",
    "- Count the total number of mutations observed by position (group by chromosome, start position, end position and count the number of mutations)\n",
    "- Look at specific differences between the two MAFs (join on DepMap_ID, Chromosome, Start position, End position, Variant_Type). I would do this for WES only"
   ]
  },
  {
   "cell_type": "code",
   "execution_count": 33,
   "metadata": {},
   "outputs": [
    {
     "name": "stderr",
     "output_type": "stream",
     "text": [
      "/home/jeremie/miniconda3/lib/python3.7/site-packages/IPython/core/interactiveshell.py:3049: DtypeWarning: Columns (3,19,25,26,27,28,29,30,31) have mixed types. Specify dtype option on import or set low_memory=False.\n",
      "  interactivity=interactivity, compiler=compiler, result=result)\n"
     ]
    }
   ],
   "source": [
    "mutations = pd.read_csv('temp/mutations.'+release+'.tsv', sep='\\t')"
   ]
  },
  {
   "cell_type": "markdown",
   "metadata": {},
   "source": [
    "## Remove less used "
   ]
  },
  {
   "cell_type": "code",
   "execution_count": 34,
   "metadata": {},
   "outputs": [
    {
     "data": {
      "text/plain": [
       "32"
      ]
     },
     "execution_count": 34,
     "metadata": {},
     "output_type": "execute_result"
    }
   ],
   "source": [
    "len(mutations.columns)"
   ]
  },
  {
   "cell_type": "code",
   "execution_count": 35,
   "metadata": {
    "scrolled": true
   },
   "outputs": [
    {
     "name": "stderr",
     "output_type": "stream",
     "text": [
      "/home/jeremie/miniconda3/lib/python3.7/site-packages/ipykernel_launcher.py:1: UserWarning: Boolean Series key will be reindexed to match DataFrame index.\n",
      "  \"\"\"Entry point for launching an IPython kernel.\n"
     ]
    },
    {
     "data": {
      "text/plain": [
       "array([['ACOT4', 122970, 37, '14', 74058831, 74058831, '+', 'Silent',\n",
       "        'SNP', 'C', 'T', 'rs542718736', 'byFrequency',\n",
       "        'g.chr14:74058831C>T', 'ENST00000326303.4', 'ACH-000047',\n",
       "        'c.168C>T', 'c.(166-168)gcC>gcT', 'p.A56A', False, False, nan,\n",
       "        False, 0.0, nan, '161:0', nan, nan, nan, nan, nan, nan],\n",
       "       ['ACOT4', 122970, 37, '14', 74058831, 74058831, '+', 'Silent',\n",
       "        'SNP', 'C', 'T', 'rs542718736', 'byFrequency',\n",
       "        'g.chr14:74058831C>T', 'ENST00000326303.4', 'ACH-000954',\n",
       "        'c.168C>T', 'c.(166-168)gcC>gcT', 'p.A56A', False, False, nan,\n",
       "        False, 0.0, nan, '116:116', nan, nan, nan, nan, nan, nan],\n",
       "       ['ACOT4', 122970, 37, '14', 74058831, 74058831, '+', 'Silent',\n",
       "        'SNP', 'C', 'T', 'rs542718736', 'byFrequency',\n",
       "        'g.chr14:74058831C>T', 'ENST00000326303.4', 'ACH-000993',\n",
       "        'c.168C>T', 'c.(166-168)gcC>gcT', 'p.A56A', False, False, nan,\n",
       "        False, 0.0, nan, '7:3', nan, nan, nan, nan, nan, nan],\n",
       "       ['ACOT4', 122970, 37, '14', 74058831, 74058831, '+', 'Silent',\n",
       "        'SNP', 'C', 'T', 'rs542718736', 'byFrequency',\n",
       "        'g.chr14:74058831C>T', 'ENST00000326303.4', 'ACH-001517',\n",
       "        'c.168C>T', 'c.(166-168)gcC>gcT', 'p.A56A', False, False, nan,\n",
       "        False, 0.0, nan, '143:73', nan, nan, nan, nan, nan, nan],\n",
       "       ['ACOT4', 122970, 37, '14', 74058831, 74058831, '+', 'Silent',\n",
       "        'SNP', 'C', 'T', 'rs542718736', 'byFrequency',\n",
       "        'g.chr14:74058831C>T', 'ENST00000326303.4', 'ACH-001647',\n",
       "        'c.168C>T', 'c.(166-168)gcC>gcT', 'p.A56A', False, False, nan,\n",
       "        False, 0.0, nan, '47:58', nan, nan, nan, nan, nan, nan],\n",
       "       ['ACOT4', 122970, 37, '14', 74058831, 74058831, '+', 'Silent',\n",
       "        'SNP', 'C', 'T', 'rs542718736', 'byFrequency',\n",
       "        'g.chr14:74058831C>T', 'ENST00000326303.4', 'ACH-001674',\n",
       "        'c.168C>T', 'c.(166-168)gcC>gcT', 'p.A56A', False, False, nan,\n",
       "        False, 0.0, nan, '168:69', nan, nan, nan, nan, nan, nan],\n",
       "       ['ACOT4', 122970, 37, '14', 74058831, 74058831, '+', 'Silent',\n",
       "        'SNP', 'C', 'T', 'rs542718736', 'byFrequency',\n",
       "        'g.chr14:74058831C>T', 'ENST00000326303.4', 'ACH-001850',\n",
       "        'c.168C>T', 'c.(166-168)gcC>gcT', 'p.A56A', False, False, nan,\n",
       "        False, 0.0, nan, '251:124', nan, nan, nan, nan, nan, nan]],\n",
       "      dtype=object)"
      ]
     },
     "execution_count": 35,
     "metadata": {},
     "output_type": "execute_result"
    }
   ],
   "source": [
    "mutations[mutations[\"Hugo_Symbol\"]==\"ACOT4\"][mutations['Start_position']==74058831].values"
   ]
  },
  {
   "cell_type": "code",
   "execution_count": 49,
   "metadata": {},
   "outputs": [],
   "source": [
    "ac_data = mutations[[val for val in mutations.columns.values if '_AC' in val]]"
   ]
  },
  {
   "cell_type": "code",
   "execution_count": 52,
   "metadata": {},
   "outputs": [],
   "source": [
    "ac_names = ac_data.columns.values\n",
    "ac_data = ac_data.values"
   ]
  },
  {
   "cell_type": "code",
   "execution_count": 67,
   "metadata": {},
   "outputs": [
    {
     "data": {
      "text/plain": [
       "1250416"
      ]
     },
     "execution_count": 67,
     "metadata": {},
     "output_type": "execute_result"
    }
   ],
   "source": [
    "ac_data.shape[0]"
   ]
  },
  {
   "cell_type": "code",
   "execution_count": 81,
   "metadata": {},
   "outputs": [
    {
     "data": {
      "text/plain": [
       "0"
      ]
     },
     "execution_count": 81,
     "metadata": {},
     "output_type": "execute_result"
    }
   ],
   "source": [
    "allnan"
   ]
  },
  {
   "cell_type": "code",
   "execution_count": 79,
   "metadata": {
    "scrolled": true
   },
   "outputs": [
    {
     "name": "stdout",
     "output_type": "stream",
     "text": [
      "0.11988010390142169657\r"
     ]
    },
    {
     "name": "stderr",
     "output_type": "stream",
     "text": [
      "IOPub message rate exceeded.\n",
      "The notebook server will temporarily stop sending output\n",
      "to the client in order to avoid crashing it.\n",
      "To change this limit, set the config variable\n",
      "`--NotebookApp.iopub_msg_rate_limit`.\n",
      "\n",
      "Current values:\n",
      "NotebookApp.iopub_msg_rate_limit=1000.0 (msgs/sec)\n",
      "NotebookApp.rate_limit_window=3.0 (secs)\n",
      "\n"
     ]
    },
    {
     "name": "stdout",
     "output_type": "stream",
     "text": [
      "0.97303617356143886"
     ]
    },
    {
     "name": "stderr",
     "output_type": "stream",
     "text": [
      "IOPub message rate exceeded.\n",
      "The notebook server will temporarily stop sending output\n",
      "to the client in order to avoid crashing it.\n",
      "To change this limit, set the config variable\n",
      "`--NotebookApp.iopub_msg_rate_limit`.\n",
      "\n",
      "Current values:\n",
      "NotebookApp.iopub_msg_rate_limit=1000.0 (msgs/sec)\n",
      "NotebookApp.rate_limit_window=3.0 (secs)\n",
      "\n"
     ]
    },
    {
     "name": "stdout",
     "output_type": "stream",
     "text": [
      "1.4827065552584125"
     ]
    },
    {
     "name": "stderr",
     "output_type": "stream",
     "text": [
      "IOPub message rate exceeded.\n",
      "The notebook server will temporarily stop sending output\n",
      "to the client in order to avoid crashing it.\n",
      "To change this limit, set the config variable\n",
      "`--NotebookApp.iopub_msg_rate_limit`.\n",
      "\n",
      "Current values:\n",
      "NotebookApp.iopub_msg_rate_limit=1000.0 (msgs/sec)\n",
      "NotebookApp.rate_limit_window=3.0 (secs)\n",
      "\n"
     ]
    },
    {
     "name": "stdout",
     "output_type": "stream",
     "text": [
      "2.14192716663894262.127851850904019\r"
     ]
    },
    {
     "name": "stderr",
     "output_type": "stream",
     "text": [
      "IOPub message rate exceeded.\n",
      "The notebook server will temporarily stop sending output\n",
      "to the client in order to avoid crashing it.\n",
      "To change this limit, set the config variable\n",
      "`--NotebookApp.iopub_msg_rate_limit`.\n",
      "\n",
      "Current values:\n",
      "NotebookApp.iopub_msg_rate_limit=1000.0 (msgs/sec)\n",
      "NotebookApp.rate_limit_window=3.0 (secs)\n",
      "\n"
     ]
    },
    {
     "name": "stdout",
     "output_type": "stream",
     "text": [
      "2.48845184322657432.3808876405932105\r"
     ]
    },
    {
     "name": "stderr",
     "output_type": "stream",
     "text": [
      "IOPub message rate exceeded.\n",
      "The notebook server will temporarily stop sending output\n",
      "to the client in order to avoid crashing it.\n",
      "To change this limit, set the config variable\n",
      "`--NotebookApp.iopub_msg_rate_limit`.\n",
      "\n",
      "Current values:\n",
      "NotebookApp.iopub_msg_rate_limit=1000.0 (msgs/sec)\n",
      "NotebookApp.rate_limit_window=3.0 (secs)\n",
      "\n"
     ]
    },
    {
     "name": "stdout",
     "output_type": "stream",
     "text": [
      "2.95637611802792042.8480121815459816"
     ]
    },
    {
     "name": "stderr",
     "output_type": "stream",
     "text": [
      "IOPub message rate exceeded.\n",
      "The notebook server will temporarily stop sending output\n",
      "to the client in order to avoid crashing it.\n",
      "To change this limit, set the config variable\n",
      "`--NotebookApp.iopub_msg_rate_limit`.\n",
      "\n",
      "Current values:\n",
      "NotebookApp.iopub_msg_rate_limit=1000.0 (msgs/sec)\n",
      "NotebookApp.rate_limit_window=3.0 (secs)\n",
      "\n"
     ]
    },
    {
     "name": "stdout",
     "output_type": "stream",
     "text": [
      "3.29194444089007243.2755498969942805"
     ]
    },
    {
     "name": "stderr",
     "output_type": "stream",
     "text": [
      "IOPub message rate exceeded.\n",
      "The notebook server will temporarily stop sending output\n",
      "to the client in order to avoid crashing it.\n",
      "To change this limit, set the config variable\n",
      "`--NotebookApp.iopub_msg_rate_limit`.\n",
      "\n",
      "Current values:\n",
      "NotebookApp.iopub_msg_rate_limit=1000.0 (msgs/sec)\n",
      "NotebookApp.rate_limit_window=3.0 (secs)\n",
      "\n"
     ]
    },
    {
     "name": "stdout",
     "output_type": "stream",
     "text": [
      "3.66262107970467463.37047830482015563.40534670061803453.4398152294916253.473244104362068\r"
     ]
    },
    {
     "name": "stderr",
     "output_type": "stream",
     "text": [
      "IOPub message rate exceeded.\n",
      "The notebook server will temporarily stop sending output\n",
      "to the client in order to avoid crashing it.\n",
      "To change this limit, set the config variable\n",
      "`--NotebookApp.iopub_msg_rate_limit`.\n",
      "\n",
      "Current values:\n",
      "NotebookApp.iopub_msg_rate_limit=1000.0 (msgs/sec)\n",
      "NotebookApp.rate_limit_window=3.0 (secs)\n",
      "\n"
     ]
    },
    {
     "name": "stdout",
     "output_type": "stream",
     "text": [
      "4.0926379700835565\r"
     ]
    },
    {
     "name": "stderr",
     "output_type": "stream",
     "text": [
      "IOPub message rate exceeded.\n",
      "The notebook server will temporarily stop sending output\n",
      "to the client in order to avoid crashing it.\n",
      "To change this limit, set the config variable\n",
      "`--NotebookApp.iopub_msg_rate_limit`.\n",
      "\n",
      "Current values:\n",
      "NotebookApp.iopub_msg_rate_limit=1000.0 (msgs/sec)\n",
      "NotebookApp.rate_limit_window=3.0 (secs)\n",
      "\n"
     ]
    },
    {
     "name": "stdout",
     "output_type": "stream",
     "text": [
      "5.53367839183119954.2795357704955794.3757437524791754.4090926539647614.78240841447966154.8627016928766115.524161559033153"
     ]
    },
    {
     "name": "stderr",
     "output_type": "stream",
     "text": [
      "IOPub message rate exceeded.\n",
      "The notebook server will temporarily stop sending output\n",
      "to the client in order to avoid crashing it.\n",
      "To change this limit, set the config variable\n",
      "`--NotebookApp.iopub_msg_rate_limit`.\n",
      "\n",
      "Current values:\n",
      "NotebookApp.iopub_msg_rate_limit=1000.0 (msgs/sec)\n",
      "NotebookApp.rate_limit_window=3.0 (secs)\n",
      "\n"
     ]
    },
    {
     "name": "stdout",
     "output_type": "stream",
     "text": [
      "7.92192358383130156.0225556934652156.3524459060024827.3601905285920847.824196107535412\r"
     ]
    },
    {
     "name": "stderr",
     "output_type": "stream",
     "text": [
      "IOPub message rate exceeded.\n",
      "The notebook server will temporarily stop sending output\n",
      "to the client in order to avoid crashing it.\n",
      "To change this limit, set the config variable\n",
      "`--NotebookApp.iopub_msg_rate_limit`.\n",
      "\n",
      "Current values:\n",
      "NotebookApp.iopub_msg_rate_limit=1000.0 (msgs/sec)\n",
      "NotebookApp.rate_limit_window=3.0 (secs)\n",
      "\n"
     ]
    },
    {
     "name": "stdout",
     "output_type": "stream",
     "text": [
      "8.2749261045923925\r"
     ]
    },
    {
     "name": "stderr",
     "output_type": "stream",
     "text": [
      "IOPub message rate exceeded.\n",
      "The notebook server will temporarily stop sending output\n",
      "to the client in order to avoid crashing it.\n",
      "To change this limit, set the config variable\n",
      "`--NotebookApp.iopub_msg_rate_limit`.\n",
      "\n",
      "Current values:\n",
      "NotebookApp.iopub_msg_rate_limit=1000.0 (msgs/sec)\n",
      "NotebookApp.rate_limit_window=3.0 (secs)\n",
      "\n"
     ]
    },
    {
     "name": "stdout",
     "output_type": "stream",
     "text": [
      "8.5186050082532538.3785716113677368.447268748960346\r"
     ]
    },
    {
     "name": "stderr",
     "output_type": "stream",
     "text": [
      "IOPub message rate exceeded.\n",
      "The notebook server will temporarily stop sending output\n",
      "to the client in order to avoid crashing it.\n",
      "To change this limit, set the config variable\n",
      "`--NotebookApp.iopub_msg_rate_limit`.\n",
      "\n",
      "Current values:\n",
      "NotebookApp.iopub_msg_rate_limit=1000.0 (msgs/sec)\n",
      "NotebookApp.rate_limit_window=3.0 (secs)\n",
      "\n"
     ]
    },
    {
     "name": "stdout",
     "output_type": "stream",
     "text": [
      "8.927908791954037"
     ]
    },
    {
     "name": "stderr",
     "output_type": "stream",
     "text": [
      "IOPub message rate exceeded.\n",
      "The notebook server will temporarily stop sending output\n",
      "to the client in order to avoid crashing it.\n",
      "To change this limit, set the config variable\n",
      "`--NotebookApp.iopub_msg_rate_limit`.\n",
      "\n",
      "Current values:\n",
      "NotebookApp.iopub_msg_rate_limit=1000.0 (msgs/sec)\n",
      "NotebookApp.rate_limit_window=3.0 (secs)\n",
      "\n"
     ]
    },
    {
     "name": "stdout",
     "output_type": "stream",
     "text": [
      "9.9677227418715058.997165743240659.0353130478176869.4132672646543239.440858082430168"
     ]
    },
    {
     "name": "stderr",
     "output_type": "stream",
     "text": [
      "IOPub message rate exceeded.\n",
      "The notebook server will temporarily stop sending output\n",
      "to the client in order to avoid crashing it.\n",
      "To change this limit, set the config variable\n",
      "`--NotebookApp.iopub_msg_rate_limit`.\n",
      "\n",
      "Current values:\n",
      "NotebookApp.iopub_msg_rate_limit=1000.0 (msgs/sec)\n",
      "NotebookApp.rate_limit_window=3.0 (secs)\n",
      "\n"
     ]
    },
    {
     "name": "stdout",
     "output_type": "stream",
     "text": [
      "11.32543089659761310.18349093421709210.71803303860475210.7574599173395110.7893692978976611.25873309362644111.319033025809011"
     ]
    },
    {
     "name": "stderr",
     "output_type": "stream",
     "text": [
      "IOPub message rate exceeded.\n",
      "The notebook server will temporarily stop sending output\n",
      "to the client in order to avoid crashing it.\n",
      "To change this limit, set the config variable\n",
      "`--NotebookApp.iopub_msg_rate_limit`.\n",
      "\n",
      "Current values:\n",
      "NotebookApp.iopub_msg_rate_limit=1000.0 (msgs/sec)\n",
      "NotebookApp.rate_limit_window=3.0 (secs)\n",
      "\n"
     ]
    },
    {
     "name": "stdout",
     "output_type": "stream",
     "text": [
      "11.97153587286151211.85245550280866511.88924325984312311.932428887666184"
     ]
    },
    {
     "name": "stderr",
     "output_type": "stream",
     "text": [
      "IOPub message rate exceeded.\n",
      "The notebook server will temporarily stop sending output\n",
      "to the client in order to avoid crashing it.\n",
      "To change this limit, set the config variable\n",
      "`--NotebookApp.iopub_msg_rate_limit`.\n",
      "\n",
      "Current values:\n",
      "NotebookApp.iopub_msg_rate_limit=1000.0 (msgs/sec)\n",
      "NotebookApp.rate_limit_window=3.0 (secs)\n",
      "\n"
     ]
    },
    {
     "name": "stdout",
     "output_type": "stream",
     "text": [
      "12.123885171015086"
     ]
    },
    {
     "name": "stderr",
     "output_type": "stream",
     "text": [
      "IOPub message rate exceeded.\n",
      "The notebook server will temporarily stop sending output\n",
      "to the client in order to avoid crashing it.\n",
      "To change this limit, set the config variable\n",
      "`--NotebookApp.iopub_msg_rate_limit`.\n",
      "\n",
      "Current values:\n",
      "NotebookApp.iopub_msg_rate_limit=1000.0 (msgs/sec)\n",
      "NotebookApp.rate_limit_window=3.0 (secs)\n",
      "\n"
     ]
    },
    {
     "name": "stdout",
     "output_type": "stream",
     "text": [
      "12.71584816573044612.70921037478727\r"
     ]
    },
    {
     "name": "stderr",
     "output_type": "stream",
     "text": [
      "IOPub message rate exceeded.\n",
      "The notebook server will temporarily stop sending output\n",
      "to the client in order to avoid crashing it.\n",
      "To change this limit, set the config variable\n",
      "`--NotebookApp.iopub_msg_rate_limit`.\n",
      "\n",
      "Current values:\n",
      "NotebookApp.iopub_msg_rate_limit=1000.0 (msgs/sec)\n",
      "NotebookApp.rate_limit_window=3.0 (secs)\n",
      "\n"
     ]
    },
    {
     "name": "stdout",
     "output_type": "stream",
     "text": [
      "13.55844774858927112.7743886834461512.85036339906079313.29677483333546613.33700144591879813.404498982738545\r"
     ]
    },
    {
     "name": "stderr",
     "output_type": "stream",
     "text": [
      "IOPub message rate exceeded.\n",
      "The notebook server will temporarily stop sending output\n",
      "to the client in order to avoid crashing it.\n",
      "To change this limit, set the config variable\n",
      "`--NotebookApp.iopub_msg_rate_limit`.\n",
      "\n",
      "Current values:\n",
      "NotebookApp.iopub_msg_rate_limit=1000.0 (msgs/sec)\n",
      "NotebookApp.rate_limit_window=3.0 (secs)\n",
      "\n"
     ]
    },
    {
     "name": "stdout",
     "output_type": "stream",
     "text": [
      "13.87346291154303813.841393584215174\r"
     ]
    },
    {
     "name": "stderr",
     "output_type": "stream",
     "text": [
      "IOPub message rate exceeded.\n",
      "The notebook server will temporarily stop sending output\n",
      "to the client in order to avoid crashing it.\n",
      "To change this limit, set the config variable\n",
      "`--NotebookApp.iopub_msg_rate_limit`.\n",
      "\n",
      "Current values:\n",
      "NotebookApp.iopub_msg_rate_limit=1000.0 (msgs/sec)\n",
      "NotebookApp.rate_limit_window=3.0 (secs)\n",
      "\n"
     ]
    },
    {
     "name": "stdout",
     "output_type": "stream",
     "text": [
      "14.302840014843063\r"
     ]
    },
    {
     "name": "stderr",
     "output_type": "stream",
     "text": [
      "IOPub message rate exceeded.\n",
      "The notebook server will temporarily stop sending output\n",
      "to the client in order to avoid crashing it.\n",
      "To change this limit, set the config variable\n",
      "`--NotebookApp.iopub_msg_rate_limit`.\n",
      "\n",
      "Current values:\n",
      "NotebookApp.iopub_msg_rate_limit=1000.0 (msgs/sec)\n",
      "NotebookApp.rate_limit_window=3.0 (secs)\n",
      "\n"
     ]
    },
    {
     "name": "stdout",
     "output_type": "stream",
     "text": [
      "15.74683945183043414.81634911901319315.27123773208276315.33825542859336415.41159102250770915.565619761743292\r"
     ]
    },
    {
     "name": "stderr",
     "output_type": "stream",
     "text": [
      "IOPub message rate exceeded.\n",
      "The notebook server will temporarily stop sending output\n",
      "to the client in order to avoid crashing it.\n",
      "To change this limit, set the config variable\n",
      "`--NotebookApp.iopub_msg_rate_limit`.\n",
      "\n",
      "Current values:\n",
      "NotebookApp.iopub_msg_rate_limit=1000.0 (msgs/sec)\n",
      "NotebookApp.rate_limit_window=3.0 (secs)\n",
      "\n"
     ]
    },
    {
     "name": "stdout",
     "output_type": "stream",
     "text": [
      "16.14502693503602515.95485022584483815.992357743343016"
     ]
    },
    {
     "name": "stderr",
     "output_type": "stream",
     "text": [
      "IOPub message rate exceeded.\n",
      "The notebook server will temporarily stop sending output\n",
      "to the client in order to avoid crashing it.\n",
      "To change this limit, set the config variable\n",
      "`--NotebookApp.iopub_msg_rate_limit`.\n",
      "\n",
      "Current values:\n",
      "NotebookApp.iopub_msg_rate_limit=1000.0 (msgs/sec)\n",
      "NotebookApp.rate_limit_window=3.0 (secs)\n",
      "\n"
     ]
    },
    {
     "name": "stdout",
     "output_type": "stream",
     "text": [
      "17.18084221571061216.44884582410973616.56552699261685616.70172166702921"
     ]
    },
    {
     "name": "stderr",
     "output_type": "stream",
     "text": [
      "IOPub message rate exceeded.\n",
      "The notebook server will temporarily stop sending output\n",
      "to the client in order to avoid crashing it.\n",
      "To change this limit, set the config variable\n",
      "`--NotebookApp.iopub_msg_rate_limit`.\n",
      "\n",
      "Current values:\n",
      "NotebookApp.iopub_msg_rate_limit=1000.0 (msgs/sec)\n",
      "NotebookApp.rate_limit_window=3.0 (secs)\n",
      "\n"
     ]
    },
    {
     "name": "stdout",
     "output_type": "stream",
     "text": [
      "17.57135225396987717.35678366239715617.43611726017581317.46698698673081717.53712364525086217.567993371805862"
     ]
    },
    {
     "name": "stderr",
     "output_type": "stream",
     "text": [
      "IOPub message rate exceeded.\n",
      "The notebook server will temporarily stop sending output\n",
      "to the client in order to avoid crashing it.\n",
      "To change this limit, set the config variable\n",
      "`--NotebookApp.iopub_msg_rate_limit`.\n",
      "\n",
      "Current values:\n",
      "NotebookApp.iopub_msg_rate_limit=1000.0 (msgs/sec)\n",
      "NotebookApp.rate_limit_window=3.0 (secs)\n",
      "\n"
     ]
    },
    {
     "name": "stdout",
     "output_type": "stream",
     "text": [
      "17.757050453609043\r"
     ]
    },
    {
     "name": "stderr",
     "output_type": "stream",
     "text": [
      "IOPub message rate exceeded.\n",
      "The notebook server will temporarily stop sending output\n",
      "to the client in order to avoid crashing it.\n",
      "To change this limit, set the config variable\n",
      "`--NotebookApp.iopub_msg_rate_limit`.\n",
      "\n",
      "Current values:\n",
      "NotebookApp.iopub_msg_rate_limit=1000.0 (msgs/sec)\n",
      "NotebookApp.rate_limit_window=3.0 (secs)\n",
      "\n"
     ]
    },
    {
     "name": "stdout",
     "output_type": "stream",
     "text": [
      "18.09629755217463718.087180586300878"
     ]
    },
    {
     "name": "stderr",
     "output_type": "stream",
     "text": [
      "IOPub message rate exceeded.\n",
      "The notebook server will temporarily stop sending output\n",
      "to the client in order to avoid crashing it.\n",
      "To change this limit, set the config variable\n",
      "`--NotebookApp.iopub_msg_rate_limit`.\n",
      "\n",
      "Current values:\n",
      "NotebookApp.iopub_msg_rate_limit=1000.0 (msgs/sec)\n",
      "NotebookApp.rate_limit_window=3.0 (secs)\n",
      "\n"
     ]
    },
    {
     "name": "stdout",
     "output_type": "stream",
     "text": [
      "18.54398856060703318.45953666619749"
     ]
    },
    {
     "name": "stderr",
     "output_type": "stream",
     "text": [
      "IOPub message rate exceeded.\n",
      "The notebook server will temporarily stop sending output\n",
      "to the client in order to avoid crashing it.\n",
      "To change this limit, set the config variable\n",
      "`--NotebookApp.iopub_msg_rate_limit`.\n",
      "\n",
      "Current values:\n",
      "NotebookApp.iopub_msg_rate_limit=1000.0 (msgs/sec)\n",
      "NotebookApp.rate_limit_window=3.0 (secs)\n",
      "\n"
     ]
    },
    {
     "name": "stdout",
     "output_type": "stream",
     "text": [
      "19.16658136172282318.84228928612557818.88179613824519318.948413967831506\r"
     ]
    },
    {
     "name": "stderr",
     "output_type": "stream",
     "text": [
      "IOPub message rate exceeded.\n",
      "The notebook server will temporarily stop sending output\n",
      "to the client in order to avoid crashing it.\n",
      "To change this limit, set the config variable\n",
      "`--NotebookApp.iopub_msg_rate_limit`.\n",
      "\n",
      "Current values:\n",
      "NotebookApp.iopub_msg_rate_limit=1000.0 (msgs/sec)\n",
      "NotebookApp.rate_limit_window=3.0 (secs)\n",
      "\n"
     ]
    },
    {
     "name": "stdout",
     "output_type": "stream",
     "text": [
      "19.82964069557651519.34060344717278219.73151335235633819.75886424997760619.789973896687183\r"
     ]
    },
    {
     "name": "stderr",
     "output_type": "stream",
     "text": [
      "IOPub message rate exceeded.\n",
      "The notebook server will temporarily stop sending output\n",
      "to the client in order to avoid crashing it.\n",
      "To change this limit, set the config variable\n",
      "`--NotebookApp.iopub_msg_rate_limit`.\n",
      "\n",
      "Current values:\n",
      "NotebookApp.iopub_msg_rate_limit=1000.0 (msgs/sec)\n",
      "NotebookApp.rate_limit_window=3.0 (secs)\n",
      "\n"
     ]
    },
    {
     "name": "stdout",
     "output_type": "stream",
     "text": [
      "20.34794820283809720.017658123376542"
     ]
    },
    {
     "name": "stderr",
     "output_type": "stream",
     "text": [
      "IOPub message rate exceeded.\n",
      "The notebook server will temporarily stop sending output\n",
      "to the client in order to avoid crashing it.\n",
      "To change this limit, set the config variable\n",
      "`--NotebookApp.iopub_msg_rate_limit`.\n",
      "\n",
      "Current values:\n",
      "NotebookApp.iopub_msg_rate_limit=1000.0 (msgs/sec)\n",
      "NotebookApp.rate_limit_window=3.0 (secs)\n",
      "\n"
     ]
    },
    {
     "name": "stdout",
     "output_type": "stream",
     "text": [
      "20.67256017197476620.58035085923405\r"
     ]
    },
    {
     "name": "stderr",
     "output_type": "stream",
     "text": [
      "IOPub message rate exceeded.\n",
      "The notebook server will temporarily stop sending output\n",
      "to the client in order to avoid crashing it.\n",
      "To change this limit, set the config variable\n",
      "`--NotebookApp.iopub_msg_rate_limit`.\n",
      "\n",
      "Current values:\n",
      "NotebookApp.iopub_msg_rate_limit=1000.0 (msgs/sec)\n",
      "NotebookApp.rate_limit_window=3.0 (secs)\n",
      "\n"
     ]
    },
    {
     "name": "stdout",
     "output_type": "stream",
     "text": [
      "21.09210054893731421.02092423641412"
     ]
    },
    {
     "name": "stderr",
     "output_type": "stream",
     "text": [
      "IOPub message rate exceeded.\n",
      "The notebook server will temporarily stop sending output\n",
      "to the client in order to avoid crashing it.\n",
      "To change this limit, set the config variable\n",
      "`--NotebookApp.iopub_msg_rate_limit`.\n",
      "\n",
      "Current values:\n",
      "NotebookApp.iopub_msg_rate_limit=1000.0 (msgs/sec)\n",
      "NotebookApp.rate_limit_window=3.0 (secs)\n",
      "\n"
     ]
    },
    {
     "name": "stdout",
     "output_type": "stream",
     "text": [
      "21.48612941613031421.35545290527312521.422870468708012"
     ]
    },
    {
     "name": "stderr",
     "output_type": "stream",
     "text": [
      "IOPub message rate exceeded.\n",
      "The notebook server will temporarily stop sending output\n",
      "to the client in order to avoid crashing it.\n",
      "To change this limit, set the config variable\n",
      "`--NotebookApp.iopub_msg_rate_limit`.\n",
      "\n",
      "Current values:\n",
      "NotebookApp.iopub_msg_rate_limit=1000.0 (msgs/sec)\n",
      "NotebookApp.rate_limit_window=3.0 (secs)\n",
      "\n"
     ]
    },
    {
     "name": "stdout",
     "output_type": "stream",
     "text": [
      "22.40654310245554421.80938183772440622.26874896034599522.32944875945285522.398625737354607\r"
     ]
    },
    {
     "name": "stderr",
     "output_type": "stream",
     "text": [
      "IOPub message rate exceeded.\n",
      "The notebook server will temporarily stop sending output\n",
      "to the client in order to avoid crashing it.\n",
      "To change this limit, set the config variable\n",
      "`--NotebookApp.iopub_msg_rate_limit`.\n",
      "\n",
      "Current values:\n",
      "NotebookApp.iopub_msg_rate_limit=1000.0 (msgs/sec)\n",
      "NotebookApp.rate_limit_window=3.0 (secs)\n",
      "\n"
     ]
    },
    {
     "name": "stdout",
     "output_type": "stream",
     "text": [
      "22.776739900960962\r"
     ]
    },
    {
     "name": "stderr",
     "output_type": "stream",
     "text": [
      "IOPub message rate exceeded.\n",
      "The notebook server will temporarily stop sending output\n",
      "to the client in order to avoid crashing it.\n",
      "To change this limit, set the config variable\n",
      "`--NotebookApp.iopub_msg_rate_limit`.\n",
      "\n",
      "Current values:\n",
      "NotebookApp.iopub_msg_rate_limit=1000.0 (msgs/sec)\n",
      "NotebookApp.rate_limit_window=3.0 (secs)\n",
      "\n"
     ]
    },
    {
     "name": "stdout",
     "output_type": "stream",
     "text": [
      "23.27313470077158223.10463077887679\r"
     ]
    },
    {
     "name": "stderr",
     "output_type": "stream",
     "text": [
      "IOPub message rate exceeded.\n",
      "The notebook server will temporarily stop sending output\n",
      "to the client in order to avoid crashing it.\n",
      "To change this limit, set the config variable\n",
      "`--NotebookApp.iopub_msg_rate_limit`.\n",
      "\n",
      "Current values:\n",
      "NotebookApp.iopub_msg_rate_limit=1000.0 (msgs/sec)\n",
      "NotebookApp.rate_limit_window=3.0 (secs)\n",
      "\n"
     ]
    },
    {
     "name": "stdout",
     "output_type": "stream",
     "text": [
      "24.08294519583882523.94203209171987723.98177886399406224.011448989776202"
     ]
    },
    {
     "name": "stderr",
     "output_type": "stream",
     "text": [
      "IOPub message rate exceeded.\n",
      "The notebook server will temporarily stop sending output\n",
      "to the client in order to avoid crashing it.\n",
      "To change this limit, set the config variable\n",
      "`--NotebookApp.iopub_msg_rate_limit`.\n",
      "\n",
      "Current values:\n",
      "NotebookApp.iopub_msg_rate_limit=1000.0 (msgs/sec)\n",
      "NotebookApp.rate_limit_window=3.0 (secs)\n",
      "\n"
     ]
    },
    {
     "name": "stdout",
     "output_type": "stream",
     "text": [
      "24.473455234098093\r"
     ]
    },
    {
     "name": "stderr",
     "output_type": "stream",
     "text": [
      "IOPub message rate exceeded.\n",
      "The notebook server will temporarily stop sending output\n",
      "to the client in order to avoid crashing it.\n",
      "To change this limit, set the config variable\n",
      "`--NotebookApp.iopub_msg_rate_limit`.\n",
      "\n",
      "Current values:\n",
      "NotebookApp.iopub_msg_rate_limit=1000.0 (msgs/sec)\n",
      "NotebookApp.rate_limit_window=3.0 (secs)\n",
      "\n"
     ]
    },
    {
     "name": "stdout",
     "output_type": "stream",
     "text": [
      "26.15313623626057225.2118494964875725.2643920103389625.35244270706708725.72551854742741625.7934159511714525.9292107586595226.101393456257757\r"
     ]
    },
    {
     "name": "stderr",
     "output_type": "stream",
     "text": [
      "IOPub message rate exceeded.\n",
      "The notebook server will temporarily stop sending output\n",
      "to the client in order to avoid crashing it.\n",
      "To change this limit, set the config variable\n",
      "`--NotebookApp.iopub_msg_rate_limit`.\n",
      "\n",
      "Current values:\n",
      "NotebookApp.iopub_msg_rate_limit=1000.0 (msgs/sec)\n",
      "NotebookApp.rate_limit_window=3.0 (secs)\n",
      "\n"
     ]
    },
    {
     "name": "stdout",
     "output_type": "stream",
     "text": [
      "27.91351038374429526.55772159025476526.77277002213663327.5730636844058327.60577279881255627.7501247584803827.784593287353967"
     ]
    },
    {
     "name": "stderr",
     "output_type": "stream",
     "text": [
      "IOPub message rate exceeded.\n",
      "The notebook server will temporarily stop sending output\n",
      "to the client in order to avoid crashing it.\n",
      "To change this limit, set the config variable\n",
      "`--NotebookApp.iopub_msg_rate_limit`.\n",
      "\n",
      "Current values:\n",
      "NotebookApp.iopub_msg_rate_limit=1000.0 (msgs/sec)\n",
      "NotebookApp.rate_limit_window=3.0 (secs)\n",
      "\n"
     ]
    },
    {
     "name": "stdout",
     "output_type": "stream",
     "text": [
      "28.30745927755243228.16758582743663\r"
     ]
    },
    {
     "name": "stderr",
     "output_type": "stream",
     "text": [
      "IOPub message rate exceeded.\n",
      "The notebook server will temporarily stop sending output\n",
      "to the client in order to avoid crashing it.\n",
      "To change this limit, set the config variable\n",
      "`--NotebookApp.iopub_msg_rate_limit`.\n",
      "\n",
      "Current values:\n",
      "NotebookApp.iopub_msg_rate_limit=1000.0 (msgs/sec)\n",
      "NotebookApp.rate_limit_window=3.0 (secs)\n",
      "\n"
     ]
    },
    {
     "name": "stdout",
     "output_type": "stream",
     "text": [
      "31.66514184079538228.51395055725454629.50082212639633629.5521650394748629.70347468362528830.15372484037312330.18307507261583230.26416808486135730.48873334954127430.96713413775895430.99664431677137731.49823738659774\r"
     ]
    },
    {
     "name": "stderr",
     "output_type": "stream",
     "text": [
      "IOPub message rate exceeded.\n",
      "The notebook server will temporarily stop sending output\n",
      "to the client in order to avoid crashing it.\n",
      "To change this limit, set the config variable\n",
      "`--NotebookApp.iopub_msg_rate_limit`.\n",
      "\n",
      "Current values:\n",
      "NotebookApp.iopub_msg_rate_limit=1000.0 (msgs/sec)\n",
      "NotebookApp.rate_limit_window=3.0 (secs)\n",
      "\n"
     ]
    },
    {
     "name": "stdout",
     "output_type": "stream",
     "text": [
      "31.824528796816423\r"
     ]
    },
    {
     "name": "stderr",
     "output_type": "stream",
     "text": [
      "IOPub message rate exceeded.\n",
      "The notebook server will temporarily stop sending output\n",
      "to the client in order to avoid crashing it.\n",
      "To change this limit, set the config variable\n",
      "`--NotebookApp.iopub_msg_rate_limit`.\n",
      "\n",
      "Current values:\n",
      "NotebookApp.iopub_msg_rate_limit=1000.0 (msgs/sec)\n",
      "NotebookApp.rate_limit_window=3.0 (secs)\n",
      "\n"
     ]
    },
    {
     "name": "stdout",
     "output_type": "stream",
     "text": [
      "34.13232076364986532.1492207393379532.61026730304154632.65249325024631632.7013569883942632.7816502667912132.9370385535693733.00109723484024533.03556576371383433.21454619902496633.6692748653248234.03803214290284"
     ]
    },
    {
     "name": "stderr",
     "output_type": "stream",
     "text": [
      "IOPub message rate exceeded.\n",
      "The notebook server will temporarily stop sending output\n",
      "to the client in order to avoid crashing it.\n",
      "To change this limit, set the config variable\n",
      "`--NotebookApp.iopub_msg_rate_limit`.\n",
      "\n",
      "Current values:\n",
      "NotebookApp.iopub_msg_rate_limit=1000.0 (msgs/sec)\n",
      "NotebookApp.rate_limit_window=3.0 (secs)\n",
      "\n"
     ]
    },
    {
     "name": "stdout",
     "output_type": "stream",
     "text": [
      "34.385436526723914\r"
     ]
    },
    {
     "name": "stderr",
     "output_type": "stream",
     "text": [
      "IOPub message rate exceeded.\n",
      "The notebook server will temporarily stop sending output\n",
      "to the client in order to avoid crashing it.\n",
      "To change this limit, set the config variable\n",
      "`--NotebookApp.iopub_msg_rate_limit`.\n",
      "\n",
      "Current values:\n",
      "NotebookApp.iopub_msg_rate_limit=1000.0 (msgs/sec)\n",
      "NotebookApp.rate_limit_window=3.0 (secs)\n",
      "\n"
     ]
    },
    {
     "name": "stdout",
     "output_type": "stream",
     "text": [
      "35.06624995201596634.61719939604099535.05913232076365"
     ]
    },
    {
     "name": "stderr",
     "output_type": "stream",
     "text": [
      "IOPub message rate exceeded.\n",
      "The notebook server will temporarily stop sending output\n",
      "to the client in order to avoid crashing it.\n",
      "To change this limit, set the config variable\n",
      "`--NotebookApp.iopub_msg_rate_limit`.\n",
      "\n",
      "Current values:\n",
      "NotebookApp.iopub_msg_rate_limit=1000.0 (msgs/sec)\n",
      "NotebookApp.rate_limit_window=3.0 (secs)\n",
      "\n"
     ]
    },
    {
     "name": "stdout",
     "output_type": "stream",
     "text": [
      "35.44964235902292435.1515815536589435.1946072347122935.2553070338191435.28433737252242"
     ]
    },
    {
     "name": "stderr",
     "output_type": "stream",
     "text": [
      "IOPub message rate exceeded.\n",
      "The notebook server will temporarily stop sending output\n",
      "to the client in order to avoid crashing it.\n",
      "To change this limit, set the config variable\n",
      "`--NotebookApp.iopub_msg_rate_limit`.\n",
      "\n",
      "Current values:\n",
      "NotebookApp.iopub_msg_rate_limit=1000.0 (msgs/sec)\n",
      "NotebookApp.rate_limit_window=3.0 (secs)\n",
      "\n"
     ]
    },
    {
     "name": "stdout",
     "output_type": "stream",
     "text": [
      "36.65060267942829535.730188993103135.78697009635193635.9549142045527236.4597861831582436.540479328479485\r"
     ]
    },
    {
     "name": "stderr",
     "output_type": "stream",
     "text": [
      "IOPub message rate exceeded.\n",
      "The notebook server will temporarily stop sending output\n",
      "to the client in order to avoid crashing it.\n",
      "To change this limit, set the config variable\n",
      "`--NotebookApp.iopub_msg_rate_limit`.\n",
      "\n",
      "Current values:\n",
      "NotebookApp.iopub_msg_rate_limit=1000.0 (msgs/sec)\n",
      "NotebookApp.rate_limit_window=3.0 (secs)\n",
      "\n"
     ]
    },
    {
     "name": "stdout",
     "output_type": "stream",
     "text": [
      "36.945304602628254"
     ]
    },
    {
     "name": "stderr",
     "output_type": "stream",
     "text": [
      "IOPub message rate exceeded.\n",
      "The notebook server will temporarily stop sending output\n",
      "to the client in order to avoid crashing it.\n",
      "To change this limit, set the config variable\n",
      "`--NotebookApp.iopub_msg_rate_limit`.\n",
      "\n",
      "Current values:\n",
      "NotebookApp.iopub_msg_rate_limit=1000.0 (msgs/sec)\n",
      "NotebookApp.rate_limit_window=3.0 (secs)\n",
      "\n"
     ]
    },
    {
     "name": "stdout",
     "output_type": "stream",
     "text": [
      "37.43602129211398537.1470774526237737.1797065936456337.21625443052552437.260719632506337.30574464818108\r"
     ]
    },
    {
     "name": "stderr",
     "output_type": "stream",
     "text": [
      "IOPub message rate exceeded.\n",
      "The notebook server will temporarily stop sending output\n",
      "to the client in order to avoid crashing it.\n",
      "To change this limit, set the config variable\n",
      "`--NotebookApp.iopub_msg_rate_limit`.\n",
      "\n",
      "Current values:\n",
      "NotebookApp.iopub_msg_rate_limit=1000.0 (msgs/sec)\n",
      "NotebookApp.rate_limit_window=3.0 (secs)\n",
      "\n"
     ]
    },
    {
     "name": "stdout",
     "output_type": "stream",
     "text": [
      "38.32076684879272637.8787539506852137.9093837570856437.93833412240406538.25103005719696438.308131053985235"
     ]
    },
    {
     "name": "stderr",
     "output_type": "stream",
     "text": [
      "IOPub message rate exceeded.\n",
      "The notebook server will temporarily stop sending output\n",
      "to the client in order to avoid crashing it.\n",
      "To change this limit, set the config variable\n",
      "`--NotebookApp.iopub_msg_rate_limit`.\n",
      "\n",
      "Current values:\n",
      "NotebookApp.iopub_msg_rate_limit=1000.0 (msgs/sec)\n",
      "NotebookApp.rate_limit_window=3.0 (secs)\n",
      "\n"
     ]
    },
    {
     "name": "stdout",
     "output_type": "stream",
     "text": [
      "38.80252651917442438.73119025988151\r"
     ]
    },
    {
     "name": "stderr",
     "output_type": "stream",
     "text": [
      "IOPub message rate exceeded.\n",
      "The notebook server will temporarily stop sending output\n",
      "to the client in order to avoid crashing it.\n",
      "To change this limit, set the config variable\n",
      "`--NotebookApp.iopub_msg_rate_limit`.\n",
      "\n",
      "Current values:\n",
      "NotebookApp.iopub_msg_rate_limit=1000.0 (msgs/sec)\n",
      "NotebookApp.rate_limit_window=3.0 (secs)\n",
      "\n"
     ]
    },
    {
     "name": "stdout",
     "output_type": "stream",
     "text": [
      "39.24477933743654439.20775166024747"
     ]
    },
    {
     "name": "stderr",
     "output_type": "stream",
     "text": [
      "IOPub message rate exceeded.\n",
      "The notebook server will temporarily stop sending output\n",
      "to the client in order to avoid crashing it.\n",
      "To change this limit, set the config variable\n",
      "`--NotebookApp.iopub_msg_rate_limit`.\n",
      "\n",
      "Current values:\n",
      "NotebookApp.iopub_msg_rate_limit=1000.0 (msgs/sec)\n",
      "NotebookApp.rate_limit_window=3.0 (secs)\n",
      "\n"
     ]
    },
    {
     "name": "stdout",
     "output_type": "stream",
     "text": [
      "39.69622909495724639.609058105462539.63728871031721"
     ]
    },
    {
     "name": "stderr",
     "output_type": "stream",
     "text": [
      "IOPub message rate exceeded.\n",
      "The notebook server will temporarily stop sending output\n",
      "to the client in order to avoid crashing it.\n",
      "To change this limit, set the config variable\n",
      "`--NotebookApp.iopub_msg_rate_limit`.\n",
      "\n",
      "Current values:\n",
      "NotebookApp.iopub_msg_rate_limit=1000.0 (msgs/sec)\n",
      "NotebookApp.rate_limit_window=3.0 (secs)\n",
      "\n"
     ]
    },
    {
     "name": "stdout",
     "output_type": "stream",
     "text": [
      "39.98549282798684639.77900154828473\r"
     ]
    },
    {
     "name": "stderr",
     "output_type": "stream",
     "text": [
      "IOPub message rate exceeded.\n",
      "The notebook server will temporarily stop sending output\n",
      "to the client in order to avoid crashing it.\n",
      "To change this limit, set the config variable\n",
      "`--NotebookApp.iopub_msg_rate_limit`.\n",
      "\n",
      "Current values:\n",
      "NotebookApp.iopub_msg_rate_limit=1000.0 (msgs/sec)\n",
      "NotebookApp.rate_limit_window=3.0 (secs)\n",
      "\n"
     ]
    },
    {
     "name": "stdout",
     "output_type": "stream",
     "text": [
      "40.57337718007447640.5137170349707640.56154111911556"
     ]
    },
    {
     "name": "stderr",
     "output_type": "stream",
     "text": [
      "IOPub message rate exceeded.\n",
      "The notebook server will temporarily stop sending output\n",
      "to the client in order to avoid crashing it.\n",
      "To change this limit, set the config variable\n",
      "`--NotebookApp.iopub_msg_rate_limit`.\n",
      "\n",
      "Current values:\n",
      "NotebookApp.iopub_msg_rate_limit=1000.0 (msgs/sec)\n",
      "NotebookApp.rate_limit_window=3.0 (secs)\n",
      "\n"
     ]
    },
    {
     "name": "stdout",
     "output_type": "stream",
     "text": [
      "41.16534017478983641.0336240099295"
     ]
    },
    {
     "name": "stderr",
     "output_type": "stream",
     "text": [
      "IOPub message rate exceeded.\n",
      "The notebook server will temporarily stop sending output\n",
      "to the client in order to avoid crashing it.\n",
      "To change this limit, set the config variable\n",
      "`--NotebookApp.iopub_msg_rate_limit`.\n",
      "\n",
      "Current values:\n",
      "NotebookApp.iopub_msg_rate_limit=1000.0 (msgs/sec)\n",
      "NotebookApp.rate_limit_window=3.0 (secs)\n",
      "\n"
     ]
    },
    {
     "name": "stdout",
     "output_type": "stream",
     "text": [
      "41.52170157771493641.49019206408107\r"
     ]
    },
    {
     "name": "stderr",
     "output_type": "stream",
     "text": [
      "IOPub message rate exceeded.\n",
      "The notebook server will temporarily stop sending output\n",
      "to the client in order to avoid crashing it.\n",
      "To change this limit, set the config variable\n",
      "`--NotebookApp.iopub_msg_rate_limit`.\n",
      "\n",
      "Current values:\n",
      "NotebookApp.iopub_msg_rate_limit=1000.0 (msgs/sec)\n",
      "NotebookApp.rate_limit_window=3.0 (secs)\n",
      "\n"
     ]
    },
    {
     "name": "stdout",
     "output_type": "stream",
     "text": [
      "41.923407889854256\r"
     ]
    },
    {
     "name": "stderr",
     "output_type": "stream",
     "text": [
      "IOPub message rate exceeded.\n",
      "The notebook server will temporarily stop sending output\n",
      "to the client in order to avoid crashing it.\n",
      "To change this limit, set the config variable\n",
      "`--NotebookApp.iopub_msg_rate_limit`.\n",
      "\n",
      "Current values:\n",
      "NotebookApp.iopub_msg_rate_limit=1000.0 (msgs/sec)\n",
      "NotebookApp.rate_limit_window=3.0 (secs)\n",
      "\n"
     ]
    },
    {
     "name": "stdout",
     "output_type": "stream",
     "text": [
      "42.310239152410086\r"
     ]
    },
    {
     "name": "stderr",
     "output_type": "stream",
     "text": [
      "IOPub message rate exceeded.\n",
      "The notebook server will temporarily stop sending output\n",
      "to the client in order to avoid crashing it.\n",
      "To change this limit, set the config variable\n",
      "`--NotebookApp.iopub_msg_rate_limit`.\n",
      "\n",
      "Current values:\n",
      "NotebookApp.iopub_msg_rate_limit=1000.0 (msgs/sec)\n",
      "NotebookApp.rate_limit_window=3.0 (secs)\n",
      "\n"
     ]
    },
    {
     "name": "stdout",
     "output_type": "stream",
     "text": [
      "44.10796087062226442.7836815907665943.12284871594733543.1507594272626143.21377845453033543.55454504740822643.67322555053678543.77791071131527"
     ]
    },
    {
     "name": "stderr",
     "output_type": "stream",
     "text": [
      "IOPub message rate exceeded.\n",
      "The notebook server will temporarily stop sending output\n",
      "to the client in order to avoid crashing it.\n",
      "To change this limit, set the config variable\n",
      "`--NotebookApp.iopub_msg_rate_limit`.\n",
      "\n",
      "Current values:\n",
      "NotebookApp.iopub_msg_rate_limit=1000.0 (msgs/sec)\n",
      "NotebookApp.rate_limit_window=3.0 (secs)\n",
      "\n"
     ]
    },
    {
     "name": "stdout",
     "output_type": "stream",
     "text": [
      "44.42089672556973644.24791429412291444.404422208289084\r"
     ]
    },
    {
     "name": "stderr",
     "output_type": "stream",
     "text": [
      "IOPub message rate exceeded.\n",
      "The notebook server will temporarily stop sending output\n",
      "to the client in order to avoid crashing it.\n",
      "To change this limit, set the config variable\n",
      "`--NotebookApp.iopub_msg_rate_limit`.\n",
      "\n",
      "Current values:\n",
      "NotebookApp.iopub_msg_rate_limit=1000.0 (msgs/sec)\n",
      "NotebookApp.rate_limit_window=3.0 (secs)\n",
      "\n"
     ]
    },
    {
     "name": "stdout",
     "output_type": "stream",
     "text": [
      "45.91879822395107544.96407595552200645.4145660324244145.81299343578457"
     ]
    },
    {
     "name": "stderr",
     "output_type": "stream",
     "text": [
      "IOPub message rate exceeded.\n",
      "The notebook server will temporarily stop sending output\n",
      "to the client in order to avoid crashing it.\n",
      "To change this limit, set the config variable\n",
      "`--NotebookApp.iopub_msg_rate_limit`.\n",
      "\n",
      "Current values:\n",
      "NotebookApp.iopub_msg_rate_limit=1000.0 (msgs/sec)\n",
      "NotebookApp.rate_limit_window=3.0 (secs)\n",
      "\n"
     ]
    },
    {
     "name": "stdout",
     "output_type": "stream",
     "text": [
      "47.15862560939719546.4204712671622946.4566992105027546.50964159127842446.5504280175557646.6367992732018847.102884160151504"
     ]
    },
    {
     "name": "stderr",
     "output_type": "stream",
     "text": [
      "IOPub message rate exceeded.\n",
      "The notebook server will temporarily stop sending output\n",
      "to the client in order to avoid crashing it.\n",
      "To change this limit, set the config variable\n",
      "`--NotebookApp.iopub_msg_rate_limit`.\n",
      "\n",
      "Current values:\n",
      "NotebookApp.iopub_msg_rate_limit=1000.0 (msgs/sec)\n",
      "NotebookApp.rate_limit_window=3.0 (secs)\n",
      "\n"
     ]
    },
    {
     "name": "stdout",
     "output_type": "stream",
     "text": [
      "48.22539059001164647.56704968586454647.6716548732581847.7059634553620548.21283476858901"
     ]
    },
    {
     "name": "stderr",
     "output_type": "stream",
     "text": [
      "IOPub message rate exceeded.\n",
      "The notebook server will temporarily stop sending output\n",
      "to the client in order to avoid crashing it.\n",
      "To change this limit, set the config variable\n",
      "`--NotebookApp.iopub_msg_rate_limit`.\n",
      "\n",
      "Current values:\n",
      "NotebookApp.iopub_msg_rate_limit=1000.0 (msgs/sec)\n",
      "NotebookApp.rate_limit_window=3.0 (secs)\n",
      "\n"
     ]
    },
    {
     "name": "stdout",
     "output_type": "stream",
     "text": [
      "48.84638392343028448.3412720246701948.40133203669818648.4595526608744648.5020985016186648.67396130567747\r"
     ]
    },
    {
     "name": "stderr",
     "output_type": "stream",
     "text": [
      "IOPub message rate exceeded.\n",
      "The notebook server will temporarily stop sending output\n",
      "to the client in order to avoid crashing it.\n",
      "To change this limit, set the config variable\n",
      "`--NotebookApp.iopub_msg_rate_limit`.\n",
      "\n",
      "Current values:\n",
      "NotebookApp.iopub_msg_rate_limit=1000.0 (msgs/sec)\n",
      "NotebookApp.rate_limit_window=3.0 (secs)\n",
      "\n"
     ]
    },
    {
     "name": "stdout",
     "output_type": "stream",
     "text": [
      "49.27336182518458649.08878325293342549.23977300354442\r"
     ]
    },
    {
     "name": "stderr",
     "output_type": "stream",
     "text": [
      "IOPub message rate exceeded.\n",
      "The notebook server will temporarily stop sending output\n",
      "to the client in order to avoid crashing it.\n",
      "To change this limit, set the config variable\n",
      "`--NotebookApp.iopub_msg_rate_limit`.\n",
      "\n",
      "Current values:\n",
      "NotebookApp.iopub_msg_rate_limit=1000.0 (msgs/sec)\n",
      "NotebookApp.rate_limit_window=3.0 (secs)\n",
      "\n"
     ]
    },
    {
     "name": "stdout",
     "output_type": "stream",
     "text": [
      "50.56581169786695549.7471241570805250.1740220854499650.20513173215953650.52350577727732\r"
     ]
    },
    {
     "name": "stderr",
     "output_type": "stream",
     "text": [
      "IOPub message rate exceeded.\n",
      "The notebook server will temporarily stop sending output\n",
      "to the client in order to avoid crashing it.\n",
      "To change this limit, set the config variable\n",
      "`--NotebookApp.iopub_msg_rate_limit`.\n",
      "\n",
      "Current values:\n",
      "NotebookApp.iopub_msg_rate_limit=1000.0 (msgs/sec)\n",
      "NotebookApp.rate_limit_window=3.0 (secs)\n",
      "\n"
     ]
    },
    {
     "name": "stdout",
     "output_type": "stream",
     "text": [
      "51.106911619812936\r"
     ]
    },
    {
     "name": "stderr",
     "output_type": "stream",
     "text": [
      "IOPub message rate exceeded.\n",
      "The notebook server will temporarily stop sending output\n",
      "to the client in order to avoid crashing it.\n",
      "To change this limit, set the config variable\n",
      "`--NotebookApp.iopub_msg_rate_limit`.\n",
      "\n",
      "Current values:\n",
      "NotebookApp.iopub_msg_rate_limit=1000.0 (msgs/sec)\n",
      "NotebookApp.rate_limit_window=3.0 (secs)\n",
      "\n"
     ]
    },
    {
     "name": "stdout",
     "output_type": "stream",
     "text": [
      "51.64177361774001451.2982079563921151.3569883942623951.3928964440634251.51669524382286\r"
     ]
    },
    {
     "name": "stderr",
     "output_type": "stream",
     "text": [
      "IOPub message rate exceeded.\n",
      "The notebook server will temporarily stop sending output\n",
      "to the client in order to avoid crashing it.\n",
      "To change this limit, set the config variable\n",
      "`--NotebookApp.iopub_msg_rate_limit`.\n",
      "\n",
      "Current values:\n",
      "NotebookApp.iopub_msg_rate_limit=1000.0 (msgs/sec)\n",
      "NotebookApp.rate_limit_window=3.0 (secs)\n",
      "\n"
     ]
    },
    {
     "name": "stdout",
     "output_type": "stream",
     "text": [
      "52.42943148520172551.9555891799209252.3122704763854652.34841844634106"
     ]
    },
    {
     "name": "stderr",
     "output_type": "stream",
     "text": [
      "IOPub message rate exceeded.\n",
      "The notebook server will temporarily stop sending output\n",
      "to the client in order to avoid crashing it.\n",
      "To change this limit, set the config variable\n",
      "`--NotebookApp.iopub_msg_rate_limit`.\n",
      "\n",
      "Current values:\n",
      "NotebookApp.iopub_msg_rate_limit=1000.0 (msgs/sec)\n",
      "NotebookApp.rate_limit_window=3.0 (secs)\n",
      "\n"
     ]
    },
    {
     "name": "stdout",
     "output_type": "stream",
     "text": [
      "52.653596882957355"
     ]
    },
    {
     "name": "stderr",
     "output_type": "stream",
     "text": [
      "IOPub message rate exceeded.\n",
      "The notebook server will temporarily stop sending output\n",
      "to the client in order to avoid crashing it.\n",
      "To change this limit, set the config variable\n",
      "`--NotebookApp.iopub_msg_rate_limit`.\n",
      "\n",
      "Current values:\n",
      "NotebookApp.iopub_msg_rate_limit=1000.0 (msgs/sec)\n",
      "NotebookApp.rate_limit_window=3.0 (secs)\n",
      "\n"
     ]
    },
    {
     "name": "stdout",
     "output_type": "stream",
     "text": [
      "53.771704776650335"
     ]
    },
    {
     "name": "stderr",
     "output_type": "stream",
     "text": [
      "IOPub message rate exceeded.\n",
      "The notebook server will temporarily stop sending output\n",
      "to the client in order to avoid crashing it.\n",
      "To change this limit, set the config variable\n",
      "`--NotebookApp.iopub_msg_rate_limit`.\n",
      "\n",
      "Current values:\n",
      "NotebookApp.iopub_msg_rate_limit=1000.0 (msgs/sec)\n",
      "NotebookApp.rate_limit_window=3.0 (secs)\n",
      "\n"
     ]
    },
    {
     "name": "stdout",
     "output_type": "stream",
     "text": [
      "54.39173842945067654.02322107202722654.09383757085642\r"
     ]
    },
    {
     "name": "stderr",
     "output_type": "stream",
     "text": [
      "IOPub message rate exceeded.\n",
      "The notebook server will temporarily stop sending output\n",
      "to the client in order to avoid crashing it.\n",
      "To change this limit, set the config variable\n",
      "`--NotebookApp.iopub_msg_rate_limit`.\n",
      "\n",
      "Current values:\n",
      "NotebookApp.iopub_msg_rate_limit=1000.0 (msgs/sec)\n",
      "NotebookApp.rate_limit_window=3.0 (secs)\n",
      "\n"
     ]
    },
    {
     "name": "stdout",
     "output_type": "stream",
     "text": [
      "54.69523742498497654.67932272139832"
     ]
    },
    {
     "name": "stderr",
     "output_type": "stream",
     "text": [
      "IOPub message rate exceeded.\n",
      "The notebook server will temporarily stop sending output\n",
      "to the client in order to avoid crashing it.\n",
      "To change this limit, set the config variable\n",
      "`--NotebookApp.iopub_msg_rate_limit`.\n",
      "\n",
      "Current values:\n",
      "NotebookApp.iopub_msg_rate_limit=1000.0 (msgs/sec)\n",
      "NotebookApp.rate_limit_window=3.0 (secs)\n",
      "\n"
     ]
    },
    {
     "name": "stdout",
     "output_type": "stream",
     "text": [
      "55.19874985604790454.8466270425202555.0107324282478855.07367148213075"
     ]
    },
    {
     "name": "stderr",
     "output_type": "stream",
     "text": [
      "IOPub message rate exceeded.\n",
      "The notebook server will temporarily stop sending output\n",
      "to the client in order to avoid crashing it.\n",
      "To change this limit, set the config variable\n",
      "`--NotebookApp.iopub_msg_rate_limit`.\n",
      "\n",
      "Current values:\n",
      "NotebookApp.iopub_msg_rate_limit=1000.0 (msgs/sec)\n",
      "NotebookApp.rate_limit_window=3.0 (secs)\n",
      "\n"
     ]
    },
    {
     "name": "stdout",
     "output_type": "stream",
     "text": [
      "55.54951312203299455.51272536499853"
     ]
    },
    {
     "name": "stderr",
     "output_type": "stream",
     "text": [
      "IOPub message rate exceeded.\n",
      "The notebook server will temporarily stop sending output\n",
      "to the client in order to avoid crashing it.\n",
      "To change this limit, set the config variable\n",
      "`--NotebookApp.iopub_msg_rate_limit`.\n",
      "\n",
      "Current values:\n",
      "NotebookApp.iopub_msg_rate_limit=1000.0 (msgs/sec)\n",
      "NotebookApp.rate_limit_window=3.0 (secs)\n",
      "\n"
     ]
    },
    {
     "name": "stdout",
     "output_type": "stream",
     "text": [
      "56.38691443487607655.94522143030799655.97705083748128656.1213228237642556.14795396092180456.2409630075111"
     ]
    },
    {
     "name": "stderr",
     "output_type": "stream",
     "text": [
      "IOPub message rate exceeded.\n",
      "The notebook server will temporarily stop sending output\n",
      "to the client in order to avoid crashing it.\n",
      "To change this limit, set the config variable\n",
      "`--NotebookApp.iopub_msg_rate_limit`.\n",
      "\n",
      "Current values:\n",
      "NotebookApp.iopub_msg_rate_limit=1000.0 (msgs/sec)\n",
      "NotebookApp.rate_limit_window=3.0 (secs)\n",
      "\n"
     ]
    },
    {
     "name": "stdout",
     "output_type": "stream",
     "text": [
      "57.31708487415388556.7583908075392556.84012360686363557.22303617356144\r"
     ]
    },
    {
     "name": "stderr",
     "output_type": "stream",
     "text": [
      "IOPub message rate exceeded.\n",
      "The notebook server will temporarily stop sending output\n",
      "to the client in order to avoid crashing it.\n",
      "To change this limit, set the config variable\n",
      "`--NotebookApp.iopub_msg_rate_limit`.\n",
      "\n",
      "Current values:\n",
      "NotebookApp.iopub_msg_rate_limit=1000.0 (msgs/sec)\n",
      "NotebookApp.rate_limit_window=3.0 (secs)\n",
      "\n"
     ]
    },
    {
     "name": "stdout",
     "output_type": "stream",
     "text": [
      "57.78916776496782457.68248326956789"
     ]
    },
    {
     "name": "stderr",
     "output_type": "stream",
     "text": [
      "IOPub message rate exceeded.\n",
      "The notebook server will temporarily stop sending output\n",
      "to the client in order to avoid crashing it.\n",
      "To change this limit, set the config variable\n",
      "`--NotebookApp.iopub_msg_rate_limit`.\n",
      "\n",
      "Current values:\n",
      "NotebookApp.iopub_msg_rate_limit=1000.0 (msgs/sec)\n",
      "NotebookApp.rate_limit_window=3.0 (secs)\n",
      "\n"
     ]
    },
    {
     "name": "stdout",
     "output_type": "stream",
     "text": [
      "59.03331371319625658.2152659594886858.70198397973154458.7317340788985458.75692569512866558.79419329247226558.8239433916392658.9251097234840358.969574925464805\r"
     ]
    },
    {
     "name": "stderr",
     "output_type": "stream",
     "text": [
      "IOPub message rate exceeded.\n",
      "The notebook server will temporarily stop sending output\n",
      "to the client in order to avoid crashing it.\n",
      "To change this limit, set the config variable\n",
      "`--NotebookApp.iopub_msg_rate_limit`.\n",
      "\n",
      "Current values:\n",
      "NotebookApp.iopub_msg_rate_limit=1000.0 (msgs/sec)\n",
      "NotebookApp.rate_limit_window=3.0 (secs)\n",
      "\n"
     ]
    },
    {
     "name": "stdout",
     "output_type": "stream",
     "text": [
      "60.25826604905887559.4676491663574459.520191680208825\r"
     ]
    },
    {
     "name": "stderr",
     "output_type": "stream",
     "text": [
      "IOPub message rate exceeded.\n",
      "The notebook server will temporarily stop sending output\n",
      "to the client in order to avoid crashing it.\n",
      "To change this limit, set the config variable\n",
      "`--NotebookApp.iopub_msg_rate_limit`.\n",
      "\n",
      "Current values:\n",
      "NotebookApp.iopub_msg_rate_limit=1000.0 (msgs/sec)\n",
      "NotebookApp.rate_limit_window=3.0 (secs)\n",
      "\n"
     ]
    },
    {
     "name": "stdout",
     "output_type": "stream",
     "text": [
      "60.80240495962943560.4255703701808160.4548406290386660.523777686785834"
     ]
    },
    {
     "name": "stderr",
     "output_type": "stream",
     "text": [
      "IOPub message rate exceeded.\n",
      "The notebook server will temporarily stop sending output\n",
      "to the client in order to avoid crashing it.\n",
      "To change this limit, set the config variable\n",
      "`--NotebookApp.iopub_msg_rate_limit`.\n",
      "\n",
      "Current values:\n",
      "NotebookApp.iopub_msg_rate_limit=1000.0 (msgs/sec)\n",
      "NotebookApp.rate_limit_window=3.0 (secs)\n",
      "\n"
     ]
    },
    {
     "name": "stdout",
     "output_type": "stream",
     "text": [
      "61.26848984657906561.10766336963058661.140612404191884"
     ]
    },
    {
     "name": "stderr",
     "output_type": "stream",
     "text": [
      "IOPub message rate exceeded.\n",
      "The notebook server will temporarily stop sending output\n",
      "to the client in order to avoid crashing it.\n",
      "To change this limit, set the config variable\n",
      "`--NotebookApp.iopub_msg_rate_limit`.\n",
      "\n",
      "Current values:\n",
      "NotebookApp.iopub_msg_rate_limit=1000.0 (msgs/sec)\n",
      "NotebookApp.rate_limit_window=3.0 (secs)\n",
      "\n"
     ]
    },
    {
     "name": "stdout",
     "output_type": "stream",
     "text": [
      "61.434194700003836\r"
     ]
    },
    {
     "name": "stderr",
     "output_type": "stream",
     "text": [
      "IOPub message rate exceeded.\n",
      "The notebook server will temporarily stop sending output\n",
      "to the client in order to avoid crashing it.\n",
      "To change this limit, set the config variable\n",
      "`--NotebookApp.iopub_msg_rate_limit`.\n",
      "\n",
      "Current values:\n",
      "NotebookApp.iopub_msg_rate_limit=1000.0 (msgs/sec)\n",
      "NotebookApp.rate_limit_window=3.0 (secs)\n",
      "\n"
     ]
    },
    {
     "name": "stdout",
     "output_type": "stream",
     "text": [
      "61.93554784967563661.74785031541503\r"
     ]
    },
    {
     "name": "stderr",
     "output_type": "stream",
     "text": [
      "IOPub message rate exceeded.\n",
      "The notebook server will temporarily stop sending output\n",
      "to the client in order to avoid crashing it.\n",
      "To change this limit, set the config variable\n",
      "`--NotebookApp.iopub_msg_rate_limit`.\n",
      "\n",
      "Current values:\n",
      "NotebookApp.iopub_msg_rate_limit=1000.0 (msgs/sec)\n",
      "NotebookApp.rate_limit_window=3.0 (secs)\n",
      "\n"
     ]
    },
    {
     "name": "stdout",
     "output_type": "stream",
     "text": [
      "62.178267072718246"
     ]
    },
    {
     "name": "stderr",
     "output_type": "stream",
     "text": [
      "IOPub message rate exceeded.\n",
      "The notebook server will temporarily stop sending output\n",
      "to the client in order to avoid crashing it.\n",
      "To change this limit, set the config variable\n",
      "`--NotebookApp.iopub_msg_rate_limit`.\n",
      "\n",
      "Current values:\n",
      "NotebookApp.iopub_msg_rate_limit=1000.0 (msgs/sec)\n",
      "NotebookApp.rate_limit_window=3.0 (secs)\n",
      "\n"
     ]
    },
    {
     "name": "stdout",
     "output_type": "stream",
     "text": [
      "62.233448708269896\r"
     ]
    }
   ],
   "source": [
    "toofew = 0\n",
    "allnan = 0\n",
    "for pos, val in enumerate(ac_data):\n",
    "    i = 0\n",
    "    print(100*pos/ac_data.shape[0],end='\\r')\n",
    "    for p, v in enumerate(val):\n",
    "        if v is np.nan:\n",
    "            i+=1\n",
    "    if i==7:\n",
    "        mutations = mutations.drop[pos]\n",
    "        allnan+=1"
   ]
  },
  {
   "cell_type": "markdown",
   "metadata": {},
   "source": [
    "### basic counts"
   ]
  },
  {
   "cell_type": "code",
   "execution_count": 8,
   "metadata": {},
   "outputs": [
    {
     "data": {
      "text/html": [
       "<div>\n",
       "<style scoped>\n",
       "    .dataframe tbody tr th:only-of-type {\n",
       "        vertical-align: middle;\n",
       "    }\n",
       "\n",
       "    .dataframe tbody tr th {\n",
       "        vertical-align: top;\n",
       "    }\n",
       "\n",
       "    .dataframe thead th {\n",
       "        text-align: right;\n",
       "    }\n",
       "</style>\n",
       "<table border=\"1\" class=\"dataframe\">\n",
       "  <thead>\n",
       "    <tr style=\"text-align: right;\">\n",
       "      <th></th>\n",
       "      <th>Hugo_Symbol</th>\n",
       "      <th>Entrez_Gene_Id</th>\n",
       "      <th>NCBI_Build</th>\n",
       "      <th>Chromosome</th>\n",
       "      <th>Start_position</th>\n",
       "      <th>End_position</th>\n",
       "      <th>Strand</th>\n",
       "      <th>Variant_Classification</th>\n",
       "      <th>Variant_Type</th>\n",
       "      <th>Reference_Allele</th>\n",
       "      <th>...</th>\n",
       "      <th>isCOSMIChotspot</th>\n",
       "      <th>COSMIChsCnt</th>\n",
       "      <th>ExAC_AF</th>\n",
       "      <th>CGA_WES_AC</th>\n",
       "      <th>SangerWES_AC</th>\n",
       "      <th>SangerRecalibWES_AC</th>\n",
       "      <th>RNAseq_AC</th>\n",
       "      <th>HC_AC</th>\n",
       "      <th>RD_AC</th>\n",
       "      <th>WGS_AC</th>\n",
       "    </tr>\n",
       "  </thead>\n",
       "  <tbody>\n",
       "    <tr>\n",
       "      <th>0</th>\n",
       "      <td>VPS13D</td>\n",
       "      <td>55187</td>\n",
       "      <td>37</td>\n",
       "      <td>1</td>\n",
       "      <td>12359347</td>\n",
       "      <td>12359347</td>\n",
       "      <td>+</td>\n",
       "      <td>Nonsense_Mutation</td>\n",
       "      <td>SNP</td>\n",
       "      <td>C</td>\n",
       "      <td>...</td>\n",
       "      <td>False</td>\n",
       "      <td>0.0</td>\n",
       "      <td>NaN</td>\n",
       "      <td>NaN</td>\n",
       "      <td>34:221</td>\n",
       "      <td>34:213</td>\n",
       "      <td>NaN</td>\n",
       "      <td>NaN</td>\n",
       "      <td>NaN</td>\n",
       "      <td>NaN</td>\n",
       "    </tr>\n",
       "    <tr>\n",
       "      <th>1</th>\n",
       "      <td>AADACL4</td>\n",
       "      <td>343066</td>\n",
       "      <td>37</td>\n",
       "      <td>1</td>\n",
       "      <td>12726308</td>\n",
       "      <td>12726322</td>\n",
       "      <td>+</td>\n",
       "      <td>In_Frame_Del</td>\n",
       "      <td>DEL</td>\n",
       "      <td>CTGGCGTGACGCCAT</td>\n",
       "      <td>...</td>\n",
       "      <td>False</td>\n",
       "      <td>3.0</td>\n",
       "      <td>NaN</td>\n",
       "      <td>NaN</td>\n",
       "      <td>9:0</td>\n",
       "      <td>53:193</td>\n",
       "      <td>NaN</td>\n",
       "      <td>NaN</td>\n",
       "      <td>NaN</td>\n",
       "      <td>28:32</td>\n",
       "    </tr>\n",
       "    <tr>\n",
       "      <th>2</th>\n",
       "      <td>IFNLR1</td>\n",
       "      <td>163702</td>\n",
       "      <td>37</td>\n",
       "      <td>1</td>\n",
       "      <td>24484172</td>\n",
       "      <td>24484172</td>\n",
       "      <td>+</td>\n",
       "      <td>Silent</td>\n",
       "      <td>SNP</td>\n",
       "      <td>G</td>\n",
       "      <td>...</td>\n",
       "      <td>False</td>\n",
       "      <td>0.0</td>\n",
       "      <td>NaN</td>\n",
       "      <td>NaN</td>\n",
       "      <td>118:0</td>\n",
       "      <td>118:0</td>\n",
       "      <td>10:0</td>\n",
       "      <td>NaN</td>\n",
       "      <td>NaN</td>\n",
       "      <td>18:0</td>\n",
       "    </tr>\n",
       "    <tr>\n",
       "      <th>3</th>\n",
       "      <td>TMEM57</td>\n",
       "      <td>55219</td>\n",
       "      <td>37</td>\n",
       "      <td>1</td>\n",
       "      <td>25785018</td>\n",
       "      <td>25785019</td>\n",
       "      <td>+</td>\n",
       "      <td>Frame_Shift_Ins</td>\n",
       "      <td>INS</td>\n",
       "      <td>-</td>\n",
       "      <td>...</td>\n",
       "      <td>False</td>\n",
       "      <td>0.0</td>\n",
       "      <td>NaN</td>\n",
       "      <td>NaN</td>\n",
       "      <td>NaN</td>\n",
       "      <td>NaN</td>\n",
       "      <td>6:28</td>\n",
       "      <td>NaN</td>\n",
       "      <td>NaN</td>\n",
       "      <td>NaN</td>\n",
       "    </tr>\n",
       "    <tr>\n",
       "      <th>4</th>\n",
       "      <td>ZSCAN20</td>\n",
       "      <td>7579</td>\n",
       "      <td>37</td>\n",
       "      <td>1</td>\n",
       "      <td>33954141</td>\n",
       "      <td>33954141</td>\n",
       "      <td>+</td>\n",
       "      <td>Missense_Mutation</td>\n",
       "      <td>SNP</td>\n",
       "      <td>T</td>\n",
       "      <td>...</td>\n",
       "      <td>False</td>\n",
       "      <td>0.0</td>\n",
       "      <td>NaN</td>\n",
       "      <td>NaN</td>\n",
       "      <td>27:61</td>\n",
       "      <td>28:62</td>\n",
       "      <td>NaN</td>\n",
       "      <td>NaN</td>\n",
       "      <td>NaN</td>\n",
       "      <td>NaN</td>\n",
       "    </tr>\n",
       "    <tr>\n",
       "      <th>5</th>\n",
       "      <td>POU3F1</td>\n",
       "      <td>5453</td>\n",
       "      <td>37</td>\n",
       "      <td>1</td>\n",
       "      <td>38512139</td>\n",
       "      <td>38512139</td>\n",
       "      <td>+</td>\n",
       "      <td>Missense_Mutation</td>\n",
       "      <td>SNP</td>\n",
       "      <td>C</td>\n",
       "      <td>...</td>\n",
       "      <td>False</td>\n",
       "      <td>0.0</td>\n",
       "      <td>NaN</td>\n",
       "      <td>NaN</td>\n",
       "      <td>NaN</td>\n",
       "      <td>5:0</td>\n",
       "      <td>NaN</td>\n",
       "      <td>NaN</td>\n",
       "      <td>NaN</td>\n",
       "      <td>10:4</td>\n",
       "    </tr>\n",
       "    <tr>\n",
       "      <th>6</th>\n",
       "      <td>MAST2</td>\n",
       "      <td>23139</td>\n",
       "      <td>37</td>\n",
       "      <td>1</td>\n",
       "      <td>46498028</td>\n",
       "      <td>46498028</td>\n",
       "      <td>+</td>\n",
       "      <td>Silent</td>\n",
       "      <td>SNP</td>\n",
       "      <td>C</td>\n",
       "      <td>...</td>\n",
       "      <td>False</td>\n",
       "      <td>0.0</td>\n",
       "      <td>0.000008</td>\n",
       "      <td>NaN</td>\n",
       "      <td>NaN</td>\n",
       "      <td>NaN</td>\n",
       "      <td>23:63</td>\n",
       "      <td>33:70</td>\n",
       "      <td>NaN</td>\n",
       "      <td>8:22</td>\n",
       "    </tr>\n",
       "    <tr>\n",
       "      <th>7</th>\n",
       "      <td>GBP4</td>\n",
       "      <td>115361</td>\n",
       "      <td>37</td>\n",
       "      <td>1</td>\n",
       "      <td>89657103</td>\n",
       "      <td>89657103</td>\n",
       "      <td>+</td>\n",
       "      <td>Silent</td>\n",
       "      <td>SNP</td>\n",
       "      <td>G</td>\n",
       "      <td>...</td>\n",
       "      <td>False</td>\n",
       "      <td>0.0</td>\n",
       "      <td>0.000016</td>\n",
       "      <td>NaN</td>\n",
       "      <td>97:0</td>\n",
       "      <td>96:0</td>\n",
       "      <td>NaN</td>\n",
       "      <td>NaN</td>\n",
       "      <td>NaN</td>\n",
       "      <td>27:15</td>\n",
       "    </tr>\n",
       "    <tr>\n",
       "      <th>8</th>\n",
       "      <td>VAV3</td>\n",
       "      <td>10451</td>\n",
       "      <td>37</td>\n",
       "      <td>1</td>\n",
       "      <td>108247170</td>\n",
       "      <td>108247170</td>\n",
       "      <td>+</td>\n",
       "      <td>Splice_Site</td>\n",
       "      <td>SNP</td>\n",
       "      <td>A</td>\n",
       "      <td>...</td>\n",
       "      <td>False</td>\n",
       "      <td>0.0</td>\n",
       "      <td>NaN</td>\n",
       "      <td>NaN</td>\n",
       "      <td>11:32</td>\n",
       "      <td>11:30</td>\n",
       "      <td>NaN</td>\n",
       "      <td>NaN</td>\n",
       "      <td>NaN</td>\n",
       "      <td>15:18</td>\n",
       "    </tr>\n",
       "    <tr>\n",
       "      <th>9</th>\n",
       "      <td>NBPF20</td>\n",
       "      <td>100288142</td>\n",
       "      <td>37</td>\n",
       "      <td>1</td>\n",
       "      <td>148346689</td>\n",
       "      <td>148346689</td>\n",
       "      <td>+</td>\n",
       "      <td>Missense_Mutation</td>\n",
       "      <td>SNP</td>\n",
       "      <td>T</td>\n",
       "      <td>...</td>\n",
       "      <td>False</td>\n",
       "      <td>0.0</td>\n",
       "      <td>0.000017</td>\n",
       "      <td>NaN</td>\n",
       "      <td>257:206</td>\n",
       "      <td>241:196</td>\n",
       "      <td>6:34</td>\n",
       "      <td>NaN</td>\n",
       "      <td>NaN</td>\n",
       "      <td>21:42</td>\n",
       "    </tr>\n",
       "    <tr>\n",
       "      <th>10</th>\n",
       "      <td>FLG2</td>\n",
       "      <td>388698</td>\n",
       "      <td>37</td>\n",
       "      <td>1</td>\n",
       "      <td>152331291</td>\n",
       "      <td>152331291</td>\n",
       "      <td>+</td>\n",
       "      <td>Missense_Mutation</td>\n",
       "      <td>SNP</td>\n",
       "      <td>C</td>\n",
       "      <td>...</td>\n",
       "      <td>False</td>\n",
       "      <td>0.0</td>\n",
       "      <td>NaN</td>\n",
       "      <td>NaN</td>\n",
       "      <td>104:41</td>\n",
       "      <td>105:41</td>\n",
       "      <td>NaN</td>\n",
       "      <td>NaN</td>\n",
       "      <td>NaN</td>\n",
       "      <td>19:32</td>\n",
       "    </tr>\n",
       "    <tr>\n",
       "      <th>11</th>\n",
       "      <td>RHBG</td>\n",
       "      <td>57127</td>\n",
       "      <td>37</td>\n",
       "      <td>1</td>\n",
       "      <td>156339132</td>\n",
       "      <td>156339132</td>\n",
       "      <td>+</td>\n",
       "      <td>Frame_Shift_Del</td>\n",
       "      <td>DEL</td>\n",
       "      <td>C</td>\n",
       "      <td>...</td>\n",
       "      <td>False</td>\n",
       "      <td>0.0</td>\n",
       "      <td>NaN</td>\n",
       "      <td>NaN</td>\n",
       "      <td>7:1</td>\n",
       "      <td>8:41</td>\n",
       "      <td>NaN</td>\n",
       "      <td>NaN</td>\n",
       "      <td>NaN</td>\n",
       "      <td>NaN</td>\n",
       "    </tr>\n",
       "    <tr>\n",
       "      <th>12</th>\n",
       "      <td>FCRL5</td>\n",
       "      <td>83416</td>\n",
       "      <td>37</td>\n",
       "      <td>1</td>\n",
       "      <td>157497658</td>\n",
       "      <td>157497658</td>\n",
       "      <td>+</td>\n",
       "      <td>Missense_Mutation</td>\n",
       "      <td>SNP</td>\n",
       "      <td>A</td>\n",
       "      <td>...</td>\n",
       "      <td>False</td>\n",
       "      <td>0.0</td>\n",
       "      <td>NaN</td>\n",
       "      <td>NaN</td>\n",
       "      <td>NaN</td>\n",
       "      <td>NaN</td>\n",
       "      <td>NaN</td>\n",
       "      <td>NaN</td>\n",
       "      <td>NaN</td>\n",
       "      <td>17:25</td>\n",
       "    </tr>\n",
       "    <tr>\n",
       "      <th>13</th>\n",
       "      <td>SPTA1</td>\n",
       "      <td>6708</td>\n",
       "      <td>37</td>\n",
       "      <td>1</td>\n",
       "      <td>158639228</td>\n",
       "      <td>158639228</td>\n",
       "      <td>+</td>\n",
       "      <td>Missense_Mutation</td>\n",
       "      <td>SNP</td>\n",
       "      <td>C</td>\n",
       "      <td>...</td>\n",
       "      <td>False</td>\n",
       "      <td>0.0</td>\n",
       "      <td>NaN</td>\n",
       "      <td>NaN</td>\n",
       "      <td>64:131</td>\n",
       "      <td>58:124</td>\n",
       "      <td>NaN</td>\n",
       "      <td>NaN</td>\n",
       "      <td>NaN</td>\n",
       "      <td>8:29</td>\n",
       "    </tr>\n",
       "    <tr>\n",
       "      <th>14</th>\n",
       "      <td>C1orf192</td>\n",
       "      <td>257177</td>\n",
       "      <td>37</td>\n",
       "      <td>1</td>\n",
       "      <td>161334861</td>\n",
       "      <td>161334861</td>\n",
       "      <td>+</td>\n",
       "      <td>Missense_Mutation</td>\n",
       "      <td>SNP</td>\n",
       "      <td>A</td>\n",
       "      <td>...</td>\n",
       "      <td>False</td>\n",
       "      <td>0.0</td>\n",
       "      <td>NaN</td>\n",
       "      <td>NaN</td>\n",
       "      <td>36:27</td>\n",
       "      <td>35:27</td>\n",
       "      <td>40:32</td>\n",
       "      <td>NaN</td>\n",
       "      <td>NaN</td>\n",
       "      <td>19:26</td>\n",
       "    </tr>\n",
       "    <tr>\n",
       "      <th>15</th>\n",
       "      <td>DUSP12</td>\n",
       "      <td>11266</td>\n",
       "      <td>37</td>\n",
       "      <td>1</td>\n",
       "      <td>161719830</td>\n",
       "      <td>161719830</td>\n",
       "      <td>+</td>\n",
       "      <td>Missense_Mutation</td>\n",
       "      <td>SNP</td>\n",
       "      <td>T</td>\n",
       "      <td>...</td>\n",
       "      <td>False</td>\n",
       "      <td>0.0</td>\n",
       "      <td>NaN</td>\n",
       "      <td>NaN</td>\n",
       "      <td>NaN</td>\n",
       "      <td>NaN</td>\n",
       "      <td>58:160</td>\n",
       "      <td>NaN</td>\n",
       "      <td>NaN</td>\n",
       "      <td>8:26</td>\n",
       "    </tr>\n",
       "    <tr>\n",
       "      <th>16</th>\n",
       "      <td>QSOX1</td>\n",
       "      <td>5768</td>\n",
       "      <td>37</td>\n",
       "      <td>1</td>\n",
       "      <td>180153105</td>\n",
       "      <td>180153105</td>\n",
       "      <td>+</td>\n",
       "      <td>Silent</td>\n",
       "      <td>SNP</td>\n",
       "      <td>C</td>\n",
       "      <td>...</td>\n",
       "      <td>False</td>\n",
       "      <td>0.0</td>\n",
       "      <td>NaN</td>\n",
       "      <td>NaN</td>\n",
       "      <td>156:87</td>\n",
       "      <td>157:87</td>\n",
       "      <td>434:412</td>\n",
       "      <td>NaN</td>\n",
       "      <td>NaN</td>\n",
       "      <td>21:19</td>\n",
       "    </tr>\n",
       "    <tr>\n",
       "      <th>17</th>\n",
       "      <td>EPRS</td>\n",
       "      <td>2058</td>\n",
       "      <td>37</td>\n",
       "      <td>1</td>\n",
       "      <td>220156537</td>\n",
       "      <td>220156537</td>\n",
       "      <td>+</td>\n",
       "      <td>Silent</td>\n",
       "      <td>SNP</td>\n",
       "      <td>G</td>\n",
       "      <td>...</td>\n",
       "      <td>False</td>\n",
       "      <td>0.0</td>\n",
       "      <td>NaN</td>\n",
       "      <td>NaN</td>\n",
       "      <td>43:25</td>\n",
       "      <td>42:24</td>\n",
       "      <td>293:274</td>\n",
       "      <td>NaN</td>\n",
       "      <td>NaN</td>\n",
       "      <td>23:24</td>\n",
       "    </tr>\n",
       "    <tr>\n",
       "      <th>18</th>\n",
       "      <td>RGS7</td>\n",
       "      <td>6000</td>\n",
       "      <td>37</td>\n",
       "      <td>1</td>\n",
       "      <td>241031950</td>\n",
       "      <td>241031950</td>\n",
       "      <td>+</td>\n",
       "      <td>Missense_Mutation</td>\n",
       "      <td>SNP</td>\n",
       "      <td>G</td>\n",
       "      <td>...</td>\n",
       "      <td>False</td>\n",
       "      <td>0.0</td>\n",
       "      <td>NaN</td>\n",
       "      <td>NaN</td>\n",
       "      <td>35:76</td>\n",
       "      <td>34:74</td>\n",
       "      <td>NaN</td>\n",
       "      <td>NaN</td>\n",
       "      <td>NaN</td>\n",
       "      <td>NaN</td>\n",
       "    </tr>\n",
       "    <tr>\n",
       "      <th>19</th>\n",
       "      <td>ZBTB18</td>\n",
       "      <td>10472</td>\n",
       "      <td>37</td>\n",
       "      <td>1</td>\n",
       "      <td>244217482</td>\n",
       "      <td>244217482</td>\n",
       "      <td>+</td>\n",
       "      <td>Missense_Mutation</td>\n",
       "      <td>SNP</td>\n",
       "      <td>A</td>\n",
       "      <td>...</td>\n",
       "      <td>False</td>\n",
       "      <td>0.0</td>\n",
       "      <td>0.000008</td>\n",
       "      <td>NaN</td>\n",
       "      <td>29:58</td>\n",
       "      <td>28:55</td>\n",
       "      <td>30:41</td>\n",
       "      <td>NaN</td>\n",
       "      <td>NaN</td>\n",
       "      <td>29:20</td>\n",
       "    </tr>\n",
       "    <tr>\n",
       "      <th>20</th>\n",
       "      <td>PCBD1</td>\n",
       "      <td>5092</td>\n",
       "      <td>37</td>\n",
       "      <td>10</td>\n",
       "      <td>72645567</td>\n",
       "      <td>72645567</td>\n",
       "      <td>+</td>\n",
       "      <td>Silent</td>\n",
       "      <td>SNP</td>\n",
       "      <td>T</td>\n",
       "      <td>...</td>\n",
       "      <td>False</td>\n",
       "      <td>0.0</td>\n",
       "      <td>NaN</td>\n",
       "      <td>NaN</td>\n",
       "      <td>8:10</td>\n",
       "      <td>8:10</td>\n",
       "      <td>110:454</td>\n",
       "      <td>NaN</td>\n",
       "      <td>NaN</td>\n",
       "      <td>13:44</td>\n",
       "    </tr>\n",
       "    <tr>\n",
       "      <th>21</th>\n",
       "      <td>ECD</td>\n",
       "      <td>11319</td>\n",
       "      <td>37</td>\n",
       "      <td>10</td>\n",
       "      <td>74899185</td>\n",
       "      <td>74899186</td>\n",
       "      <td>+</td>\n",
       "      <td>Frame_Shift_Ins</td>\n",
       "      <td>INS</td>\n",
       "      <td>-</td>\n",
       "      <td>...</td>\n",
       "      <td>False</td>\n",
       "      <td>0.0</td>\n",
       "      <td>NaN</td>\n",
       "      <td>NaN</td>\n",
       "      <td>NaN</td>\n",
       "      <td>NaN</td>\n",
       "      <td>24:147</td>\n",
       "      <td>NaN</td>\n",
       "      <td>NaN</td>\n",
       "      <td>NaN</td>\n",
       "    </tr>\n",
       "    <tr>\n",
       "      <th>22</th>\n",
       "      <td>ZNF503</td>\n",
       "      <td>84858</td>\n",
       "      <td>37</td>\n",
       "      <td>10</td>\n",
       "      <td>77160064</td>\n",
       "      <td>77160064</td>\n",
       "      <td>+</td>\n",
       "      <td>Silent</td>\n",
       "      <td>SNP</td>\n",
       "      <td>G</td>\n",
       "      <td>...</td>\n",
       "      <td>False</td>\n",
       "      <td>0.0</td>\n",
       "      <td>0.000016</td>\n",
       "      <td>NaN</td>\n",
       "      <td>25:10</td>\n",
       "      <td>23:9</td>\n",
       "      <td>240:167</td>\n",
       "      <td>NaN</td>\n",
       "      <td>NaN</td>\n",
       "      <td>20:29</td>\n",
       "    </tr>\n",
       "    <tr>\n",
       "      <th>23</th>\n",
       "      <td>PDZD7</td>\n",
       "      <td>79955</td>\n",
       "      <td>37</td>\n",
       "      <td>10</td>\n",
       "      <td>102781635</td>\n",
       "      <td>102781635</td>\n",
       "      <td>+</td>\n",
       "      <td>Missense_Mutation</td>\n",
       "      <td>SNP</td>\n",
       "      <td>C</td>\n",
       "      <td>...</td>\n",
       "      <td>False</td>\n",
       "      <td>0.0</td>\n",
       "      <td>NaN</td>\n",
       "      <td>NaN</td>\n",
       "      <td>41:205</td>\n",
       "      <td>40:202</td>\n",
       "      <td>NaN</td>\n",
       "      <td>NaN</td>\n",
       "      <td>NaN</td>\n",
       "      <td>9:62</td>\n",
       "    </tr>\n",
       "    <tr>\n",
       "      <th>24</th>\n",
       "      <td>SORCS1</td>\n",
       "      <td>114815</td>\n",
       "      <td>37</td>\n",
       "      <td>10</td>\n",
       "      <td>108434902</td>\n",
       "      <td>108434902</td>\n",
       "      <td>+</td>\n",
       "      <td>Missense_Mutation</td>\n",
       "      <td>SNP</td>\n",
       "      <td>A</td>\n",
       "      <td>...</td>\n",
       "      <td>False</td>\n",
       "      <td>0.0</td>\n",
       "      <td>NaN</td>\n",
       "      <td>NaN</td>\n",
       "      <td>13:71</td>\n",
       "      <td>13:72</td>\n",
       "      <td>NaN</td>\n",
       "      <td>NaN</td>\n",
       "      <td>NaN</td>\n",
       "      <td>NaN</td>\n",
       "    </tr>\n",
       "    <tr>\n",
       "      <th>25</th>\n",
       "      <td>GFRA1</td>\n",
       "      <td>2674</td>\n",
       "      <td>37</td>\n",
       "      <td>10</td>\n",
       "      <td>118030598</td>\n",
       "      <td>118030598</td>\n",
       "      <td>+</td>\n",
       "      <td>Missense_Mutation</td>\n",
       "      <td>SNP</td>\n",
       "      <td>C</td>\n",
       "      <td>...</td>\n",
       "      <td>False</td>\n",
       "      <td>0.0</td>\n",
       "      <td>NaN</td>\n",
       "      <td>NaN</td>\n",
       "      <td>19:21</td>\n",
       "      <td>19:20</td>\n",
       "      <td>9:42</td>\n",
       "      <td>NaN</td>\n",
       "      <td>NaN</td>\n",
       "      <td>16:25</td>\n",
       "    </tr>\n",
       "    <tr>\n",
       "      <th>26</th>\n",
       "      <td>CPXM2</td>\n",
       "      <td>119587</td>\n",
       "      <td>37</td>\n",
       "      <td>10</td>\n",
       "      <td>125516817</td>\n",
       "      <td>125516817</td>\n",
       "      <td>+</td>\n",
       "      <td>Missense_Mutation</td>\n",
       "      <td>SNP</td>\n",
       "      <td>T</td>\n",
       "      <td>...</td>\n",
       "      <td>False</td>\n",
       "      <td>0.0</td>\n",
       "      <td>0.000041</td>\n",
       "      <td>NaN</td>\n",
       "      <td>63:49</td>\n",
       "      <td>62:50</td>\n",
       "      <td>NaN</td>\n",
       "      <td>NaN</td>\n",
       "      <td>NaN</td>\n",
       "      <td>17:24</td>\n",
       "    </tr>\n",
       "    <tr>\n",
       "      <th>27</th>\n",
       "      <td>AL355531.2</td>\n",
       "      <td>0</td>\n",
       "      <td>37</td>\n",
       "      <td>10</td>\n",
       "      <td>131309064</td>\n",
       "      <td>131309064</td>\n",
       "      <td>+</td>\n",
       "      <td>Silent</td>\n",
       "      <td>SNP</td>\n",
       "      <td>C</td>\n",
       "      <td>...</td>\n",
       "      <td>False</td>\n",
       "      <td>0.0</td>\n",
       "      <td>NaN</td>\n",
       "      <td>NaN</td>\n",
       "      <td>NaN</td>\n",
       "      <td>NaN</td>\n",
       "      <td>NaN</td>\n",
       "      <td>NaN</td>\n",
       "      <td>NaN</td>\n",
       "      <td>14:18</td>\n",
       "    </tr>\n",
       "    <tr>\n",
       "      <th>28</th>\n",
       "      <td>TCERG1L</td>\n",
       "      <td>256536</td>\n",
       "      <td>37</td>\n",
       "      <td>10</td>\n",
       "      <td>132915133</td>\n",
       "      <td>132915133</td>\n",
       "      <td>+</td>\n",
       "      <td>Missense_Mutation</td>\n",
       "      <td>SNP</td>\n",
       "      <td>G</td>\n",
       "      <td>...</td>\n",
       "      <td>False</td>\n",
       "      <td>0.0</td>\n",
       "      <td>NaN</td>\n",
       "      <td>NaN</td>\n",
       "      <td>NaN</td>\n",
       "      <td>NaN</td>\n",
       "      <td>NaN</td>\n",
       "      <td>8:15</td>\n",
       "      <td>NaN</td>\n",
       "      <td>13:30</td>\n",
       "    </tr>\n",
       "    <tr>\n",
       "      <th>29</th>\n",
       "      <td>MUC5B</td>\n",
       "      <td>727897</td>\n",
       "      <td>37</td>\n",
       "      <td>11</td>\n",
       "      <td>1271274</td>\n",
       "      <td>1271274</td>\n",
       "      <td>+</td>\n",
       "      <td>Silent</td>\n",
       "      <td>SNP</td>\n",
       "      <td>G</td>\n",
       "      <td>...</td>\n",
       "      <td>False</td>\n",
       "      <td>0.0</td>\n",
       "      <td>0.000008</td>\n",
       "      <td>NaN</td>\n",
       "      <td>NaN</td>\n",
       "      <td>NaN</td>\n",
       "      <td>NaN</td>\n",
       "      <td>NaN</td>\n",
       "      <td>NaN</td>\n",
       "      <td>9:16</td>\n",
       "    </tr>\n",
       "    <tr>\n",
       "      <th>...</th>\n",
       "      <td>...</td>\n",
       "      <td>...</td>\n",
       "      <td>...</td>\n",
       "      <td>...</td>\n",
       "      <td>...</td>\n",
       "      <td>...</td>\n",
       "      <td>...</td>\n",
       "      <td>...</td>\n",
       "      <td>...</td>\n",
       "      <td>...</td>\n",
       "      <td>...</td>\n",
       "      <td>...</td>\n",
       "      <td>...</td>\n",
       "      <td>...</td>\n",
       "      <td>...</td>\n",
       "      <td>...</td>\n",
       "      <td>...</td>\n",
       "      <td>...</td>\n",
       "      <td>...</td>\n",
       "      <td>...</td>\n",
       "      <td>...</td>\n",
       "    </tr>\n",
       "    <tr>\n",
       "      <th>1296267</th>\n",
       "      <td>FREM1</td>\n",
       "      <td>158326</td>\n",
       "      <td>37</td>\n",
       "      <td>9</td>\n",
       "      <td>14775894</td>\n",
       "      <td>14775894</td>\n",
       "      <td>+</td>\n",
       "      <td>Missense_Mutation</td>\n",
       "      <td>SNP</td>\n",
       "      <td>C</td>\n",
       "      <td>...</td>\n",
       "      <td>False</td>\n",
       "      <td>0.0</td>\n",
       "      <td>NaN</td>\n",
       "      <td>110:285</td>\n",
       "      <td>NaN</td>\n",
       "      <td>NaN</td>\n",
       "      <td>NaN</td>\n",
       "      <td>NaN</td>\n",
       "      <td>NaN</td>\n",
       "      <td>NaN</td>\n",
       "    </tr>\n",
       "    <tr>\n",
       "      <th>1296268</th>\n",
       "      <td>PRUNE2</td>\n",
       "      <td>158471</td>\n",
       "      <td>37</td>\n",
       "      <td>9</td>\n",
       "      <td>79323794</td>\n",
       "      <td>79323794</td>\n",
       "      <td>+</td>\n",
       "      <td>Missense_Mutation</td>\n",
       "      <td>SNP</td>\n",
       "      <td>C</td>\n",
       "      <td>...</td>\n",
       "      <td>False</td>\n",
       "      <td>0.0</td>\n",
       "      <td>NaN</td>\n",
       "      <td>86:172</td>\n",
       "      <td>NaN</td>\n",
       "      <td>NaN</td>\n",
       "      <td>NaN</td>\n",
       "      <td>NaN</td>\n",
       "      <td>NaN</td>\n",
       "      <td>NaN</td>\n",
       "    </tr>\n",
       "    <tr>\n",
       "      <th>1296269</th>\n",
       "      <td>INVS</td>\n",
       "      <td>27130</td>\n",
       "      <td>37</td>\n",
       "      <td>9</td>\n",
       "      <td>103035235</td>\n",
       "      <td>103035235</td>\n",
       "      <td>+</td>\n",
       "      <td>Missense_Mutation</td>\n",
       "      <td>SNP</td>\n",
       "      <td>T</td>\n",
       "      <td>...</td>\n",
       "      <td>False</td>\n",
       "      <td>0.0</td>\n",
       "      <td>0.000033</td>\n",
       "      <td>170:351</td>\n",
       "      <td>NaN</td>\n",
       "      <td>NaN</td>\n",
       "      <td>NaN</td>\n",
       "      <td>NaN</td>\n",
       "      <td>NaN</td>\n",
       "      <td>NaN</td>\n",
       "    </tr>\n",
       "    <tr>\n",
       "      <th>1296270</th>\n",
       "      <td>MURC</td>\n",
       "      <td>347273</td>\n",
       "      <td>37</td>\n",
       "      <td>9</td>\n",
       "      <td>103340724</td>\n",
       "      <td>103340724</td>\n",
       "      <td>+</td>\n",
       "      <td>Missense_Mutation</td>\n",
       "      <td>SNP</td>\n",
       "      <td>T</td>\n",
       "      <td>...</td>\n",
       "      <td>False</td>\n",
       "      <td>0.0</td>\n",
       "      <td>0.000016</td>\n",
       "      <td>59:100</td>\n",
       "      <td>NaN</td>\n",
       "      <td>NaN</td>\n",
       "      <td>NaN</td>\n",
       "      <td>NaN</td>\n",
       "      <td>NaN</td>\n",
       "      <td>NaN</td>\n",
       "    </tr>\n",
       "    <tr>\n",
       "      <th>1296271</th>\n",
       "      <td>SMC2</td>\n",
       "      <td>10592</td>\n",
       "      <td>37</td>\n",
       "      <td>9</td>\n",
       "      <td>106889597</td>\n",
       "      <td>106889597</td>\n",
       "      <td>+</td>\n",
       "      <td>Missense_Mutation</td>\n",
       "      <td>SNP</td>\n",
       "      <td>A</td>\n",
       "      <td>...</td>\n",
       "      <td>False</td>\n",
       "      <td>0.0</td>\n",
       "      <td>NaN</td>\n",
       "      <td>9:27</td>\n",
       "      <td>NaN</td>\n",
       "      <td>NaN</td>\n",
       "      <td>NaN</td>\n",
       "      <td>NaN</td>\n",
       "      <td>NaN</td>\n",
       "      <td>NaN</td>\n",
       "    </tr>\n",
       "    <tr>\n",
       "      <th>1296272</th>\n",
       "      <td>C9orf152</td>\n",
       "      <td>401546</td>\n",
       "      <td>37</td>\n",
       "      <td>9</td>\n",
       "      <td>112963251</td>\n",
       "      <td>112963251</td>\n",
       "      <td>+</td>\n",
       "      <td>Missense_Mutation</td>\n",
       "      <td>SNP</td>\n",
       "      <td>G</td>\n",
       "      <td>...</td>\n",
       "      <td>False</td>\n",
       "      <td>0.0</td>\n",
       "      <td>NaN</td>\n",
       "      <td>31:70</td>\n",
       "      <td>NaN</td>\n",
       "      <td>NaN</td>\n",
       "      <td>NaN</td>\n",
       "      <td>NaN</td>\n",
       "      <td>NaN</td>\n",
       "      <td>NaN</td>\n",
       "    </tr>\n",
       "    <tr>\n",
       "      <th>1296273</th>\n",
       "      <td>TNC</td>\n",
       "      <td>3371</td>\n",
       "      <td>37</td>\n",
       "      <td>9</td>\n",
       "      <td>117848284</td>\n",
       "      <td>117848284</td>\n",
       "      <td>+</td>\n",
       "      <td>Missense_Mutation</td>\n",
       "      <td>SNP</td>\n",
       "      <td>C</td>\n",
       "      <td>...</td>\n",
       "      <td>False</td>\n",
       "      <td>0.0</td>\n",
       "      <td>0.000025</td>\n",
       "      <td>124:257</td>\n",
       "      <td>NaN</td>\n",
       "      <td>NaN</td>\n",
       "      <td>NaN</td>\n",
       "      <td>NaN</td>\n",
       "      <td>NaN</td>\n",
       "      <td>NaN</td>\n",
       "    </tr>\n",
       "    <tr>\n",
       "      <th>1296274</th>\n",
       "      <td>CDK5RAP2</td>\n",
       "      <td>55755</td>\n",
       "      <td>37</td>\n",
       "      <td>9</td>\n",
       "      <td>123163147</td>\n",
       "      <td>123163147</td>\n",
       "      <td>+</td>\n",
       "      <td>Missense_Mutation</td>\n",
       "      <td>SNP</td>\n",
       "      <td>G</td>\n",
       "      <td>...</td>\n",
       "      <td>False</td>\n",
       "      <td>0.0</td>\n",
       "      <td>NaN</td>\n",
       "      <td>61:143</td>\n",
       "      <td>NaN</td>\n",
       "      <td>NaN</td>\n",
       "      <td>NaN</td>\n",
       "      <td>NaN</td>\n",
       "      <td>NaN</td>\n",
       "      <td>NaN</td>\n",
       "    </tr>\n",
       "    <tr>\n",
       "      <th>1296275</th>\n",
       "      <td>PHF19</td>\n",
       "      <td>26147</td>\n",
       "      <td>37</td>\n",
       "      <td>9</td>\n",
       "      <td>123624899</td>\n",
       "      <td>123624899</td>\n",
       "      <td>+</td>\n",
       "      <td>Missense_Mutation</td>\n",
       "      <td>SNP</td>\n",
       "      <td>G</td>\n",
       "      <td>...</td>\n",
       "      <td>False</td>\n",
       "      <td>0.0</td>\n",
       "      <td>0.000033</td>\n",
       "      <td>93:175</td>\n",
       "      <td>NaN</td>\n",
       "      <td>NaN</td>\n",
       "      <td>NaN</td>\n",
       "      <td>NaN</td>\n",
       "      <td>NaN</td>\n",
       "      <td>NaN</td>\n",
       "    </tr>\n",
       "    <tr>\n",
       "      <th>1296276</th>\n",
       "      <td>OR1B1</td>\n",
       "      <td>347169</td>\n",
       "      <td>37</td>\n",
       "      <td>9</td>\n",
       "      <td>125391059</td>\n",
       "      <td>125391059</td>\n",
       "      <td>+</td>\n",
       "      <td>Silent</td>\n",
       "      <td>SNP</td>\n",
       "      <td>G</td>\n",
       "      <td>...</td>\n",
       "      <td>False</td>\n",
       "      <td>0.0</td>\n",
       "      <td>NaN</td>\n",
       "      <td>48:88</td>\n",
       "      <td>NaN</td>\n",
       "      <td>NaN</td>\n",
       "      <td>NaN</td>\n",
       "      <td>NaN</td>\n",
       "      <td>NaN</td>\n",
       "      <td>NaN</td>\n",
       "    </tr>\n",
       "    <tr>\n",
       "      <th>1296277</th>\n",
       "      <td>RABEPK</td>\n",
       "      <td>10244</td>\n",
       "      <td>37</td>\n",
       "      <td>9</td>\n",
       "      <td>127990317</td>\n",
       "      <td>127990318</td>\n",
       "      <td>+</td>\n",
       "      <td>Frame_Shift_Ins</td>\n",
       "      <td>INS</td>\n",
       "      <td>-</td>\n",
       "      <td>...</td>\n",
       "      <td>False</td>\n",
       "      <td>0.0</td>\n",
       "      <td>0.000025</td>\n",
       "      <td>19:44</td>\n",
       "      <td>NaN</td>\n",
       "      <td>NaN</td>\n",
       "      <td>NaN</td>\n",
       "      <td>NaN</td>\n",
       "      <td>NaN</td>\n",
       "      <td>NaN</td>\n",
       "    </tr>\n",
       "    <tr>\n",
       "      <th>1296278</th>\n",
       "      <td>DNM1</td>\n",
       "      <td>1759</td>\n",
       "      <td>37</td>\n",
       "      <td>9</td>\n",
       "      <td>131012554</td>\n",
       "      <td>131012554</td>\n",
       "      <td>+</td>\n",
       "      <td>Missense_Mutation</td>\n",
       "      <td>SNP</td>\n",
       "      <td>A</td>\n",
       "      <td>...</td>\n",
       "      <td>False</td>\n",
       "      <td>0.0</td>\n",
       "      <td>NaN</td>\n",
       "      <td>334:178</td>\n",
       "      <td>NaN</td>\n",
       "      <td>NaN</td>\n",
       "      <td>NaN</td>\n",
       "      <td>NaN</td>\n",
       "      <td>NaN</td>\n",
       "      <td>NaN</td>\n",
       "    </tr>\n",
       "    <tr>\n",
       "      <th>1296279</th>\n",
       "      <td>ABL1</td>\n",
       "      <td>25</td>\n",
       "      <td>37</td>\n",
       "      <td>9</td>\n",
       "      <td>133761061</td>\n",
       "      <td>133761061</td>\n",
       "      <td>+</td>\n",
       "      <td>Silent</td>\n",
       "      <td>SNP</td>\n",
       "      <td>G</td>\n",
       "      <td>...</td>\n",
       "      <td>False</td>\n",
       "      <td>0.0</td>\n",
       "      <td>NaN</td>\n",
       "      <td>24:52</td>\n",
       "      <td>NaN</td>\n",
       "      <td>NaN</td>\n",
       "      <td>NaN</td>\n",
       "      <td>NaN</td>\n",
       "      <td>NaN</td>\n",
       "      <td>NaN</td>\n",
       "    </tr>\n",
       "    <tr>\n",
       "      <th>1296280</th>\n",
       "      <td>TTF1</td>\n",
       "      <td>7270</td>\n",
       "      <td>37</td>\n",
       "      <td>9</td>\n",
       "      <td>135266099</td>\n",
       "      <td>135266099</td>\n",
       "      <td>+</td>\n",
       "      <td>Missense_Mutation</td>\n",
       "      <td>SNP</td>\n",
       "      <td>C</td>\n",
       "      <td>...</td>\n",
       "      <td>False</td>\n",
       "      <td>0.0</td>\n",
       "      <td>NaN</td>\n",
       "      <td>77:184</td>\n",
       "      <td>NaN</td>\n",
       "      <td>NaN</td>\n",
       "      <td>NaN</td>\n",
       "      <td>NaN</td>\n",
       "      <td>NaN</td>\n",
       "      <td>NaN</td>\n",
       "    </tr>\n",
       "    <tr>\n",
       "      <th>1296281</th>\n",
       "      <td>CAMSAP1</td>\n",
       "      <td>157922</td>\n",
       "      <td>37</td>\n",
       "      <td>9</td>\n",
       "      <td>138712932</td>\n",
       "      <td>138712932</td>\n",
       "      <td>+</td>\n",
       "      <td>Missense_Mutation</td>\n",
       "      <td>SNP</td>\n",
       "      <td>G</td>\n",
       "      <td>...</td>\n",
       "      <td>False</td>\n",
       "      <td>0.0</td>\n",
       "      <td>0.000025</td>\n",
       "      <td>65:147</td>\n",
       "      <td>NaN</td>\n",
       "      <td>NaN</td>\n",
       "      <td>NaN</td>\n",
       "      <td>NaN</td>\n",
       "      <td>NaN</td>\n",
       "      <td>NaN</td>\n",
       "    </tr>\n",
       "    <tr>\n",
       "      <th>1296282</th>\n",
       "      <td>NOTCH1</td>\n",
       "      <td>4851</td>\n",
       "      <td>37</td>\n",
       "      <td>9</td>\n",
       "      <td>139400239</td>\n",
       "      <td>139400239</td>\n",
       "      <td>+</td>\n",
       "      <td>Missense_Mutation</td>\n",
       "      <td>SNP</td>\n",
       "      <td>G</td>\n",
       "      <td>...</td>\n",
       "      <td>False</td>\n",
       "      <td>0.0</td>\n",
       "      <td>NaN</td>\n",
       "      <td>48:23</td>\n",
       "      <td>NaN</td>\n",
       "      <td>NaN</td>\n",
       "      <td>NaN</td>\n",
       "      <td>NaN</td>\n",
       "      <td>NaN</td>\n",
       "      <td>NaN</td>\n",
       "    </tr>\n",
       "    <tr>\n",
       "      <th>1296283</th>\n",
       "      <td>TRAF2</td>\n",
       "      <td>7186</td>\n",
       "      <td>37</td>\n",
       "      <td>9</td>\n",
       "      <td>139814783</td>\n",
       "      <td>139814783</td>\n",
       "      <td>+</td>\n",
       "      <td>Missense_Mutation</td>\n",
       "      <td>SNP</td>\n",
       "      <td>G</td>\n",
       "      <td>...</td>\n",
       "      <td>False</td>\n",
       "      <td>0.0</td>\n",
       "      <td>NaN</td>\n",
       "      <td>101:265</td>\n",
       "      <td>NaN</td>\n",
       "      <td>NaN</td>\n",
       "      <td>NaN</td>\n",
       "      <td>NaN</td>\n",
       "      <td>NaN</td>\n",
       "      <td>NaN</td>\n",
       "    </tr>\n",
       "    <tr>\n",
       "      <th>1296284</th>\n",
       "      <td>ASMTL</td>\n",
       "      <td>8623</td>\n",
       "      <td>37</td>\n",
       "      <td>X</td>\n",
       "      <td>1540730</td>\n",
       "      <td>1540730</td>\n",
       "      <td>+</td>\n",
       "      <td>Missense_Mutation</td>\n",
       "      <td>SNP</td>\n",
       "      <td>T</td>\n",
       "      <td>...</td>\n",
       "      <td>False</td>\n",
       "      <td>0.0</td>\n",
       "      <td>0.000050</td>\n",
       "      <td>60:49</td>\n",
       "      <td>NaN</td>\n",
       "      <td>NaN</td>\n",
       "      <td>NaN</td>\n",
       "      <td>NaN</td>\n",
       "      <td>NaN</td>\n",
       "      <td>NaN</td>\n",
       "    </tr>\n",
       "    <tr>\n",
       "      <th>1296285</th>\n",
       "      <td>USP11</td>\n",
       "      <td>8237</td>\n",
       "      <td>37</td>\n",
       "      <td>X</td>\n",
       "      <td>47099810</td>\n",
       "      <td>47099810</td>\n",
       "      <td>+</td>\n",
       "      <td>Silent</td>\n",
       "      <td>SNP</td>\n",
       "      <td>A</td>\n",
       "      <td>...</td>\n",
       "      <td>False</td>\n",
       "      <td>0.0</td>\n",
       "      <td>0.000016</td>\n",
       "      <td>76:0</td>\n",
       "      <td>NaN</td>\n",
       "      <td>NaN</td>\n",
       "      <td>NaN</td>\n",
       "      <td>NaN</td>\n",
       "      <td>NaN</td>\n",
       "      <td>NaN</td>\n",
       "    </tr>\n",
       "    <tr>\n",
       "      <th>1296286</th>\n",
       "      <td>OTUD5</td>\n",
       "      <td>55593</td>\n",
       "      <td>37</td>\n",
       "      <td>X</td>\n",
       "      <td>48814718</td>\n",
       "      <td>48814718</td>\n",
       "      <td>+</td>\n",
       "      <td>Missense_Mutation</td>\n",
       "      <td>SNP</td>\n",
       "      <td>C</td>\n",
       "      <td>...</td>\n",
       "      <td>False</td>\n",
       "      <td>0.0</td>\n",
       "      <td>NaN</td>\n",
       "      <td>74:0</td>\n",
       "      <td>NaN</td>\n",
       "      <td>NaN</td>\n",
       "      <td>NaN</td>\n",
       "      <td>NaN</td>\n",
       "      <td>NaN</td>\n",
       "      <td>NaN</td>\n",
       "    </tr>\n",
       "    <tr>\n",
       "      <th>1296287</th>\n",
       "      <td>TFE3</td>\n",
       "      <td>7030</td>\n",
       "      <td>37</td>\n",
       "      <td>X</td>\n",
       "      <td>48887978</td>\n",
       "      <td>48887978</td>\n",
       "      <td>+</td>\n",
       "      <td>Silent</td>\n",
       "      <td>SNP</td>\n",
       "      <td>G</td>\n",
       "      <td>...</td>\n",
       "      <td>False</td>\n",
       "      <td>0.0</td>\n",
       "      <td>0.000049</td>\n",
       "      <td>124:0</td>\n",
       "      <td>NaN</td>\n",
       "      <td>NaN</td>\n",
       "      <td>NaN</td>\n",
       "      <td>NaN</td>\n",
       "      <td>NaN</td>\n",
       "      <td>NaN</td>\n",
       "    </tr>\n",
       "    <tr>\n",
       "      <th>1296288</th>\n",
       "      <td>ALAS2</td>\n",
       "      <td>212</td>\n",
       "      <td>37</td>\n",
       "      <td>X</td>\n",
       "      <td>55051258</td>\n",
       "      <td>55051258</td>\n",
       "      <td>+</td>\n",
       "      <td>Missense_Mutation</td>\n",
       "      <td>SNP</td>\n",
       "      <td>G</td>\n",
       "      <td>...</td>\n",
       "      <td>False</td>\n",
       "      <td>0.0</td>\n",
       "      <td>NaN</td>\n",
       "      <td>109:120</td>\n",
       "      <td>NaN</td>\n",
       "      <td>NaN</td>\n",
       "      <td>NaN</td>\n",
       "      <td>NaN</td>\n",
       "      <td>NaN</td>\n",
       "      <td>NaN</td>\n",
       "    </tr>\n",
       "    <tr>\n",
       "      <th>1296289</th>\n",
       "      <td>HEPH</td>\n",
       "      <td>9843</td>\n",
       "      <td>37</td>\n",
       "      <td>X</td>\n",
       "      <td>65415002</td>\n",
       "      <td>65415002</td>\n",
       "      <td>+</td>\n",
       "      <td>Missense_Mutation</td>\n",
       "      <td>SNP</td>\n",
       "      <td>C</td>\n",
       "      <td>...</td>\n",
       "      <td>False</td>\n",
       "      <td>0.0</td>\n",
       "      <td>NaN</td>\n",
       "      <td>115:0</td>\n",
       "      <td>NaN</td>\n",
       "      <td>NaN</td>\n",
       "      <td>NaN</td>\n",
       "      <td>NaN</td>\n",
       "      <td>NaN</td>\n",
       "      <td>NaN</td>\n",
       "    </tr>\n",
       "    <tr>\n",
       "      <th>1296290</th>\n",
       "      <td>RPS6KA6</td>\n",
       "      <td>27330</td>\n",
       "      <td>37</td>\n",
       "      <td>X</td>\n",
       "      <td>83442835</td>\n",
       "      <td>83442835</td>\n",
       "      <td>+</td>\n",
       "      <td>Missense_Mutation</td>\n",
       "      <td>SNP</td>\n",
       "      <td>T</td>\n",
       "      <td>...</td>\n",
       "      <td>False</td>\n",
       "      <td>0.0</td>\n",
       "      <td>NaN</td>\n",
       "      <td>95:85</td>\n",
       "      <td>NaN</td>\n",
       "      <td>NaN</td>\n",
       "      <td>NaN</td>\n",
       "      <td>NaN</td>\n",
       "      <td>NaN</td>\n",
       "      <td>NaN</td>\n",
       "    </tr>\n",
       "    <tr>\n",
       "      <th>1296291</th>\n",
       "      <td>BTK</td>\n",
       "      <td>695</td>\n",
       "      <td>37</td>\n",
       "      <td>X</td>\n",
       "      <td>100629543</td>\n",
       "      <td>100629543</td>\n",
       "      <td>+</td>\n",
       "      <td>Missense_Mutation</td>\n",
       "      <td>SNP</td>\n",
       "      <td>G</td>\n",
       "      <td>...</td>\n",
       "      <td>False</td>\n",
       "      <td>0.0</td>\n",
       "      <td>NaN</td>\n",
       "      <td>80:0</td>\n",
       "      <td>NaN</td>\n",
       "      <td>NaN</td>\n",
       "      <td>NaN</td>\n",
       "      <td>NaN</td>\n",
       "      <td>NaN</td>\n",
       "      <td>NaN</td>\n",
       "    </tr>\n",
       "    <tr>\n",
       "      <th>1296292</th>\n",
       "      <td>CXorf57</td>\n",
       "      <td>55086</td>\n",
       "      <td>37</td>\n",
       "      <td>X</td>\n",
       "      <td>105881078</td>\n",
       "      <td>105881078</td>\n",
       "      <td>+</td>\n",
       "      <td>Silent</td>\n",
       "      <td>SNP</td>\n",
       "      <td>G</td>\n",
       "      <td>...</td>\n",
       "      <td>False</td>\n",
       "      <td>0.0</td>\n",
       "      <td>NaN</td>\n",
       "      <td>52:136</td>\n",
       "      <td>NaN</td>\n",
       "      <td>NaN</td>\n",
       "      <td>NaN</td>\n",
       "      <td>NaN</td>\n",
       "      <td>NaN</td>\n",
       "      <td>NaN</td>\n",
       "    </tr>\n",
       "    <tr>\n",
       "      <th>1296293</th>\n",
       "      <td>IGSF1</td>\n",
       "      <td>3547</td>\n",
       "      <td>37</td>\n",
       "      <td>X</td>\n",
       "      <td>130410937</td>\n",
       "      <td>130410937</td>\n",
       "      <td>+</td>\n",
       "      <td>Missense_Mutation</td>\n",
       "      <td>SNP</td>\n",
       "      <td>C</td>\n",
       "      <td>...</td>\n",
       "      <td>False</td>\n",
       "      <td>0.0</td>\n",
       "      <td>0.000025</td>\n",
       "      <td>45:0</td>\n",
       "      <td>NaN</td>\n",
       "      <td>NaN</td>\n",
       "      <td>NaN</td>\n",
       "      <td>NaN</td>\n",
       "      <td>NaN</td>\n",
       "      <td>NaN</td>\n",
       "    </tr>\n",
       "    <tr>\n",
       "      <th>1296294</th>\n",
       "      <td>HS6ST2</td>\n",
       "      <td>90161</td>\n",
       "      <td>37</td>\n",
       "      <td>X</td>\n",
       "      <td>131762839</td>\n",
       "      <td>131762839</td>\n",
       "      <td>+</td>\n",
       "      <td>Missense_Mutation</td>\n",
       "      <td>SNP</td>\n",
       "      <td>T</td>\n",
       "      <td>...</td>\n",
       "      <td>False</td>\n",
       "      <td>0.0</td>\n",
       "      <td>NaN</td>\n",
       "      <td>81:0</td>\n",
       "      <td>NaN</td>\n",
       "      <td>NaN</td>\n",
       "      <td>NaN</td>\n",
       "      <td>NaN</td>\n",
       "      <td>NaN</td>\n",
       "      <td>NaN</td>\n",
       "    </tr>\n",
       "    <tr>\n",
       "      <th>1296295</th>\n",
       "      <td>MAGEA10</td>\n",
       "      <td>4109</td>\n",
       "      <td>37</td>\n",
       "      <td>X</td>\n",
       "      <td>151303628</td>\n",
       "      <td>151303628</td>\n",
       "      <td>+</td>\n",
       "      <td>Silent</td>\n",
       "      <td>SNP</td>\n",
       "      <td>G</td>\n",
       "      <td>...</td>\n",
       "      <td>False</td>\n",
       "      <td>0.0</td>\n",
       "      <td>NaN</td>\n",
       "      <td>52:0</td>\n",
       "      <td>NaN</td>\n",
       "      <td>NaN</td>\n",
       "      <td>NaN</td>\n",
       "      <td>NaN</td>\n",
       "      <td>NaN</td>\n",
       "      <td>NaN</td>\n",
       "    </tr>\n",
       "    <tr>\n",
       "      <th>1296296</th>\n",
       "      <td>F8</td>\n",
       "      <td>2157</td>\n",
       "      <td>37</td>\n",
       "      <td>X</td>\n",
       "      <td>154159500</td>\n",
       "      <td>154159500</td>\n",
       "      <td>+</td>\n",
       "      <td>Silent</td>\n",
       "      <td>SNP</td>\n",
       "      <td>G</td>\n",
       "      <td>...</td>\n",
       "      <td>False</td>\n",
       "      <td>0.0</td>\n",
       "      <td>NaN</td>\n",
       "      <td>31:41</td>\n",
       "      <td>NaN</td>\n",
       "      <td>NaN</td>\n",
       "      <td>NaN</td>\n",
       "      <td>NaN</td>\n",
       "      <td>NaN</td>\n",
       "      <td>NaN</td>\n",
       "    </tr>\n",
       "  </tbody>\n",
       "</table>\n",
       "<p>1296297 rows × 32 columns</p>\n",
       "</div>"
      ],
      "text/plain": [
       "        Hugo_Symbol  Entrez_Gene_Id  NCBI_Build Chromosome  Start_position  \\\n",
       "0            VPS13D           55187          37          1        12359347   \n",
       "1           AADACL4          343066          37          1        12726308   \n",
       "2            IFNLR1          163702          37          1        24484172   \n",
       "3            TMEM57           55219          37          1        25785018   \n",
       "4           ZSCAN20            7579          37          1        33954141   \n",
       "5            POU3F1            5453          37          1        38512139   \n",
       "6             MAST2           23139          37          1        46498028   \n",
       "7              GBP4          115361          37          1        89657103   \n",
       "8              VAV3           10451          37          1       108247170   \n",
       "9            NBPF20       100288142          37          1       148346689   \n",
       "10             FLG2          388698          37          1       152331291   \n",
       "11             RHBG           57127          37          1       156339132   \n",
       "12            FCRL5           83416          37          1       157497658   \n",
       "13            SPTA1            6708          37          1       158639228   \n",
       "14         C1orf192          257177          37          1       161334861   \n",
       "15           DUSP12           11266          37          1       161719830   \n",
       "16            QSOX1            5768          37          1       180153105   \n",
       "17             EPRS            2058          37          1       220156537   \n",
       "18             RGS7            6000          37          1       241031950   \n",
       "19           ZBTB18           10472          37          1       244217482   \n",
       "20            PCBD1            5092          37         10        72645567   \n",
       "21              ECD           11319          37         10        74899185   \n",
       "22           ZNF503           84858          37         10        77160064   \n",
       "23            PDZD7           79955          37         10       102781635   \n",
       "24           SORCS1          114815          37         10       108434902   \n",
       "25            GFRA1            2674          37         10       118030598   \n",
       "26            CPXM2          119587          37         10       125516817   \n",
       "27       AL355531.2               0          37         10       131309064   \n",
       "28          TCERG1L          256536          37         10       132915133   \n",
       "29            MUC5B          727897          37         11         1271274   \n",
       "...             ...             ...         ...        ...             ...   \n",
       "1296267       FREM1          158326          37          9        14775894   \n",
       "1296268      PRUNE2          158471          37          9        79323794   \n",
       "1296269        INVS           27130          37          9       103035235   \n",
       "1296270        MURC          347273          37          9       103340724   \n",
       "1296271        SMC2           10592          37          9       106889597   \n",
       "1296272    C9orf152          401546          37          9       112963251   \n",
       "1296273         TNC            3371          37          9       117848284   \n",
       "1296274    CDK5RAP2           55755          37          9       123163147   \n",
       "1296275       PHF19           26147          37          9       123624899   \n",
       "1296276       OR1B1          347169          37          9       125391059   \n",
       "1296277      RABEPK           10244          37          9       127990317   \n",
       "1296278        DNM1            1759          37          9       131012554   \n",
       "1296279        ABL1              25          37          9       133761061   \n",
       "1296280        TTF1            7270          37          9       135266099   \n",
       "1296281     CAMSAP1          157922          37          9       138712932   \n",
       "1296282      NOTCH1            4851          37          9       139400239   \n",
       "1296283       TRAF2            7186          37          9       139814783   \n",
       "1296284       ASMTL            8623          37          X         1540730   \n",
       "1296285       USP11            8237          37          X        47099810   \n",
       "1296286       OTUD5           55593          37          X        48814718   \n",
       "1296287        TFE3            7030          37          X        48887978   \n",
       "1296288       ALAS2             212          37          X        55051258   \n",
       "1296289        HEPH            9843          37          X        65415002   \n",
       "1296290     RPS6KA6           27330          37          X        83442835   \n",
       "1296291         BTK             695          37          X       100629543   \n",
       "1296292     CXorf57           55086          37          X       105881078   \n",
       "1296293       IGSF1            3547          37          X       130410937   \n",
       "1296294      HS6ST2           90161          37          X       131762839   \n",
       "1296295     MAGEA10            4109          37          X       151303628   \n",
       "1296296          F8            2157          37          X       154159500   \n",
       "\n",
       "         End_position Strand Variant_Classification Variant_Type  \\\n",
       "0            12359347      +      Nonsense_Mutation          SNP   \n",
       "1            12726322      +           In_Frame_Del          DEL   \n",
       "2            24484172      +                 Silent          SNP   \n",
       "3            25785019      +        Frame_Shift_Ins          INS   \n",
       "4            33954141      +      Missense_Mutation          SNP   \n",
       "5            38512139      +      Missense_Mutation          SNP   \n",
       "6            46498028      +                 Silent          SNP   \n",
       "7            89657103      +                 Silent          SNP   \n",
       "8           108247170      +            Splice_Site          SNP   \n",
       "9           148346689      +      Missense_Mutation          SNP   \n",
       "10          152331291      +      Missense_Mutation          SNP   \n",
       "11          156339132      +        Frame_Shift_Del          DEL   \n",
       "12          157497658      +      Missense_Mutation          SNP   \n",
       "13          158639228      +      Missense_Mutation          SNP   \n",
       "14          161334861      +      Missense_Mutation          SNP   \n",
       "15          161719830      +      Missense_Mutation          SNP   \n",
       "16          180153105      +                 Silent          SNP   \n",
       "17          220156537      +                 Silent          SNP   \n",
       "18          241031950      +      Missense_Mutation          SNP   \n",
       "19          244217482      +      Missense_Mutation          SNP   \n",
       "20           72645567      +                 Silent          SNP   \n",
       "21           74899186      +        Frame_Shift_Ins          INS   \n",
       "22           77160064      +                 Silent          SNP   \n",
       "23          102781635      +      Missense_Mutation          SNP   \n",
       "24          108434902      +      Missense_Mutation          SNP   \n",
       "25          118030598      +      Missense_Mutation          SNP   \n",
       "26          125516817      +      Missense_Mutation          SNP   \n",
       "27          131309064      +                 Silent          SNP   \n",
       "28          132915133      +      Missense_Mutation          SNP   \n",
       "29            1271274      +                 Silent          SNP   \n",
       "...               ...    ...                    ...          ...   \n",
       "1296267      14775894      +      Missense_Mutation          SNP   \n",
       "1296268      79323794      +      Missense_Mutation          SNP   \n",
       "1296269     103035235      +      Missense_Mutation          SNP   \n",
       "1296270     103340724      +      Missense_Mutation          SNP   \n",
       "1296271     106889597      +      Missense_Mutation          SNP   \n",
       "1296272     112963251      +      Missense_Mutation          SNP   \n",
       "1296273     117848284      +      Missense_Mutation          SNP   \n",
       "1296274     123163147      +      Missense_Mutation          SNP   \n",
       "1296275     123624899      +      Missense_Mutation          SNP   \n",
       "1296276     125391059      +                 Silent          SNP   \n",
       "1296277     127990318      +        Frame_Shift_Ins          INS   \n",
       "1296278     131012554      +      Missense_Mutation          SNP   \n",
       "1296279     133761061      +                 Silent          SNP   \n",
       "1296280     135266099      +      Missense_Mutation          SNP   \n",
       "1296281     138712932      +      Missense_Mutation          SNP   \n",
       "1296282     139400239      +      Missense_Mutation          SNP   \n",
       "1296283     139814783      +      Missense_Mutation          SNP   \n",
       "1296284       1540730      +      Missense_Mutation          SNP   \n",
       "1296285      47099810      +                 Silent          SNP   \n",
       "1296286      48814718      +      Missense_Mutation          SNP   \n",
       "1296287      48887978      +                 Silent          SNP   \n",
       "1296288      55051258      +      Missense_Mutation          SNP   \n",
       "1296289      65415002      +      Missense_Mutation          SNP   \n",
       "1296290      83442835      +      Missense_Mutation          SNP   \n",
       "1296291     100629543      +      Missense_Mutation          SNP   \n",
       "1296292     105881078      +                 Silent          SNP   \n",
       "1296293     130410937      +      Missense_Mutation          SNP   \n",
       "1296294     131762839      +      Missense_Mutation          SNP   \n",
       "1296295     151303628      +                 Silent          SNP   \n",
       "1296296     154159500      +                 Silent          SNP   \n",
       "\n",
       "        Reference_Allele  ... isCOSMIChotspot COSMIChsCnt   ExAC_AF  \\\n",
       "0                      C  ...           False         0.0       NaN   \n",
       "1        CTGGCGTGACGCCAT  ...           False         3.0       NaN   \n",
       "2                      G  ...           False         0.0       NaN   \n",
       "3                      -  ...           False         0.0       NaN   \n",
       "4                      T  ...           False         0.0       NaN   \n",
       "5                      C  ...           False         0.0       NaN   \n",
       "6                      C  ...           False         0.0  0.000008   \n",
       "7                      G  ...           False         0.0  0.000016   \n",
       "8                      A  ...           False         0.0       NaN   \n",
       "9                      T  ...           False         0.0  0.000017   \n",
       "10                     C  ...           False         0.0       NaN   \n",
       "11                     C  ...           False         0.0       NaN   \n",
       "12                     A  ...           False         0.0       NaN   \n",
       "13                     C  ...           False         0.0       NaN   \n",
       "14                     A  ...           False         0.0       NaN   \n",
       "15                     T  ...           False         0.0       NaN   \n",
       "16                     C  ...           False         0.0       NaN   \n",
       "17                     G  ...           False         0.0       NaN   \n",
       "18                     G  ...           False         0.0       NaN   \n",
       "19                     A  ...           False         0.0  0.000008   \n",
       "20                     T  ...           False         0.0       NaN   \n",
       "21                     -  ...           False         0.0       NaN   \n",
       "22                     G  ...           False         0.0  0.000016   \n",
       "23                     C  ...           False         0.0       NaN   \n",
       "24                     A  ...           False         0.0       NaN   \n",
       "25                     C  ...           False         0.0       NaN   \n",
       "26                     T  ...           False         0.0  0.000041   \n",
       "27                     C  ...           False         0.0       NaN   \n",
       "28                     G  ...           False         0.0       NaN   \n",
       "29                     G  ...           False         0.0  0.000008   \n",
       "...                  ...  ...             ...         ...       ...   \n",
       "1296267                C  ...           False         0.0       NaN   \n",
       "1296268                C  ...           False         0.0       NaN   \n",
       "1296269                T  ...           False         0.0  0.000033   \n",
       "1296270                T  ...           False         0.0  0.000016   \n",
       "1296271                A  ...           False         0.0       NaN   \n",
       "1296272                G  ...           False         0.0       NaN   \n",
       "1296273                C  ...           False         0.0  0.000025   \n",
       "1296274                G  ...           False         0.0       NaN   \n",
       "1296275                G  ...           False         0.0  0.000033   \n",
       "1296276                G  ...           False         0.0       NaN   \n",
       "1296277                -  ...           False         0.0  0.000025   \n",
       "1296278                A  ...           False         0.0       NaN   \n",
       "1296279                G  ...           False         0.0       NaN   \n",
       "1296280                C  ...           False         0.0       NaN   \n",
       "1296281                G  ...           False         0.0  0.000025   \n",
       "1296282                G  ...           False         0.0       NaN   \n",
       "1296283                G  ...           False         0.0       NaN   \n",
       "1296284                T  ...           False         0.0  0.000050   \n",
       "1296285                A  ...           False         0.0  0.000016   \n",
       "1296286                C  ...           False         0.0       NaN   \n",
       "1296287                G  ...           False         0.0  0.000049   \n",
       "1296288                G  ...           False         0.0       NaN   \n",
       "1296289                C  ...           False         0.0       NaN   \n",
       "1296290                T  ...           False         0.0       NaN   \n",
       "1296291                G  ...           False         0.0       NaN   \n",
       "1296292                G  ...           False         0.0       NaN   \n",
       "1296293                C  ...           False         0.0  0.000025   \n",
       "1296294                T  ...           False         0.0       NaN   \n",
       "1296295                G  ...           False         0.0       NaN   \n",
       "1296296                G  ...           False         0.0       NaN   \n",
       "\n",
       "        CGA_WES_AC SangerWES_AC SangerRecalibWES_AC RNAseq_AC  HC_AC RD_AC  \\\n",
       "0              NaN       34:221              34:213       NaN    NaN   NaN   \n",
       "1              NaN          9:0              53:193       NaN    NaN   NaN   \n",
       "2              NaN        118:0               118:0      10:0    NaN   NaN   \n",
       "3              NaN          NaN                 NaN      6:28    NaN   NaN   \n",
       "4              NaN        27:61               28:62       NaN    NaN   NaN   \n",
       "5              NaN          NaN                 5:0       NaN    NaN   NaN   \n",
       "6              NaN          NaN                 NaN     23:63  33:70   NaN   \n",
       "7              NaN         97:0                96:0       NaN    NaN   NaN   \n",
       "8              NaN        11:32               11:30       NaN    NaN   NaN   \n",
       "9              NaN      257:206             241:196      6:34    NaN   NaN   \n",
       "10             NaN       104:41              105:41       NaN    NaN   NaN   \n",
       "11             NaN          7:1                8:41       NaN    NaN   NaN   \n",
       "12             NaN          NaN                 NaN       NaN    NaN   NaN   \n",
       "13             NaN       64:131              58:124       NaN    NaN   NaN   \n",
       "14             NaN        36:27               35:27     40:32    NaN   NaN   \n",
       "15             NaN          NaN                 NaN    58:160    NaN   NaN   \n",
       "16             NaN       156:87              157:87   434:412    NaN   NaN   \n",
       "17             NaN        43:25               42:24   293:274    NaN   NaN   \n",
       "18             NaN        35:76               34:74       NaN    NaN   NaN   \n",
       "19             NaN        29:58               28:55     30:41    NaN   NaN   \n",
       "20             NaN         8:10                8:10   110:454    NaN   NaN   \n",
       "21             NaN          NaN                 NaN    24:147    NaN   NaN   \n",
       "22             NaN        25:10                23:9   240:167    NaN   NaN   \n",
       "23             NaN       41:205              40:202       NaN    NaN   NaN   \n",
       "24             NaN        13:71               13:72       NaN    NaN   NaN   \n",
       "25             NaN        19:21               19:20      9:42    NaN   NaN   \n",
       "26             NaN        63:49               62:50       NaN    NaN   NaN   \n",
       "27             NaN          NaN                 NaN       NaN    NaN   NaN   \n",
       "28             NaN          NaN                 NaN       NaN   8:15   NaN   \n",
       "29             NaN          NaN                 NaN       NaN    NaN   NaN   \n",
       "...            ...          ...                 ...       ...    ...   ...   \n",
       "1296267    110:285          NaN                 NaN       NaN    NaN   NaN   \n",
       "1296268     86:172          NaN                 NaN       NaN    NaN   NaN   \n",
       "1296269    170:351          NaN                 NaN       NaN    NaN   NaN   \n",
       "1296270     59:100          NaN                 NaN       NaN    NaN   NaN   \n",
       "1296271       9:27          NaN                 NaN       NaN    NaN   NaN   \n",
       "1296272      31:70          NaN                 NaN       NaN    NaN   NaN   \n",
       "1296273    124:257          NaN                 NaN       NaN    NaN   NaN   \n",
       "1296274     61:143          NaN                 NaN       NaN    NaN   NaN   \n",
       "1296275     93:175          NaN                 NaN       NaN    NaN   NaN   \n",
       "1296276      48:88          NaN                 NaN       NaN    NaN   NaN   \n",
       "1296277      19:44          NaN                 NaN       NaN    NaN   NaN   \n",
       "1296278    334:178          NaN                 NaN       NaN    NaN   NaN   \n",
       "1296279      24:52          NaN                 NaN       NaN    NaN   NaN   \n",
       "1296280     77:184          NaN                 NaN       NaN    NaN   NaN   \n",
       "1296281     65:147          NaN                 NaN       NaN    NaN   NaN   \n",
       "1296282      48:23          NaN                 NaN       NaN    NaN   NaN   \n",
       "1296283    101:265          NaN                 NaN       NaN    NaN   NaN   \n",
       "1296284      60:49          NaN                 NaN       NaN    NaN   NaN   \n",
       "1296285       76:0          NaN                 NaN       NaN    NaN   NaN   \n",
       "1296286       74:0          NaN                 NaN       NaN    NaN   NaN   \n",
       "1296287      124:0          NaN                 NaN       NaN    NaN   NaN   \n",
       "1296288    109:120          NaN                 NaN       NaN    NaN   NaN   \n",
       "1296289      115:0          NaN                 NaN       NaN    NaN   NaN   \n",
       "1296290      95:85          NaN                 NaN       NaN    NaN   NaN   \n",
       "1296291       80:0          NaN                 NaN       NaN    NaN   NaN   \n",
       "1296292     52:136          NaN                 NaN       NaN    NaN   NaN   \n",
       "1296293       45:0          NaN                 NaN       NaN    NaN   NaN   \n",
       "1296294       81:0          NaN                 NaN       NaN    NaN   NaN   \n",
       "1296295       52:0          NaN                 NaN       NaN    NaN   NaN   \n",
       "1296296      31:41          NaN                 NaN       NaN    NaN   NaN   \n",
       "\n",
       "        WGS_AC  \n",
       "0          NaN  \n",
       "1        28:32  \n",
       "2         18:0  \n",
       "3          NaN  \n",
       "4          NaN  \n",
       "5         10:4  \n",
       "6         8:22  \n",
       "7        27:15  \n",
       "8        15:18  \n",
       "9        21:42  \n",
       "10       19:32  \n",
       "11         NaN  \n",
       "12       17:25  \n",
       "13        8:29  \n",
       "14       19:26  \n",
       "15        8:26  \n",
       "16       21:19  \n",
       "17       23:24  \n",
       "18         NaN  \n",
       "19       29:20  \n",
       "20       13:44  \n",
       "21         NaN  \n",
       "22       20:29  \n",
       "23        9:62  \n",
       "24         NaN  \n",
       "25       16:25  \n",
       "26       17:24  \n",
       "27       14:18  \n",
       "28       13:30  \n",
       "29        9:16  \n",
       "...        ...  \n",
       "1296267    NaN  \n",
       "1296268    NaN  \n",
       "1296269    NaN  \n",
       "1296270    NaN  \n",
       "1296271    NaN  \n",
       "1296272    NaN  \n",
       "1296273    NaN  \n",
       "1296274    NaN  \n",
       "1296275    NaN  \n",
       "1296276    NaN  \n",
       "1296277    NaN  \n",
       "1296278    NaN  \n",
       "1296279    NaN  \n",
       "1296280    NaN  \n",
       "1296281    NaN  \n",
       "1296282    NaN  \n",
       "1296283    NaN  \n",
       "1296284    NaN  \n",
       "1296285    NaN  \n",
       "1296286    NaN  \n",
       "1296287    NaN  \n",
       "1296288    NaN  \n",
       "1296289    NaN  \n",
       "1296290    NaN  \n",
       "1296291    NaN  \n",
       "1296292    NaN  \n",
       "1296293    NaN  \n",
       "1296294    NaN  \n",
       "1296295    NaN  \n",
       "1296296    NaN  \n",
       "\n",
       "[1296297 rows x 32 columns]"
      ]
     },
     "execution_count": 8,
     "metadata": {},
     "output_type": "execute_result"
    }
   ],
   "source": [
    "#Count the total number of mutations per cell line, split by type (SNP, INS, DEL)\n"
   ]
  },
  {
   "cell_type": "code",
   "execution_count": null,
   "metadata": {},
   "outputs": [],
   "source": [
    "# Count the total number of mutations observed by position"
   ]
  },
  {
   "cell_type": "markdown",
   "metadata": {},
   "source": [
    "Are mutation consistent?"
   ]
  },
  {
   "cell_type": "code",
   "execution_count": null,
   "metadata": {},
   "outputs": [],
   "source": [
    "#  to check this, if you group all the mutations in the mutations table by Chromosome, Start_position, End_position, Reference_Allele, Tumor_Seq_Allele1 columns, they should all have the same annotation for the other columns (protein change, exac_af, etc...)\n"
   ]
  },
  {
   "cell_type": "code",
   "execution_count": null,
   "metadata": {},
   "outputs": [],
   "source": []
  },
  {
   "cell_type": "markdown",
   "metadata": {},
   "source": []
  },
  {
   "cell_type": "code",
   "execution_count": null,
   "metadata": {},
   "outputs": [],
   "source": []
  },
  {
   "cell_type": "code",
   "execution_count": null,
   "metadata": {},
   "outputs": [],
   "source": []
  },
  {
   "cell_type": "markdown",
   "metadata": {},
   "source": [
    "QC mutations, for a known dependency, check if it matches mutation of this gene. (if P53 is mutated, cannot have dependency on P53 or MDM2 MDM4/ inverse fir BRAF and KRAF to themselves)"
   ]
  },
  {
   "cell_type": "code",
   "execution_count": null,
   "metadata": {},
   "outputs": [],
   "source": []
  },
  {
   "cell_type": "markdown",
   "metadata": {},
   "source": [
    "# uploading on taiga"
   ]
  },
  {
   "cell_type": "code",
   "execution_count": 82,
   "metadata": {},
   "outputs": [
    {
     "name": "stdout",
     "output_type": "stream",
     "text": [
      "Uploading mutations.19Q3interim...\n",
      "hitting https://cds.team/taiga/api/datafile/a917f2a858374d7fa58250039a18f620\n",
      "Conversion and upload...:\n",
      "\t Downloading the file from S3\n",
      "\t Downloading the file from S3\n",
      "\t Downloading the file from S3\n",
      "\t Downloading the file from S3\n",
      "\t Downloading the file from S3\n",
      "\t Downloading the file from S3\n",
      "\t Downloading the file from S3\n",
      "\t Downloading the file from S3\n",
      "\t Downloading the file from S3\n",
      "\t Downloading the file from S3\n",
      "\t Downloading the file from S3\n",
      "\t Downloading the file from S3\n",
      "\t Downloading the file from S3\n",
      "\t Downloading the file from S3\n",
      "\t Downloading the file from S3\n",
      "\t Downloading the file from S3\n",
      "\t Downloading the file from S3\n",
      "\t Downloading the file from S3\n",
      "\t Downloading the file from S3\n",
      "\t Downloading the file from S3\n",
      "\t Downloading the file from S3\n",
      "\t Downloading the file from S3\n",
      "\t Downloading the file from S3\n",
      "\t Downloading the file from S3\n",
      "\t Downloading the file from S3\n",
      "\t Downloading the file from S3\n",
      "\t Downloading the file from S3\n",
      "\t Downloading the file from S3\n",
      "\t Downloading the file from S3\n",
      "\t Downloading the file from S3\n",
      "\t Downloading the file from S3\n",
      "\t Downloading the file from S3\n",
      "\t Downloading the file from S3\n",
      "\t Downloading the file from S3\n",
      "\t Downloading the file from S3\n",
      "\t Downloading the file from S3\n",
      "\t Downloading the file from S3\n",
      "\t Downloading the file from S3\n",
      "\t Downloading the file from S3\n",
      "\t Downloading the file from S3\n",
      "\t Downloading the file from S3\n",
      "\t Downloading the file from S3\n",
      "\t Downloading the file from S3\n",
      "\t Downloading the file from S3\n",
      "\t Downloading the file from S3\n",
      "\t Downloading the file from S3\n",
      "\t Downloading the file from S3\n",
      "\t Downloading the file from S3\n",
      "\t Downloading the file from S3\n",
      "\t Downloading the file from S3\n",
      "\t Downloading the file from S3\n",
      "\t Downloading the file from S3\n",
      "\t Downloading the file from S3\n",
      "\t Downloading the file from S3\n",
      "\t Downloading the file from S3\n",
      "\t Downloading the file from S3\n",
      "\t Downloading the file from S3\n",
      "\t Downloading the file from S3\n",
      "\t Downloading the file from S3\n",
      "\t Downloading the file from S3\n",
      "\t Downloading the file from S3\n",
      "\t Downloading the file from S3\n",
      "\t Downloading the file from S3\n",
      "\t Downloading the file from S3\n",
      "\t Downloading the file from S3\n",
      "\t Downloading the file from S3\n",
      "\t Downloading the file from S3\n",
      "\t Downloading the file from S3\n",
      "\t Downloading the file from S3\n",
      "\t Downloading the file from S3\n",
      "\t Downloading the file from S3\n",
      "\t Uploading to S3\n",
      "\t Uploading to S3\n",
      "\n",
      "\t Done: mutations.19Q3interim properly converted and uploaded\n",
      "Creating the new version with these files:\n",
      "\tNEW: mutations.19Q3interim - TableTSV\n",
      "hitting https://cds.team/taiga/api/datasetVersion\n",
      "\n",
      "Dataset version with id 5e551f1932fa4844bf87c566793b1434 created. You can access to this dataset version directly with this url: https://cds.team/taiga/dataset_version/5e551f1932fa4844bf87c566793b1434\n"
     ]
    },
    {
     "data": {
      "text/plain": [
       "'5e551f1932fa4844bf87c566793b1434'"
      ]
     },
     "execution_count": 82,
     "metadata": {},
     "output_type": "execute_result"
    }
   ],
   "source": [
    "tc.update_dataset(dataset_permaname=\"depmap-mutations-maf-35fe\",\n",
    "                 upload_file_path_dict={'temp/mutations.'+release+'.tsv': 'TableTSV'},\n",
    "                 dataset_description=\"Updating to \"+release,\n",
    "                 force_remove=True)"
   ]
  },
  {
   "cell_type": "code",
   "execution_count": null,
   "metadata": {},
   "outputs": [],
   "source": []
  }
 ],
 "metadata": {
  "kernelspec": {
   "display_name": "Python 3",
   "language": "python",
   "name": "python3"
  },
  "language_info": {
   "codemirror_mode": {
    "name": "ipython",
    "version": 3
   },
   "file_extension": ".py",
   "mimetype": "text/x-python",
   "name": "python",
   "nbconvert_exporter": "python",
   "pygments_lexer": "ipython3",
   "version": "3.7.3"
  }
 },
 "nbformat": 4,
 "nbformat_minor": 2
}
