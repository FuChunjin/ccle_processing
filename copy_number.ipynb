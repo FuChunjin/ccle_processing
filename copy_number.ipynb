{
 "cells": [
  {
   "cell_type": "code",
   "execution_count": null,
   "metadata": {},
   "outputs": [],
   "source": [
    "# Copy Number post processing"
   ]
  },
  {
   "cell_type": "code",
   "execution_count": null,
   "metadata": {},
   "outputs": [],
   "source": [
    "%load_ext rpy2.ipython"
   ]
  },
  {
   "cell_type": "markdown",
   "metadata": {},
   "source": [
    "## You might need to install some packages"
   ]
  },
  {
   "cell_type": "code",
   "execution_count": null,
   "metadata": {},
   "outputs": [],
   "source": [
    "%%R\n",
    "install.packages(c('plyr','dplyr','tidyverse','magrittr','reshape2','useful','ggplot2','ggthemes','ggrepel','gridExtra','ggridges','GGally','plotly','VennDiagram','RColorBrewer','extrafont','cowplot','network','data.table','DT','readr','readxl','clues','Bioc','mclust','pheatmap','Rtsne','NMF','hash', \"stringr\", \"irr\", \"zoo\", \"scales\", \"rlang\", \"rmarkdown\",\"lsa\"))\n",
    "if (!requireNamespace(\"BiocManager\", quietly = TRUE))\n",
    "    install.packages(\"BiocManager\")\n",
    "BiocManager::install(c(\"GSEABase\",\"limma\",\"org.Hs.eg.db\",\"GenomicRanges\"))\n",
    "options(repos = c(\n",
    "  \"https://iwww.broadinstitute.org/~datasci/R-packages\",\n",
    "  \"https://cran.cnr.berkeley.edu\"))\n",
    "install.packages(c('taigr','cdsr',\"svacd\"))\n",
    "# if can't use broad intranet, install from source with R CMD INSTALL ."
   ]
  },
  {
   "cell_type": "code",
   "execution_count": null,
   "metadata": {
    "hide_output": true
   },
   "outputs": [],
   "source": [
    "%%R\n",
    "source('gkugener/RScripts/load_libraries_and_annotations.R')"
   ]
  },
  {
   "cell_type": "markdown",
   "metadata": {},
   "source": [
    "TODO: clean up paths to new downloaded file, loading of previous release so it is not so far down\n",
    "\n",
    "## CCLE quarterly copy number processing"
   ]
  },
  {
   "cell_type": "markdown",
   "metadata": {},
   "source": [
    "This documents outlines the steps run for the quarterly processing of copy number data for the DepMap release. An overview of the steps:\n",
    "\n",
    "1. Download new processed data from FireCloud (https://portal.firecloud.org/#workspaces/broad-firecloud-ccle/DepMap_WES_CN_hg38). This includes Broad WES and Sanger WES and save to a taiga repo.\n",
    "2. For the Sanger data, we are combining the autosomal calls from the Sanger PON based calls with the X calls from the Agilent based PON (using the Sanger WES normals as the PON for Sanger results is much less noisey it appears)\n",
    "3. Download the previously processed data (both genes and segments)\n",
    "4. In the segmented data file, add the newly processed data. Remove any samples that were included previously with Sanger WES or Broad SNP with Broad WGS or WES samples\n",
    "\n",
    "* Priority rules: Broad WES over everything, Broad WGS, Sanger WES (unless the correlation with Achilles LFC is worse AND the sample is too different from the Broad SNP sample), Broad SNP.\n",
    "\n",
    "5. Interpolate segment regions: fill in gaps in the segments, pad the ends for genes outside the target regions\n",
    "6. Generate the gene level data: map genes to the segments.\n",
    "7. Upload to taiga\n",
    "\n",
    "## Download new data\n",
    "\n",
    "The first thing we need to do is download the newly processed data from FireCloud. \n",
    "\n",
    "* hg19 aligned data can be found at: https://portal.firecloud.org/#workspaces/broad-firecloud-ccle/DepMap_CN_GATK4/\n",
    "* hg38 (starting 19Q2) can be found at: https://portal.firecloud.org/#workspaces/broad-firecloud-ccle/DepMap_WES_CN_hg38"
   ]
  },
  {
   "cell_type": "code",
   "execution_count": null,
   "metadata": {},
   "outputs": [],
   "source": [
    "%%R\n",
    "genome_version <- 'hg38'\n",
    "release <- '19Q3interim'\n",
    "hg38_cyto_band_reference <- 'data/hg38_cytoband.gz'\n",
    "new_samples_copy_number_broad_wes <- '~/broad_bucket/DM19Q1.called.seg'"
   ]
  },
  {
   "cell_type": "code",
   "execution_count": null,
   "metadata": {},
   "outputs": [],
   "source": [
    "%%R\n",
    "# Previous release copy number profiles. This line will need to be updated as well\n",
    "wes.priority.cn.seg.profiles <- taigr::load.from.taiga(data.name='segmented-cn-wes-prioritzed-7fe1', data.version=20, data.file='wes_priority_cn_seg_profiles') %>%\n",
    "  dplyr::select(DepMap_ID, Chromosome, Start, End, Num_Probes, Segment_Mean, Source)\n",
    "wes.priority.cn.gene.profiles <- taigr::load.from.taiga(data.name='segmented-cn-wes-prioritzed-7fe1', data.version=20, data.file='wes_priority_cn_gene_matrix')"
   ]
  },
  {
   "cell_type": "code",
   "execution_count": null,
   "metadata": {},
   "outputs": [],
   "source": [
    "new_copy_number <- readr::read_tsv(new_samples_copy_number_broad_wes, col_types = cols(\n",
    "  DepMap_ID = col_character(), \n",
    "  CONTIG=col_character(), \n",
    "  START=col_double(), END=col_double(), \n",
    "  NUM_POINTS_COPY_RATIO=col_double(), MEAN_LOG2_COPY_RATIO=col_double(), \n",
    "  CALL=col_character()\n",
    ")) %>% dplyr::select(DepMap_ID, Chromosome=CONTIG, Start=START, End=END, Num_Probes=NUM_POINTS_COPY_RATIO, Segment_Mean=MEAN_LOG2_COPY_RATIO) %>%\n",
    "  dplyr::mutate(Source=case_when(\n",
    "    grepl('^(dm|ccle2)_', DepMap_ID) ~ 'Broad WES',\n",
    "    grepl('^chordoma_', DepMap_ID) ~ 'Chordoma WES'),\n",
    "    TRUE ~ 'Other WES')\n",
    "\n",
    "# We shouldn't have anything labelled other, so check this\n",
    "if (nrow(new_copy_number %>% filter(Source=='Other WES')) > 0) {\n",
    "  print('ERROR. THERE IS A SAMPLE NOT FROM BROAD OR THE CHORDOMA FOUNDATION')\n",
    "}\n",
    "\n",
    "# Make sure there are no duplicates\n",
    "counts_unique_by_source <- new_copy_number %>%\n",
    "  mutate(DepMap_ID=stringr::str_extract(string=Sample, pattern='ACH\\\\-[0-9]+')) %>%\n",
    "  distinct(Source, DepMap_ID, Sample) %>%\n",
    "  group_by(Source, DepMap_ID) %>%\n",
    "  dplyr::summarise(count=n()) %>%\n",
    "  filter(count > 1)\n",
    "\n",
    "if (nrow(counts_unique_by_source) != 0) {\n",
    "  print('ERROR. THERE IS A DUPLICATE SAMPLE IN THE SET FOR A SINGLE SOURCE')\n",
    "}\n",
    "\n",
    "# If it passes above, then can remove prefix from DepMap IDs\n",
    "new_copy_number %<>% dplyr::mutate(DepMap_ID=stringr::str_extract(pattern='ACH\\\\-[0-9]+', string = DepMap_ID))\n",
    "\n",
    "# Untransform data if it is log2 transformed (which it will be if from the FireCloud pipeline)\n",
    "if (min(new_copy_number$Segment_Mean) < 0) {\n",
    "  new_copy_number %<>% mutate(Segment_Mean=2^Segment_Mean)\n",
    "}"
   ]
  },
  {
   "cell_type": "markdown",
   "metadata": {},
   "source": [
    "## Download previously processed data"
   ]
  },
  {
   "cell_type": "code",
   "execution_count": null,
   "metadata": {},
   "outputs": [],
   "source": [
    "# For the previous releases copy number file, see if it needs to be untransformed or not\n",
    "if (min(wes.priority.cn.seg.profiles$Segment_Mean) < 0) {\n",
    "  wes.priority.cn.seg.profiles %<>% mutate(Segment_Mean=2^Segment_Mean)\n",
    "}"
   ]
  },
  {
   "cell_type": "markdown",
   "metadata": {},
   "source": [
    "## Reprioritize processed data\n",
    "\n",
    "Here, we combine the previous release segments with the additional segments we have processed this quarter. We replace Sanger WES and Broad SNP prioritized cell lines with the Broad WES version if it is now available in the newly downloaded data."
   ]
  },
  {
   "cell_type": "code",
   "execution_count": null,
   "metadata": {
    "eval": true
   },
   "outputs": [],
   "source": [
    "broad_wes_cell_lines_in_new <- new_copy_number %>% filter(Source=='Broad WES') %$% unique(DepMap_ID)\n",
    "replaced_cell_lines <- wes.priority.cn.seg.profiles %>%\n",
    "  distinct(DepMap_ID, Source) %>%\n",
    "  dplyr::filter(Source != 'Broad WES') %$%\n",
    "  intersect(DepMap_ID, broad_wes_cell_lines_in_new)\n",
    "\n",
    "new_cell_lines <- broad_wes_cell_lines_in_new %>%\n",
    "  setdiff(., wes.priority.cn.seg.profiles$DepMap_ID)\n",
    "\n",
    "# Use from previous release\n",
    "sanger_lines_using <- wes.priority.cn.seg.profiles %>% filter(Source=='Sanger WES') %$% DepMap_ID %>% unique()"
   ]
  },
  {
   "cell_type": "code",
   "execution_count": null,
   "metadata": {
    "eval": true
   },
   "outputs": [],
   "source": [
    "# So we only keep the Sanger lines that were previously used\n",
    "new_copy_number %<>% dplyr::filter(Source=='Broad WES' | (Source=='Sanger WES' & (DepMap_ID %in% sanger_lines_using)) | (Source == 'Chordoma WES' & !(DepMap_ID %in% broad_wes_cell_lines_in_new)))\n",
    "new_copy_number %<>% filter(!(Source=='Sanger WES' & DepMap_ID %in% broad_wes_cell_lines_in_new))\n",
    "\n",
    "# Use this snippet if simply adding new Broad WES samples to the previous release dataset\n",
    "# Add the Broad WES data to the new dataset\n",
    "combined_new_prioritized_dataset <- rbind(\n",
    "  wes.priority.cn.seg.profiles %>% dplyr::filter(!(DepMap_ID %in% new_copy_number$DepMap_ID)),\n",
    "  new_copy_number\n",
    ")\n",
    "\n",
    "# Check that all cell lines only represented once (this should be empty)\n",
    "combined_new_prioritized_dataset %>%\n",
    "  distinct(Source, DepMap_ID) %>%\n",
    "  group_by(DepMap_ID) %>%\n",
    "  dplyr::mutate(count=n()) %>%\n",
    "  # filter(Source=='Broad SNP')\n",
    "  filter(count > 1)\n",
    "\n",
    "# Check the combined matrix contains all same samples\n",
    "if (length(setdiff(unique(wes.priority.cn.seg.profiles$DepMap_ID), unique(combined_new_prioritized_dataset$DepMap_ID))) > 0) {\n",
    "  print('THERE IS A CELL LINE MISSING IN THE NEW RELEASE SET THAT WAS PREVIOUSLY INCLUDED')\n",
    "}\n",
    "\n",
    "# Quick check that we added all the new cell lines\n",
    "if ((length(unique(combined_new_prioritized_dataset$DepMap_ID)) - length(unique(wes.priority.cn.seg.profiles$DepMap_ID))) != length(new_cell_lines)) {\n",
    "  print('FAILED COMBINING NEW AND PREVIOUS RELEASE DATA')\n",
    "}"
   ]
  },
  {
   "cell_type": "markdown",
   "metadata": {},
   "source": [
    "In this release, the following changes were made:\n",
    "\n",
    "* Number of new cell lines: `r length(new_cell_lines)`\n",
    "* Number of cell lines moving from Sanger WES/Broad SNP -> Broad WES CN: `r length(replaced_cell_lines)`\n",
    "* Total cell lines with CN this release: `r length(unique(combined_new_prioritized_dataset$DepMap_ID))`\n",
    "\n",
    "## Interpolate segments\n",
    "\n",
    "In this section we perform to operations on the segment level data\n",
    "\n",
    "1. Fill in the gaps: there may be gaps between segments in the copy number data, leading to the possibility genes mapping to these gaps and being NAed further downstream.\n",
    "2. Extend the ends: there are genes that map outside the targeting regions (in WES). To address these cases, we can extend the ends of the segments so that these genes are not NAed."
   ]
  },
  {
   "cell_type": "code",
   "execution_count": null,
   "metadata": {},
   "outputs": [],
   "source": [
    "# Fill in the gaps on the entire dataset\n",
    "segments_gaps_filled_object <- interpolate_gaps_in_segmented(segment_file = combined_new_prioritized_dataset)\n",
    "segments_gaps_filled <- segments_gaps_filled_object$segs\n",
    "\n",
    "# Extend start sites to 1, end sites to the end of the chromosome?\n",
    "extend_ends <- TRUE\n",
    "if (extend_ends) {\n",
    "  # Starts to 1\n",
    "  segments_gaps_filled %<>% extend_ends_of_segments(.)\n",
    "}"
   ]
  },
  {
   "cell_type": "markdown",
   "metadata": {},
   "source": [
    "## Add the genes"
   ]
  },
  {
   "cell_type": "code",
   "execution_count": null,
   "metadata": {},
   "outputs": [],
   "source": [
    "# This is how Achilles maps genes to chromosomes. However, for CCLE, we use a different reference.\n",
    "# I am leaving this snippet here just for reference but we do not use it\n",
    "# Pull the gene coordindates from ftp://ftp.ncbi.nlm.nih.gov/pub/CCDS/current_human\n",
    "cds_gene_paths <- list(\n",
    "  hg19='ftp://ftp.ncbi.nlm.nih.gov/pub/CCDS/archive/Hs105/CCDS.current.txt',\n",
    "  hg38-'ftp://ftp.ncbi.nlm.nih.gov/pub/CCDS/current_human/CCDS.20180614.txt'\n",
    ")\n",
    "\n",
    "gene_mapping_ccds <- read_tsv(url(cds_gene_paths[[genome_version]]), col_types = cols(.default = 'c')) # This is how Achilles gets the genes. There are far fewer genes than using org.Hs.eg.db"
   ]
  },
  {
   "cell_type": "code",
   "execution_count": null,
   "metadata": {
    "lines_to_next_cell": 2
   },
   "outputs": [],
   "source": [
    "# Previously how we obtained coordinates in CCLE (from Mahmoud)\n",
    "## BE SURE TO CHECK WHAT VERSION OF THE GENOME THIS IS USING ##\n",
    "# It could depend on when you last updated this package\n",
    "library(org.Hs.eg.db) # This is using hg38 \n",
    "\n",
    "## Filter coordinates to exclude multiple transcripts that are too spread out\n",
    "filter.coordinates <- function(loc, coordinate.end, max.spread=2000000) {\n",
    "  ## Only keep coordinates on propper chromosomes\n",
    "  loc <- as.numeric(loc[names(loc) %in% c(as.character(1:22), \"X\", \"Y\")])\n",
    "  if (length(loc)==0) {\n",
    "    return(NA)\n",
    "  } else if (coordinate.end==\"start\") {\n",
    "    ## start coordinate\n",
    "    if (diff(range(loc)) > max.spread) {\n",
    "      # print(loc)\n",
    "    }\n",
    "    return(ifelse(diff(range(loc))>max.spread, NA, min(abs(loc))))\n",
    "  } else {\n",
    "    ## end coordinate\n",
    "    return(ifelse(diff(range(loc))>max.spread, NA, max(abs(loc))))\n",
    "  }\n",
    "}\n",
    "\n",
    "## Only keep proper chromosomes\n",
    "filter.chromosomes <- function(chrom) {\n",
    "  chrom <- intersect(chrom, c(as.character(1:22), \"X\", \"Y\"))\n",
    "  ifelse(length(chrom)>0, chrom, NA)\n",
    "}\n",
    "\n",
    "allENTREZG <- data.frame(array(NA, dim=c(length(mappedkeys(org.Hs.egSYMBOL)),5)))\n",
    "colnames(allENTREZG) <- c(\"EGID\", \"SYMBOL\", \"CHR\", \"CHRLOC\", \"CHRLOCEND\")\n",
    "\n",
    "allENTREZG$EGID <- mappedkeys(org.Hs.egSYMBOL)\n",
    "allENTREZG$SYMBOL <- unlist(mget(mappedkeys(org.Hs.egSYMBOL), org.Hs.egSYMBOL))\n",
    "\n",
    "allENTREZG$CHR <- unlist(lapply(mget(mappedkeys(org.Hs.egSYMBOL), org.Hs.egCHR), filter.chromosomes))\n",
    "\n",
    "allENTREZG$CHRLOC <- unlist(lapply(mget(mappedkeys(org.Hs.egSYMBOL), org.Hs.egCHRLOC), filter.coordinates, coordinate.end=\"start\" ))\n",
    "allENTREZG$CHRLOCEND <- unlist(lapply(mget(mappedkeys(org.Hs.egSYMBOL), org.Hs.egCHRLOCEND), filter.coordinates, coordinate.end=\"end\"))\n",
    "\n",
    "allENTREZG <- subset(allENTREZG, !is.na(CHR) & !is.na(CHRLOC) & !is.na(CHRLOCEND))\n",
    "\n",
    "if (genome_version=='hg19') {\n",
    "  allENTREZG <- load.from.taiga(data.name='depmap-wes-cn-data--08f3', data.version=12, data.file='WES_CN_gene.depMap_18q4b') %>%\n",
    "    dplyr::select(EGID, SYMBOL, CHR, CHRLOC, CHRLOCEND)\n",
    "}\n",
    "\n",
    "# Remove chromosome Y genes, as currently we do not call CN on the Y chromosome\n",
    "allENTREZG %<>% filter(gsub('chr', '', CHR) != 'Y')"
   ]
  },
  {
   "cell_type": "code",
   "execution_count": null,
   "metadata": {},
   "outputs": [],
   "source": [
    "######################\n",
    "# The function below generates the gene level matrix from a gene mapping\n",
    "#\n",
    "# @args:\n",
    "#   - gene_mapping: \n",
    "#       data.frame with EGID, SYMBOL, CHR, CHRLOC, CHRLOCEND\n",
    "#   - segments: \n",
    "#       data.frame with DepMap_ID (what samples are separated on), \n",
    "#       Chromosome, Start, End, Segment_Mean, Num_Probes\n",
    "#\n",
    "# @returns: a data.frame with EGID, SYMBOL, CHR, CHRLOC, CHRLOCEND followed \n",
    "#           by one column for each sample containing the Segment_Mean of the \n",
    "#           gene\n",
    "######################\n",
    "generate_gene_level_matrix_from_segments <- function(gene_mapping, segments) {\n",
    "  # However we decide to get the gene annotations... we now do the below to map genes to segments to get gene level calls\n",
    "  # This is very fast (~2 minutes)\n",
    "  allENTREZG_as_granges <- gene_mapping %>% \n",
    "    dplyr::select(start=CHRLOC, end=CHRLOCEND, seqnames=CHR, everything()) %>%\n",
    "    GenomicRanges::makeGRangesFromDataFrame(keep.extra.columns = T)\n",
    "  \n",
    "  # Now overlap segments and genes to get gene level data\n",
    "  # unique_samples <- segments_gaps_filled$DepMap_ID %>% sample(size = 100)\n",
    "  segments_gaps_filled_as_granges <- GenomicRanges::makeGRangesFromDataFrame(segments, keep.extra.columns = T)\n",
    "  segments_gaps_filled_as_granges_list <- split(segments_gaps_filled_as_granges, segments_gaps_filled_as_granges$DepMap_ID)\n",
    "  \n",
    "  # Shamelessly stolen from CERES\n",
    "  single_cell_line <- length(names(segments_gaps_filled_as_granges_list)) == 1\n",
    "  gene_level_data <- laply(segments_gaps_filled_as_granges_list, function(seg) {\n",
    "    hits <- GenomicRanges::findOverlaps(allENTREZG_as_granges, seg) %>% as.data.frame %>%\n",
    "      dplyr::distinct(queryHits, .keep_all = T)\n",
    "      CN <- rep(NA, length(allENTREZG_as_granges))\n",
    "      CN[hits$queryHits] <- as.data.frame(seg)[hits$subjectHits,'Segment_Mean']\n",
    "        return(CN)\n",
    "    }, .parallel = FALSE) %>% \n",
    "    {if(single_cell_line) as.matrix(.) else t(.)} %>%\n",
    "    set_colnames(names(segments_gaps_filled_as_granges_list)) %>%\n",
    "    as.data.frame()\n",
    "  \n",
    "  # Add the annotations back\n",
    "  gene_level_mat_columns_to_add <- c('SYMBOL', 'EGID', 'seqnames', 'start', 'end')\n",
    "  gene_level_data[,gene_level_mat_columns_to_add] <- allENTREZG_as_granges %>% \n",
    "    GenomicRanges::as.data.frame() %>%\n",
    "    dplyr::select(gene_level_mat_columns_to_add)\n",
    "  gene_level_data %<>% dplyr::rename(Chromosome=seqnames, CHRLOC=start, CHRLOCEND=end) \n",
    "  \n",
    "  return(gene_level_data)\n",
    "}"
   ]
  },
  {
   "cell_type": "code",
   "execution_count": null,
   "metadata": {},
   "outputs": [],
   "source": [
    "gene_level_data <- generate_gene_level_matrix_from_segments(allENTREZG, segments_gaps_filled)"
   ]
  },
  {
   "cell_type": "code",
   "execution_count": null,
   "metadata": {},
   "outputs": [],
   "source": [
    "# Generate the new hg38-cn based gene level matrix\n",
    "gene_level_data_hg38 <- gene_level_data %>%\n",
    "  dplyr::mutate(rn=paste0(SYMBOL, ' (', EGID, ')')) %>%\n",
    "  dplyr::select(c('rn', colnames(.)[grep('ACH\\\\-[0-9]+', colnames(.))])) %>%\n",
    "  column_to_rownames(var='rn') %>% t()"
   ]
  },
  {
   "cell_type": "markdown",
   "metadata": {},
   "source": [
    "## Upload to taiga\n",
    "\n",
    "These snippets create the matrices that are ultimately uploaded to taiga. I would suggest running the 'result validation' snippets first to ensure that there are not huge changes to the results from the previous release. If there are, validate that they are expected."
   ]
  },
  {
   "cell_type": "code",
   "execution_count": null,
   "metadata": {
    "eval": true
   },
   "outputs": [],
   "source": [
    "# Remove the internally embargoed lines\n",
    "black_listed_lines <- read_xlsx('~/Documents/Analysis/DepMap_omics/Embargo_and_blacklists/19Q2 Omics Blacklist and Embargo.xlsx', sheet = 'Blacklist') %>%\n",
    "  magrittr::set_colnames(c('Blacklist', 'Type')) %$% Blacklist"
   ]
  },
  {
   "cell_type": "markdown",
   "metadata": {},
   "source": [
    "<!-- The lines below will be removed as they are in the blacklist -->"
   ]
  },
  {
   "cell_type": "code",
   "execution_count": null,
   "metadata": {
    "eval": false
   },
   "outputs": [],
   "source": [
    "segments_gaps_filled %>% filter(DepMap_ID %in% black_listed_lines) %>% distinct(DepMap_ID, Source) %>% mutate(CCLE_name=arxspan.to.ccle(DepMap_ID)) %>% datatable(rownames = F)"
   ]
  },
  {
   "cell_type": "code",
   "execution_count": null,
   "metadata": {
    "eval": true
   },
   "outputs": [],
   "source": [
    "# Save the segmented level data (untransformed)\n",
    "segments_gaps_filled %>%\n",
    "  filter(!(DepMap_ID %in% black_listed_lines)) %>%\n",
    "  dplyr::select(DepMap_ID, Chromosome=seqnames, Start=start, End=end, Num_Probes, Segment_Mean, Source) %>%\n",
    "  write.table(., file = paste0(directory_to_save_files_to, release, '/CCLE_internal_19q2_segmented_cn.tsv'), sep = '\\t', quote = F, row.names = F)\n",
    "\n",
    "# log2(CN + 1) to deal with small differences in low CN (differences in 0.01 and 0.02 will no longer be emphasized)\n",
    "log2(gene_level_data_hg38[setdiff(row.names(gene_level_data_hg38), black_listed_lines),]+1) %>%\n",
    "  write.table(., file = paste0(directory_to_save_files_to, release, '/CCLE_internal_19q2_gene_cn.tsv'), sep = '\\t', quote = F, row.names = T)"
   ]
  },
  {
   "cell_type": "markdown",
   "metadata": {},
   "source": [
    "## Result validation\n",
    "\n",
    "Validation that results didn't change too much from previous release. This is a sanity check in case there are major changes to the pipeline.\n",
    "\n",
    "1. Compare to previous release\n",
    "\n",
    "We compare the gene level copy number data to previous releases. The changes we expect to see:\n",
    "\n",
    "* Changes in pipeline: involving realignment or new parameters in the pipeline. We expect that 99% of all genes will be unaffected by this\n",
    "* Changes in copy number source: often, we will get sequencing for a sample that previously was using SNP or Sanger WES. We would expect to see some changes in these cell lines copy number profiles"
   ]
  },
  {
   "cell_type": "code",
   "execution_count": null,
   "metadata": {},
   "outputs": [],
   "source": [
    "# Comparison function\n",
    "gene_level_comparison_matrix_gen <- function(new_mat, old_mat, cell_lines, genes_using) {\n",
    "  # Get overlapping genes\n",
    "  overlapping_genes <- intersect(colnames(new_mat), colnames(old_mat)) %>% intersect(genes_using)\n",
    "  overlapping_cell_lines <- intersect(row.names(new_mat), row.names(old_mat)) %>% intersect(cell_lines)\n",
    "  \n",
    "  # Calculate differences (cell line level, gene level)\n",
    "  differences <- log2(new_mat[overlapping_cell_lines, overlapping_genes]) - log2(old_mat[overlapping_cell_lines, overlapping_genes])\n",
    "  \n",
    "  # cell overview\n",
    "  cl_diffs <- apply(differences, 1, FUN = function(x) length(x[!is.na(x) & abs(x) > 0.5])/length(x[!is.na(x)]))\n",
    "  gene_diffs <- apply(differences, 2, FUN = function(x) length(x[!is.na(x) & abs(x) > 0.5]))\n",
    "  \n",
    "  return(list(gene=gene_diffs, cl=cl_diffs))\n",
    "}"
   ]
  },
  {
   "cell_type": "code",
   "execution_count": null,
   "metadata": {},
   "outputs": [],
   "source": [
    "x_only <- gene_level_data %>% filter(Chromosome=='X') %$% paste0(SYMBOL, ' (', EGID, ')') \n",
    "autosomal_genes <- gene_level_data %>% filter(Chromosome %in% seq(1,22)) %$% paste0(SYMBOL, ' (', EGID, ')')"
   ]
  },
  {
   "cell_type": "code",
   "execution_count": null,
   "metadata": {},
   "outputs": [],
   "source": [
    "# I used this chunk to try and identify where there were NAs for gene level copy number. Now that we extend the segment ends, we should not see NAs any more.\n",
    "common_na_genes <- apply(gene_level_data_hg38, 2, FUN = function(x) length(x[is.na(x)])) %>% .[order(-.)]\n",
    "\n",
    "position_annotated_nas <- allENTREZG %>%\n",
    "  mutate(SYMBOL_ID=paste0(SYMBOL, ' (', EGID, ')')) %>%\n",
    "  mutate(total_nas=common_na_genes[SYMBOL_ID]) %>%\n",
    "  # filter(total_nas > 1) %>%\n",
    "  arrange(-total_nas)\n",
    "\n",
    "# ggplot(position_annotated_nas, aes(CHRLOC, total_nas)) +\n",
    "#   geom_point() +\n",
    "#   facet_wrap(~CHR)"
   ]
  },
  {
   "cell_type": "markdown",
   "metadata": {},
   "source": [
    "### Broad WES"
   ]
  },
  {
   "cell_type": "code",
   "execution_count": null,
   "metadata": {},
   "outputs": [],
   "source": [
    "# Split comparisons by source\n",
    "broad_wes_cls <- new_copy_number %>% filter(Source=='Broad WES') %$% unique(DepMap_ID)\n",
    "\n",
    "new_mat = gene_level_data_hg38\n",
    "old_mat = wes.priority.cn.gene.profiles\n",
    "cell_lines = broad_wes_cls\n",
    "genes_using = autosomal_genes \n",
    "\n",
    "# Compare gene level calls\n",
    "broad_wes_diffs <- gene_level_comparison_matrix_gen(\n",
    "  new_mat = new_mat, \n",
    "  old_mat = old_mat,\n",
    "  cell_lines = cell_lines,\n",
    "  genes_using = genes_using\n",
    ")\n",
    "\n",
    "# Look at the differences\n",
    "broad_cl_diffs <- data.frame(DepMap_ID=broad_wes_cls, stringsAsFactors = F) %>%\n",
    "  mutate(diff=broad_wes_diffs$cl[DepMap_ID]) %>%\n",
    "  mutate(case=case_when(\n",
    "    DepMap_ID %in% replaced_cell_lines ~ 'Replaced',\n",
    "    DepMap_ID %in% c('ACH-001957', 'ACH-001955', 'ACH-001956', 'ACH-002204', 'ACH-002335') ~ 'Chordoma',\n",
    "    TRUE ~ 'Other'\n",
    "  ))"
   ]
  },
  {
   "cell_type": "code",
   "execution_count": null,
   "metadata": {
    "hide_output": false
   },
   "outputs": [],
   "source": [
    "ggplot(broad_cl_diffs, aes(case, diff, fill=case)) +\n",
    "  geom_boxplot() +\n",
    "  geom_hline(yintercept = 0.025, linetype=2) +\n",
    "  ylab('Fraction gene level diff > 0.5') +\n",
    "  theme_Publication()"
   ]
  },
  {
   "cell_type": "code",
   "execution_count": null,
   "metadata": {},
   "outputs": [],
   "source": [
    "# 1. Chordomas look totally different with new pipeline so will want to do side by side\n",
    "# 2. Samples replaced look different -> makes sense since we are going from Sanger WES to Broad WES\n",
    "\n",
    "# Now let's see where the genes fall that are different (or all 0 differences, meaning, NA)\n",
    "# Join with coordinates\n",
    "broad_wes_diffs_locations <- allENTREZG %>% \n",
    "  mutate(SYMBOL_ID=paste0(SYMBOL, ' (', EGID, ')')) %>%\n",
    "  as.data.frame() %>%\n",
    "  mutate(d=broad_wes_diffs$gene[SYMBOL_ID])\n",
    "\n",
    "# ggplot(broad_wes_diffs_locations %>% filter(!is.na(d), d > 10), aes(CHRLOC, d)) +\n",
    "#   geom_point() +\n",
    "#   facet_wrap(~CHR, scales = 'free_x')\n",
    "\n",
    "gene_meds_old <- apply(old_mat, 2, FUN = function(x) mean(x, na.rm = T))\n",
    "gene_meds_new <- apply(new_mat, 2, FUN = function(x) mean(x, na.rm = T))\n",
    "\n",
    "broad_wes_diffs_locations %>%\n",
    "  filter(!is.na(d)) %>%\n",
    "  filter(d > 10) %>%\n",
    "  arrange(-d) %>%\n",
    "  mutate(med_old=gene_meds_old[paste0(SYMBOL, ' (', EGID, ')')]) %>%\n",
    "  mutate(med_new=gene_meds_new[paste0(SYMBOL, ' (', EGID, ')')])\n",
    "\n",
    "# Check individual genes here\n",
    "plot(log2(new_mat[overlapping_cell_lines,\"UGT2B17 (7367)\"]+1), log2(old_mat[overlapping_cell_lines, \"UGT2B17 (7367)\"]+1))"
   ]
  },
  {
   "cell_type": "markdown",
   "metadata": {},
   "source": [
    "### Chordoma WES"
   ]
  },
  {
   "cell_type": "code",
   "execution_count": null,
   "metadata": {},
   "outputs": [],
   "source": [
    "# Split comparisons by source\n",
    "chordoma_wes_cls <- c('ACH-001957', 'ACH-001955', 'ACH-001956', 'ACH-002204', 'ACH-002335')\n",
    "\n",
    "# Compare gene level calls\n",
    "chordoma_wes_diffs <- gene_level_comparison_matrix_gen(\n",
    "  new_mat = gene_level_data_hg38, \n",
    "  old_mat = wes.priority.cn.gene.profiles,\n",
    "  cell_lines = chordoma_wes_cls,\n",
    "  genes_using = autosomal_genes\n",
    ")\n",
    "\n",
    "# Look at the differences\n",
    "chordoma_cl_diffs <- data.frame(DepMap_ID=chordoma_wes_cls, stringsAsFactors = F) %>%\n",
    "  mutate(diff=chordoma_wes_diffs$cl[DepMap_ID]) %>%\n",
    "  mutate(case=case_when(\n",
    "    DepMap_ID %in% replaced_cell_lines ~ 'Replaced',\n",
    "    DepMap_ID %in% c('ACH-001957', 'ACH-001955', 'ACH-001956', 'ACH-002204', 'ACH-002335') ~ 'Chordoma',\n",
    "    TRUE ~ 'Other'\n",
    "  ))"
   ]
  },
  {
   "cell_type": "code",
   "execution_count": null,
   "metadata": {},
   "outputs": [],
   "source": [
    "# Now let's see where the genes fall that are different (or all 0 differences, meaning, NA)\n",
    "# Join with coordinates\n",
    "chordoma_wes_diffs_locations <- allENTREZG %>% \n",
    "  mutate(SYMBOL_ID=paste0(SYMBOL, ' (', EGID, ')')) %>%\n",
    "  as.data.frame() %>%\n",
    "  mutate(d=chordoma_wes_diffs$gene[SYMBOL_ID])\n",
    "\n",
    "chordoma_combined_segments <- rbind(\n",
    "  combined_new_prioritized_dataset %>% filter(DepMap_ID %in% chordoma_wes_cls) %>% mutate(Source='NEW_PIPELINE'),\n",
    "  wes.priority.cn.seg.profiles %>% filter(DepMap_ID %in% chordoma_wes_cls) %>% mutate(Source='OLD_PIPELINE')\n",
    ")"
   ]
  },
  {
   "cell_type": "code",
   "execution_count": null,
   "metadata": {},
   "outputs": [],
   "source": [
    "# Look fairly different although both pipeline outputs are incredibly noisy\n",
    "ggplot(chordoma_combined_segments %>% \n",
    "         mutate(Source=factor(Source)) %>%\n",
    "         mutate(cn=log2(Segment_Mean)) %>%\n",
    "         mutate(cn=ifelse(cn > 3, 3, ifelse(cn < -3, -3, cn))), \n",
    "       aes(xmin=Start, xmax=End, ymin=as.integer(Source), ymax=as.integer(Source)+1, fill=cn)) +\n",
    "  geom_rect() +\n",
    "  scale_fill_gradient2(low='blue', high='red', mid = 'white', midpoint=0) +\n",
    "  facet_wrap(~DepMap_ID)"
   ]
  },
  {
   "cell_type": "code",
   "execution_count": null,
   "metadata": {},
   "outputs": [],
   "source": [
    "chr_bp_hg38 <- read_tsv(hg38_cyto_band_reference, col_names = F) %>%\n",
    "  filter(X1 %in% paste0('chr', c(seq(1,22), 'X', 'Y'))) %>%\n",
    "  group_by(X1) %>% \n",
    "  dplyr::summarise(m=max(X3)) %$% \n",
    "  setNames(m, X1)\n",
    "chr_bp_sum <- cumsum(chr_bp_hg38[paste0('chr', c(seq(1,22), 'X', 'Y'))])\n",
    "new_chr_bp_sum <- chr_bp_sum[paste0('chr', c(seq(1,22), 'X'))]\n",
    "names(new_chr_bp_sum) <- paste0('chr', c(seq(2,22), 'X', 'Y'))\n",
    "new_chr_bp_sum['chr1'] <- 0"
   ]
  },
  {
   "cell_type": "code",
   "execution_count": null,
   "metadata": {
    "eval": false
   },
   "outputs": [],
   "source": [
    "# I was interested to see if the differenes in the Chordoma samples that we see was due to genome changes or \n",
    "# if the samples had always been very noisy when using our pipeline. It appears the samples had always been very noisy.\n",
    "chr_bp_hg19 <- read_tsv('~/Documents/Analysis/RScripts/Common_annotations/cytoBand.txt.gz', col_names = F) %>%\n",
    "  filter(X1 %in% paste0('chr', c(seq(1,22), 'X', 'Y'))) %>%\n",
    "  group_by(X1) %>% \n",
    "  dplyr::summarise(m=max(X3)) %$% \n",
    "  setNames(m, X1)\n",
    "chr_bp_sum_hg19 <- cumsum(chr_bp_hg19[paste0('chr', c(seq(1,22), 'X', 'Y'))])\n",
    "new_chr_bp_sum_h19 <- chr_bp_sum_hg19[paste0('chr', c(seq(1,22), 'X'))]\n",
    "names(new_chr_bp_sum_h19) <- paste0('chr', c(seq(2,22), 'X', 'Y'))\n",
    "new_chr_bp_sum_h19['chr1'] <- 0\n",
    "\n",
    "older_wes.priority.cn.seg.profiles <- load.from.taiga(data.name='segmented-cn-wes-prioritzed-7fe1', data.version=15, data.file='wes_priority_cn_seg_profiles') %>%\n",
    "  filter(Broad_ID %in% c('ACH-001957', 'ACH-001955', 'ACH-001956', 'ACH-002204', 'ACH-002335')) %>%\n",
    "  mutate(Chromosome=gsub('chr', '', Chromosome))\n",
    "\n",
    "ggplot(older_wes.priority.cn.seg.profiles %>%\n",
    "         mutate(sn=Start+new_chr_bp_sum_h19[paste0('chr', Chromosome)], en=End+new_chr_bp_sum_h19[paste0('chr', Chromosome)]) %>%\n",
    "         mutate(cn=log2(Segment_Mean)) %>%\n",
    "         mutate(cn=ifelse(cn > 3, 3, ifelse(cn < -3, -3, cn))), \n",
    "       aes(x=sn, xend=en, y=cn, yend=cn, color=Source)) +\n",
    "  geom_segment() +\n",
    "  facet_wrap(~CCLE_name) +\n",
    "  xlab('Position (bp)') +\n",
    "  theme(\n",
    "    axis.text.x = element_blank()\n",
    "  )\n",
    "\n",
    "same_chordoma_genes <- intersect(colnames(new_mat), colnames(old_mat)) %>% intersect(autosomal_genes)\n",
    "plot(log2(new_mat[chordoma_wes_cls[5],same_chordoma_genes]+1), log2(old_mat[chordoma_wes_cls[5],same_chordoma_genes]+1))"
   ]
  },
  {
   "cell_type": "code",
   "execution_count": null,
   "metadata": {},
   "outputs": [],
   "source": [
    "ggplot(chordoma_combined_segments %>%\n",
    "         mutate(sn=Start+new_chr_bp_sum[paste0('chr', Chromosome)], en=End+new_chr_bp_sum[paste0('chr', Chromosome)]) %>%\n",
    "         mutate(cn=log2(Segment_Mean)) %>%\n",
    "         mutate(cn=ifelse(cn > 3, 3, ifelse(cn < -3, -3, cn))), \n",
    "       aes(x=sn, xend=en, y=cn, yend=cn, color=Source)) +\n",
    "  geom_segment() +\n",
    "  facet_wrap(~DepMap_ID) +\n",
    "  xlab('Position (bp)') +\n",
    "  theme(\n",
    "    axis.text.x = element_blank()\n",
    "  )\n",
    "\n",
    "same_chordoma_genes <- intersect(colnames(new_mat), colnames(old_mat)) %>% intersect(autosomal_genes)\n",
    "plot(log2(new_mat[chordoma_wes_cls[5],same_chordoma_genes]+1), log2(old_mat[chordoma_wes_cls[5],same_chordoma_genes]+1))"
   ]
  },
  {
   "cell_type": "markdown",
   "metadata": {},
   "source": [
    "### Sanger WES"
   ]
  },
  {
   "cell_type": "code",
   "execution_count": null,
   "metadata": {},
   "outputs": [],
   "source": [
    "# Split comparisons by source\n",
    "sanger_wes_cls <- new_copy_number %>% filter(Source=='Sanger WES') %$% unique(DepMap_ID)\n",
    "\n",
    "# Compare gene level calls\n",
    "sanger_wes_diffs <- gene_level_comparison_matrix_gen(\n",
    "  new_mat = gene_level_data_hg38, \n",
    "  old_mat = wes.priority.cn.gene.profiles,\n",
    "  cell_lines = sanger_wes_cls,\n",
    "  genes_using = autosomal_genes\n",
    ")\n",
    "\n",
    "# Look at the differences\n",
    "sanger_cl_diffs <- data.frame(DepMap_ID=sanger_wes_cls, stringsAsFactors = F) %>%\n",
    "  mutate(diff=sanger_wes_diffs$cl[DepMap_ID]) %>%\n",
    "  mutate(r=rank(diff)) %>%\n",
    "  mutate(case=case_when(\n",
    "    DepMap_ID %in% replaced_cell_lines ~ 'Replaced',\n",
    "    grepl('MATCHED_NORMAL', arxspan.to.ccle(DepMap_ID)) ~ 'Normal', \n",
    "    # DepMap_ID %in% c('ACH-001957', 'ACH-001955', 'ACH-001956', 'ACH-002204', 'ACH-002335') ~ 'Chordoma',\n",
    "    TRUE ~ 'Other'\n",
    "  ))\n",
    "\n",
    "sanger_cl_diffs %>% arrange(-diff)\n",
    "\n",
    "ggplot(sanger_cl_diffs, aes(r, diff, color=case)) +\n",
    "  geom_point() +\n",
    "  geom_text_repel(data=sanger_cl_diffs %>% filter(case!='Normal', diff > 0.025), aes(label=arxspan.to.ccle(DepMap_ID))) +\n",
    "  geom_hline(yintercept = 0.025, linetype=2)\n",
    "\n",
    "# 1. Chordomas look totally different with new pipeline so will want to do side by side\n",
    "# 2. Samples replaced look different?\n",
    "\n",
    "# Now let's see where the genes fall that are different (or all 0 differences, meaning, NA)\n",
    "# Join with coordinates\n",
    "sanger_wes_diffs_locations <- allENTREZG %>% \n",
    "  mutate(SYMBOL_ID=paste0(SYMBOL, ' (', EGID, ')')) %>%\n",
    "  as.data.frame() %>%\n",
    "  mutate(d=sanger_wes_diffs$gene[SYMBOL_ID])\n",
    "\n",
    "# ggplot(sanger_wes_diffs_locations %>% filter(!is.na(d), d > 10), aes(CHRLOC, d)) +\n",
    "#   geom_point() +\n",
    "#   facet_wrap(~CHR, scales = 'free_x')\n",
    "\n",
    "sanger_wes_diffs_locations %>%\n",
    "  filter(!is.na(d)) %>%\n",
    "  filter(d > 10) %>%\n",
    "  arrange(-d)\n",
    "\n",
    "# Check individual genes here\n",
    "plot(log2((new_mat[overlapping_cell_lines,\"PMS2P1 (5379)\"]+1)), log2((old_mat[overlapping_cell_lines, \"PMS2P1 (5379)\"]+1)))\n",
    "plot(log2((new_mat[ccle.to.arxspan('FUOV1_OVARY'),overlapping_genes]+1)), log2((old_mat[ccle.to.arxspan('FUOV1_OVARY'),overlapping_genes]+1)))\n",
    "\n",
    "# Will want to do some follow up on this, as it looks like the PON is normalizing out some potentially true variation observed in the normal samples. However for cell lines, it seems to do a better job for denoising."
   ]
  },
  {
   "cell_type": "code",
   "execution_count": null,
   "metadata": {},
   "outputs": [],
   "source": [
    "# Compare the Sanger WES PON alignment vs. the Agilent PON alignment\n",
    "sanger_agilent_ice_pon_based_calls <- readr::read_tsv('~/Downloads/DM19Q2_COMPLETE.called.seg', col_types = cols(\n",
    "  Sample = col_character(), \n",
    "  CONTIG=col_character(), \n",
    "  START=col_double(), END=col_double(), \n",
    "  NUM_POINTS_COPY_RATIO=col_double(), MEAN_LOG2_COPY_RATIO=col_double(), \n",
    "  CALL=col_character()\n",
    ")) %>% dplyr::select(Sample, Chromosome=CONTIG, Start=START, End=END, Num_Probes=NUM_POINTS_COPY_RATIO, Segment_Mean=MEAN_LOG2_COPY_RATIO) %>%\n",
    "  dplyr::mutate(Source=ifelse(grepl('sanger', Sample), 'Sanger WES', ifelse(grepl('chordoma', Sample), 'Chordoma WES', 'Broad WES'))) %>%\n",
    "  # We only keep the X calls from here \n",
    "  filter(Source=='Sanger WES') %>%\n",
    "  mutate(DepMap_ID=stringr::str_extract(pattern='ACH\\\\-[0-9]+', string=Sample)) %>%\n",
    "  dplyr::select(-Sample) %>% mutate(Chromosome=gsub('chr', '', Chromosome))\n",
    "\n",
    "# To avoid the wait, take a sample of the sanger samples and all the normals\n",
    "sanger_evaluate_pon_samples <- segments_gaps_filled %>% filter(Source=='Sanger WES') %$% sample(DepMap_ID, size = 60)\n",
    "# sanger_evaluate_pon_samples %<>% c(., (segments_gaps_filled %>% filter(grepl('MATCHED_NORMAL', arxspan.to.ccle(DepMap_ID))) %$% DepMap_ID)) %>% unique()\n",
    "\n",
    "sanger_agilent_ice_pon_based_calls <- interpolate_gaps_in_segmented(segment_file = sanger_agilent_ice_pon_based_calls %>% filter(DepMap_ID %in% sanger_evaluate_pon_samples))$segs\n",
    "sanger_agilent_ice_pon_based_calls %<>% extend_ends_of_segments(.)\n",
    "sanger_agilent_pon_gene <- generate_gene_level_matrix_from_segments(gene_mapping = allENTREZG, segments = sanger_agilent_ice_pon_based_calls)\n",
    "\n",
    "new_mat = gene_level_data_hg38\n",
    "old_mat = sanger_agilent_pon_gene %>%\n",
    "  dplyr::mutate(rn=paste0(SYMBOL, ' (', EGID, ')')) %>%\n",
    "  dplyr::select(c('rn', colnames(.)[grep('ACH\\\\-[0-9]+', colnames(.))])) %>%\n",
    "  column_to_rownames(var='rn') %>% t()\n",
    "old_mat <- 2^old_mat\n",
    "cell_lines = sanger_evaluate_pon_samples\n",
    "genes_using = autosomal_genes \n",
    "\n",
    "# Compare gene level calls\n",
    "sanger_pon_wes_diffs <- gene_level_comparison_matrix_gen(\n",
    "  new_mat = new_mat, \n",
    "  old_mat = old_mat,\n",
    "  cell_lines = cell_lines,\n",
    "  genes_using = genes_using\n",
    ")\n",
    "\n",
    "# Look at the differences\n",
    "sanger_pon_cl_diffs <- data.frame(DepMap_ID=sanger_evaluate_pon_samples, stringsAsFactors = F) %>%\n",
    "  mutate(diff=sanger_pon_wes_diffs$cl[DepMap_ID]) %>%\n",
    "  mutate(r=rank(diff)) %>%\n",
    "  mutate(case=case_when(\n",
    "    DepMap_ID %in% replaced_cell_lines ~ 'Replaced',\n",
    "    grepl('MATCHED_NORMAL', arxspan.to.ccle(DepMap_ID)) ~ 'Normal', \n",
    "    # DepMap_ID %in% c('ACH-001957', 'ACH-001955', 'ACH-001956', 'ACH-002204', 'ACH-002335') ~ 'Chordoma',\n",
    "    TRUE ~ 'Other'\n",
    "  ))\n",
    "\n",
    "ggplot(sanger_pon_cl_diffs, aes(r, diff, color=case)) +\n",
    "  geom_point() +\n",
    "  geom_text_repel(data=sanger_pon_cl_diffs %>% filter(case!='Normal', diff > 0.025), aes(label=arxspan.to.ccle(DepMap_ID))) +\n",
    "  geom_hline(yintercept = 0.025, linetype=2)\n",
    "\n",
    "# 1. Chordomas look totally different with new pipeline so will want to do side by side\n",
    "# 2. Samples replaced look different?\n",
    "\n",
    "# Now let's see where the genes fall that are different (or all 0 differences, meaning, NA)\n",
    "# Join with coordinates\n",
    "sanger_pon_wes_diffs_locations <- allENTREZG %>% \n",
    "  mutate(SYMBOL_ID=paste0(SYMBOL, ' (', EGID, ')')) %>%\n",
    "  as.data.frame() %>%\n",
    "  mutate(d=sanger_pon_wes_diffs$gene[SYMBOL_ID])\n",
    "\n",
    "# ggplot(sanger_pon_wes_diffs_locations %>% filter(!is.na(d), d > 10), aes(CHRLOC, d)) +\n",
    "#   geom_point() +\n",
    "#   facet_wrap(~CHR, scales = 'free_x')\n",
    "\n",
    "gene_meds_old <- apply(old_mat, 2, FUN = function(x) mean(x, na.rm = T))\n",
    "gene_meds_new <- apply(new_mat, 2, FUN = function(x) mean(x, na.rm = T))\n",
    "\n",
    "sanger_pon_wes_diffs_locations %<>% filter(!is.na(d)) %>%\n",
    "  # filter(d > 10) %>%\n",
    "  arrange(-d) %>%\n",
    "  mutate(med_old=gene_meds_old[paste0(SYMBOL, ' (', EGID, ')')]) %>%\n",
    "  mutate(med_new=gene_meds_new[paste0(SYMBOL, ' (', EGID, ')')])\n",
    "\n",
    "sanger_pon_wes_diffs_locations %>% \n",
    "  filter(d > 10)\n",
    "\n",
    "ggplot(sanger_pon_wes_diffs_locations, aes(med_old, med_new)) +\n",
    "  geom_point()\n",
    "\n",
    "# Check individual genes here\n",
    "plot(log2((new_mat[sanger_evaluate_pon_samples,\"TOP2A (7153)\"])), log2((old_mat[sanger_evaluate_pon_samples,\"TOP2A (7153)\"])))\n",
    "plot(log2((new_mat[ccle.to.arxspan('FUOV1_OVARY'),overlapping_genes])), log2((old_mat[ccle.to.arxspan('FUOV1_OVARY'),overlapping_genes])))\n"
   ]
  },
  {
   "cell_type": "markdown",
   "metadata": {},
   "source": [
    "### SNP"
   ]
  },
  {
   "cell_type": "code",
   "execution_count": null,
   "metadata": {},
   "outputs": [],
   "source": [
    "# Split comparisons by source\n",
    "broad_snp_cls <- combined_new_prioritized_dataset %>% filter(Source=='Broad SNP') %$% unique(DepMap_ID)\n",
    "\n",
    "new_mat = gene_level_data_hg38\n",
    "old_mat = wes.priority.cn.gene.profiles\n",
    "cell_lines = broad_snp_cls\n",
    "genes_using = autosomal_genes\n",
    "\n",
    "# Compare gene level calls\n",
    "broad_snp_diffs <- gene_level_comparison_matrix_gen(\n",
    "  new_mat = gene_level_data_hg38, \n",
    "  old_mat = wes.priority.cn.gene.profiles,\n",
    "  cell_lines = broad_snp_cls,\n",
    "  genes_using = autosomal_genes\n",
    ")\n",
    "\n",
    "# Look at the differences\n",
    "snp_broad_cl_diffs <- data.frame(DepMap_ID=broad_snp_cls, stringsAsFactors = F) %>%\n",
    "  mutate(diff=broad_snp_diffs$cl[DepMap_ID]) %>%\n",
    "  mutate(case=case_when(\n",
    "    DepMap_ID %in% replaced_cell_lines ~ 'Replaced',\n",
    "    DepMap_ID %in% c('ACH-001957', 'ACH-001955', 'ACH-001956', 'ACH-002204', 'ACH-002335') ~ 'Chordoma',\n",
    "    TRUE ~ 'Other'\n",
    "  ))\n",
    "\n",
    "ggplot(snp_broad_cl_diffs, aes(case, diff, fill=case)) +\n",
    "  geom_boxplot() +\n",
    "  geom_hline(yintercept = 0.025, linetype=2)\n",
    "\n",
    "# 1. Chordomas look totally different with new pipeline so will want to do side by side\n",
    "# 2. Samples replaced look different?\n",
    "\n",
    "# Now let's see where the genes fall that are different (or all 0 differences, meaning, NA)\n",
    "# Join with coordinates\n",
    "broad_snp_diffs_locations <- allENTREZG %>% \n",
    "  mutate(SYMBOL_ID=paste0(SYMBOL, ' (', EGID, ')')) %>%\n",
    "  as.data.frame() %>%\n",
    "  mutate(d=broad_snp_diffs$gene[SYMBOL_ID])"
   ]
  },
  {
   "cell_type": "code",
   "execution_count": null,
   "metadata": {},
   "outputs": [],
   "source": [
    "ggplot(broad_snp_diffs_locations %>% filter(!is.na(d), d > 10), aes(CHRLOC, d)) +\n",
    "  geom_point() +\n",
    "  facet_wrap(~CHR, scales = 'free_x')"
   ]
  },
  {
   "cell_type": "code",
   "execution_count": null,
   "metadata": {},
   "outputs": [],
   "source": [
    "gene_meds_old <- apply(old_mat, 2, FUN = function(x) mean(x, na.rm = T))\n",
    "gene_meds_new <- apply(new_mat, 2, FUN = function(x) mean(x, na.rm = T))\n",
    "\n",
    "broad_snp_diffs_locations %>%\n",
    "  filter(!is.na(d)) %>%\n",
    "  filter(d > 10) %>%\n",
    "  arrange(-d) %>%\n",
    "  mutate(med_old=gene_meds_old[paste0(SYMBOL, ' (', EGID, ')')]) %>%\n",
    "  mutate(med_new=gene_meds_new[paste0(SYMBOL, ' (', EGID, ')')])\n",
    "\n",
    "# Check individual genes here\n",
    "plot(log2(new_mat[cell_lines,\"CDKN2B (1030)\"]+1), log2(old_mat[cell_lines, \"CDKN2B (1030)\"]+1))"
   ]
  },
  {
   "cell_type": "code",
   "execution_count": null,
   "metadata": {
    "eval": false
   },
   "outputs": [],
   "source": [
    "# Test download of the uploaded data\n",
    "CCLE.internal.19q2.segmented.cn <- load.from.taiga(data.name='segmented-cn-wes-prioritzed-7fe1', data.version=22, data.file='CCLE_internal_19q2_segmented_cn')\n",
    "CCLE.internal.19q2.gene.cn <- load.from.taiga(data.name='segmented-cn-wes-prioritzed-7fe1', data.version=22, data.file='CCLE_internal_19q2_gene_cn')"
   ]
  }
 ],
 "metadata": {
  "jupytext": {
   "formats": "ipynb,Rmd"
  },
  "kernelspec": {
   "display_name": "Python 3",
   "language": "python",
   "name": "python3"
  },
  "language_info": {
   "codemirror_mode": {
    "name": "ipython",
    "version": 3
   },
   "file_extension": ".py",
   "mimetype": "text/x-python",
   "name": "python",
   "nbconvert_exporter": "python",
   "pygments_lexer": "ipython3",
   "version": "3.7.3"
  }
 },
 "nbformat": 4,
 "nbformat_minor": 2
}
