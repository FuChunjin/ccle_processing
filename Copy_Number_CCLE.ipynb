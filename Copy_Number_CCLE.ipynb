{
 "cells": [
  {
   "cell_type": "markdown",
   "metadata": {},
   "source": [
    "# Copy Number Pipeline"
   ]
  },
  {
   "cell_type": "code",
   "execution_count": 1,
   "metadata": {},
   "outputs": [],
   "source": [
    "from __future__ import print_function\n",
    "import os.path\n",
    "import dalmatian as dm\n",
    "import pandas as pd\n",
    "import sys\n",
    "sys.path.insert(0, '../JKBio/')\n",
    "import TerraFunction as terra\n",
    "%load_ext autoreload\n",
    "%autoreload 2"
   ]
  },
  {
   "cell_type": "code",
   "execution_count": 11,
   "metadata": {},
   "outputs": [],
   "source": [
    "namespace=\"broad-genomics-delivery\"\n",
    "workspace=\"Getz_IBM_CellLines_Exomes\"\n",
    "refnamespace=\"broad-firecloud-ccle\"\n",
    "refworkspace=\"DepMap_WES_CN_HG38\"\n",
    "source=\"ibm\"\n",
    "sample_set_id = \"19Q3interim\""
   ]
  },
  {
   "cell_type": "code",
   "execution_count": 3,
   "metadata": {},
   "outputs": [],
   "source": [
    "wm = dm.WorkspaceManager(namespace, workspace)\n",
    "refwm = dm.WorkspaceManager(refnamespace, refworkspace)"
   ]
  },
  {
   "cell_type": "code",
   "execution_count": 79,
   "metadata": {},
   "outputs": [
    {
     "name": "stdout",
     "output_type": "stream",
     "text": [
      "Successfully imported 1 sample sets:\n",
      "  * CCLE_19Q3interim (13 samples)\n"
     ]
    }
   ],
   "source": [
    "CreateDatasetWithNewCellLines(wm,refwm)"
   ]
  },
  {
   "cell_type": "markdown",
   "metadata": {},
   "source": [
    "# ReaLign in HG38"
   ]
  },
  {
   "cell_type": "code",
   "execution_count": 46,
   "metadata": {},
   "outputs": [
    {
     "data": {
      "text/plain": [
       "<dalmatian.wmanager.WorkspaceManager broad-firecloud-ccle/DepMap_WES_CN_HG38>"
      ]
     },
     "execution_count": 46,
     "metadata": {},
     "output_type": "execute_result"
    }
   ],
   "source": [
    "bamtoubam= \"BamToUnmappedRGBams_MC\"\n",
    "ubamtofilelist = \"Generate_uBAM_File_List\"\n",
    "realign=\"Realign_WES_GATK4\""
   ]
  },
  {
   "cell_type": "code",
   "execution_count": 62,
   "metadata": {},
   "outputs": [
    {
     "data": {
      "text/plain": [
       "{'deleted': False,\n",
       " 'inputs': {'BamToUnmappedRGBamsWf.input_bam': 'this.WES_bam',\n",
       "  'BamToUnmappedRGBamsWf.preemptible_tries': '3',\n",
       "  'BamToUnmappedRGBamsWf.ValidateSamFile.java_opt': '\"-Xmx3000m\"',\n",
       "  'BamToUnmappedRGBamsWf.picard_docker': '\"broadinstitute/genomes-in-the-cloud:2.3.1-1504795437\"',\n",
       "  'BamToUnmappedRGBamsWf.ref_fasta_index': 'workspace.ref_fasta_fai',\n",
       "  'BamToUnmappedRGBamsWf.RevertBamToUnmappedRGBams.disk_size': '400',\n",
       "  'BamToUnmappedRGBamsWf.SortBamByQueryname.mem_size': '\"3500 MB\"',\n",
       "  'BamToUnmappedRGBamsWf.RevertBamToUnmappedRGBams.mem_size': '\"3000 MB\"',\n",
       "  'BamToUnmappedRGBamsWf.RevertBamToUnmappedRGBams.output_dir': '\".\"',\n",
       "  'BamToUnmappedRGBamsWf.SortBamByQueryname.disk_size': '400',\n",
       "  'BamToUnmappedRGBamsWf.RevertBamToUnmappedRGBams.java_opt': '\"-Xmx1200m\"',\n",
       "  'BamToUnmappedRGBamsWf.picard_path': '\"/usr/gitc/\"',\n",
       "  'BamToUnmappedRGBamsWf.SortBamByQueryname.java_opt': '\"-Xmx3000m\"',\n",
       "  'BamToUnmappedRGBamsWf.ref_fasta': 'workspace.ref_fasta',\n",
       "  'BamToUnmappedRGBamsWf.ValidateSamFile.mem_size': '\"3500 MB\"',\n",
       "  'BamToUnmappedRGBamsWf.ValidateSamFile.disk_size': '400'},\n",
       " 'methodConfigVersion': 2,\n",
       " 'methodRepoMethod': {'methodName': 'BamToUnmappedRGBams',\n",
       "  'methodVersion': 3,\n",
       "  'methodNamespace': 'vdauwera',\n",
       "  'methodUri': 'agora://vdauwera/BamToUnmappedRGBams/3',\n",
       "  'sourceRepo': 'agora'},\n",
       " 'name': 'BamToUnmappedRGBams_MC',\n",
       " 'namespace': 'vdauwera',\n",
       " 'outputs': {'BamToUnmappedRGBamsWf.sortsam_out': 'this.readgroup_ubams',\n",
       "  'BamToUnmappedRGBamsWf.validatesam_out': 'this.ubam_validation_reports'},\n",
       " 'prerequisites': {},\n",
       " 'rootEntityType': 'sample'}"
      ]
     },
     "execution_count": 62,
     "metadata": {},
     "output_type": "execute_result"
    }
   ],
   "source": [
    "bamtoubam = refwm.get_config(bamtoubam)\n",
    "bamtoubam"
   ]
  },
  {
   "cell_type": "code",
   "execution_count": 66,
   "metadata": {},
   "outputs": [
    {
     "name": "stdout",
     "output_type": "stream",
     "text": [
      "Successfully updated configuration vdauwera/BamToUnmappedRGBams_MC\n",
      "Successfully created submission dc4a91ca-571f-4966-8378-a6956bf6c01b.\n"
     ]
    }
   ],
   "source": [
    "refwm.update_config(bamtoubam)\n",
    "subid = refwm.create_submission(bamtoubam['name'],sample_set_id,\"sample_set\",\"this.samples\")"
   ]
  },
  {
   "cell_type": "code",
   "execution_count": null,
   "metadata": {},
   "outputs": [],
   "source": [
    "terra.wait_for_submission(subid)"
   ]
  },
  {
   "cell_type": "code",
   "execution_count": 71,
   "metadata": {},
   "outputs": [
    {
     "data": {
      "text/plain": [
       "{'deleted': False,\n",
       " 'inputs': {'ArrayToTxt_workflow.CreateTxt.array_of_files': 'this.readgroup_ubams',\n",
       "  'ArrayToTxt_workflow.CreateTxt.list_name': 'this.name'},\n",
       " 'methodConfigVersion': 1,\n",
       " 'methodRepoMethod': {'methodName': 'ArrayOfFilesToTxt',\n",
       "  'methodVersion': 1,\n",
       "  'methodNamespace': 'gkugener',\n",
       "  'methodUri': 'agora://gkugener/ArrayOfFilesToTxt/1',\n",
       "  'sourceRepo': 'agora'},\n",
       " 'name': 'Generate_uBAM_File_List',\n",
       " 'namespace': 'gkugener',\n",
       " 'outputs': {'ArrayToTxt_workflow.CreateTxt.file_list_name': 'this.unmapped_bams_list'},\n",
       " 'prerequisites': {},\n",
       " 'rootEntityType': 'sample'}"
      ]
     },
     "execution_count": 71,
     "metadata": {},
     "output_type": "execute_result"
    }
   ],
   "source": [
    "ubamtofilelist = refwm.get_config(ubamtofilelist)\n",
    "ubamtofilelist"
   ]
  },
  {
   "cell_type": "code",
   "execution_count": 73,
   "metadata": {},
   "outputs": [
    {
     "name": "stdout",
     "output_type": "stream",
     "text": [
      "Successfully updated configuration gkugener/Generate_uBAM_File_List\n",
      "Successfully created submission 6482067a-00c8-43b4-859c-a469917f4a56.\n"
     ]
    }
   ],
   "source": [
    "refwm.update_config(ubamtofilelist)\n",
    "subid = refwm.create_submission(ubamtofilelist['name'],sample_set_id,\"sample_set\",\"this.samples\")"
   ]
  },
  {
   "cell_type": "code",
   "execution_count": 80,
   "metadata": {},
   "outputs": [
    {
     "ename": "TypeError",
     "evalue": "wait_for_submission() takes 1 positional argument but 2 were given",
     "output_type": "error",
     "traceback": [
      "\u001b[0;31m---------------------------------------------------------------------------\u001b[0m",
      "\u001b[0;31mTypeError\u001b[0m                                 Traceback (most recent call last)",
      "\u001b[0;32m<ipython-input-80-e3db7e71f724>\u001b[0m in \u001b[0;36m<module>\u001b[0;34m()\u001b[0m\n\u001b[0;32m----> 1\u001b[0;31m \u001b[0mterra\u001b[0m\u001b[0;34m.\u001b[0m\u001b[0mwait_for_submission\u001b[0m\u001b[0;34m(\u001b[0m\u001b[0mrefwm\u001b[0m\u001b[0;34m,\u001b[0m \u001b[0msubid\u001b[0m\u001b[0;34m)\u001b[0m\u001b[0;34m\u001b[0m\u001b[0;34m\u001b[0m\u001b[0m\n\u001b[0m",
      "\u001b[0;31mTypeError\u001b[0m: wait_for_submission() takes 1 positional argument but 2 were given"
     ]
    }
   ],
   "source": [
    "terra.wait_for_submission(refwm, subid)"
   ]
  },
  {
   "cell_type": "code",
   "execution_count": 93,
   "metadata": {
    "scrolled": true
   },
   "outputs": [
    {
     "data": {
      "text/plain": [
       "{'deleted': False,\n",
       " 'inputs': {'PreProcessingForVariantDiscovery_GATK4.dbSNP_vcf': 'workspace.dbsnp_138',\n",
       "  'PreProcessingForVariantDiscovery_GATK4.gatk_launch_path': '\"/gatk/\"',\n",
       "  'PreProcessingForVariantDiscovery_GATK4.SamToFastqAndBwaMem.ref_amb': 'workspace.ref_bwa_amb',\n",
       "  'PreProcessingForVariantDiscovery_GATK4.agg_preemptible_tries': '3',\n",
       "  'PreProcessingForVariantDiscovery_GATK4.ref_fasta_index': 'workspace.ref_fasta_fai',\n",
       "  'PreProcessingForVariantDiscovery_GATK4.GetBwaVersion.mem_size': '\"1 GB\"',\n",
       "  'PreProcessingForVariantDiscovery_GATK4.unmapped_bam_suffix': '\".bam\"',\n",
       "  'PreProcessingForVariantDiscovery_GATK4.ref_dict': 'workspace.ref_dict',\n",
       "  'PreProcessingForVariantDiscovery_GATK4.SortAndFixTags.java_opt_sort': '\"-Xms4000m\"',\n",
       "  'PreProcessingForVariantDiscovery_GATK4.gotc_docker': '\"broadinstitute/genomes-in-the-cloud:2.3.0-1501082129\"',\n",
       "  'PreProcessingForVariantDiscovery_GATK4.picard_docker': '\"broadinstitute/genomes-in-the-cloud:2.3.0-1501082129\"',\n",
       "  'PreProcessingForVariantDiscovery_GATK4.BaseRecalibrator.java_opt': '\"-Xms4000m\"',\n",
       "  'PreProcessingForVariantDiscovery_GATK4.agg_medium_disk': '300',\n",
       "  'PreProcessingForVariantDiscovery_GATK4.GatherBamFiles.mem_size': '\"3 GB\"',\n",
       "  'PreProcessingForVariantDiscovery_GATK4.dbSNP_vcf_index': 'workspace.dbsnp_138_idx',\n",
       "  'PreProcessingForVariantDiscovery_GATK4.SamToFastqAndBwaMem.mem_size': '\"14 GB\"',\n",
       "  'PreProcessingForVariantDiscovery_GATK4.picard_path': '\"/usr/gitc/\"',\n",
       "  'PreProcessingForVariantDiscovery_GATK4.ApplyBQSR.java_opt': '\"-Xms3000m\"',\n",
       "  'PreProcessingForVariantDiscovery_GATK4.SortAndFixTags.java_opt_fix': '\"-Xms500m\"',\n",
       "  'PreProcessingForVariantDiscovery_GATK4.gatk_docker': '\"broadinstitute/gatk:4.beta.3\"',\n",
       "  'PreProcessingForVariantDiscovery_GATK4.flowcell_unmapped_bams_list': 'this.unmapped_bams_list',\n",
       "  'PreProcessingForVariantDiscovery_GATK4.sample_name': 'this.sample_id',\n",
       "  'PreProcessingForVariantDiscovery_GATK4.SamToFastqAndBwaMem.ref_alt': 'workspace.ref_bwa_alt',\n",
       "  'PreProcessingForVariantDiscovery_GATK4.SortAndFixTags.mem_size': '\"5000 MB\"',\n",
       "  'PreProcessingForVariantDiscovery_GATK4.SamToFastqAndBwaMem.num_cpu': '\"16\"',\n",
       "  'PreProcessingForVariantDiscovery_GATK4.agg_large_disk': '400',\n",
       "  'PreProcessingForVariantDiscovery_GATK4.agg_small_disk': '200',\n",
       "  'PreProcessingForVariantDiscovery_GATK4.GatherBqsrReports.java_opt': '\"-Xms3000m\"',\n",
       "  'PreProcessingForVariantDiscovery_GATK4.MergeBamAlignment.mem_size': '\"3500 MB\"',\n",
       "  'PreProcessingForVariantDiscovery_GATK4.compression_level': '5',\n",
       "  'PreProcessingForVariantDiscovery_GATK4.CreateSequenceGroupingTSV.mem_size': '\"2 GB\"',\n",
       "  'PreProcessingForVariantDiscovery_GATK4.ref_name': 'workspace.ref_name',\n",
       "  'PreProcessingForVariantDiscovery_GATK4.bwa_commandline': '\"bwa mem -K 100000000 -p -v 3 -t 16 -Y $bash_ref_fasta\"',\n",
       "  'PreProcessingForVariantDiscovery_GATK4.MergeBamAlignment.java_opt': '\"-Xms3000m\"',\n",
       "  'PreProcessingForVariantDiscovery_GATK4.ref_fasta': 'workspace.ref_fasta',\n",
       "  'PreProcessingForVariantDiscovery_GATK4.GatherBqsrReports.mem_size': '\"3500 MB\"',\n",
       "  'PreProcessingForVariantDiscovery_GATK4.flowcell_medium_disk': '200',\n",
       "  'PreProcessingForVariantDiscovery_GATK4.MarkDuplicates.mem_size': '\"7 GB\"',\n",
       "  'PreProcessingForVariantDiscovery_GATK4.flowcell_small_disk': '100',\n",
       "  'PreProcessingForVariantDiscovery_GATK4.SamToFastqAndBwaMem.java_opt': '\"-Xms3000m\"',\n",
       "  'PreProcessingForVariantDiscovery_GATK4.known_indels_sites_VCFs': 'workspace.known_indels_array',\n",
       "  'PreProcessingForVariantDiscovery_GATK4.ApplyBQSR.mem_size': '\"3500 MB\"',\n",
       "  'PreProcessingForVariantDiscovery_GATK4.known_indels_sites_indices': 'workspace.known_indels_idx_array',\n",
       "  'PreProcessingForVariantDiscovery_GATK4.BaseRecalibrator.mem_size': '\"6 GB\"',\n",
       "  'PreProcessingForVariantDiscovery_GATK4.preemptible_tries': '3',\n",
       "  'PreProcessingForVariantDiscovery_GATK4.SamToFastqAndBwaMem.ref_sa': 'workspace.ref_bwa_sa',\n",
       "  'PreProcessingForVariantDiscovery_GATK4.GatherBamFiles.java_opt': '\"-Xms2000m\"',\n",
       "  'PreProcessingForVariantDiscovery_GATK4.python_docker': '\"python:2.7\"',\n",
       "  'PreProcessingForVariantDiscovery_GATK4.SamToFastqAndBwaMem.ref_ann': 'workspace.ref_bwa_ann',\n",
       "  'PreProcessingForVariantDiscovery_GATK4.MarkDuplicates.java_opt': '\"-Xms4000m\"',\n",
       "  'PreProcessingForVariantDiscovery_GATK4.gotc_path': '\"/usr/gitc/\"',\n",
       "  'PreProcessingForVariantDiscovery_GATK4.SamToFastqAndBwaMem.ref_bwt': 'workspace.ref_bwa_bwt',\n",
       "  'PreProcessingForVariantDiscovery_GATK4.SamToFastqAndBwaMem.ref_pac': 'workspace.ref_bwa_pac'},\n",
       " 'methodConfigVersion': 1,\n",
       " 'methodRepoMethod': {'methodName': 'PreProcessingForVariantDiscovery_GATK4',\n",
       "  'methodVersion': 7,\n",
       "  'methodNamespace': 'gatk',\n",
       "  'methodUri': 'agora://gatk/PreProcessingForVariantDiscovery_GATK4/7',\n",
       "  'sourceRepo': 'agora'},\n",
       " 'name': 'Realign_WES_GATK4',\n",
       " 'namespace': 'gatk',\n",
       " 'outputs': {'PreProcessingForVariantDiscovery_GATK4.bqsr_report': 'this.hg38_bqsr_report',\n",
       "  'PreProcessingForVariantDiscovery_GATK4.duplication_metrics': 'this.hg38_duplication_metrics',\n",
       "  'PreProcessingForVariantDiscovery_GATK4.analysis_ready_bam_md5': 'this.hg38_analysis_ready_bam_md5',\n",
       "  'PreProcessingForVariantDiscovery_GATK4.analysis_ready_bam': 'this.hg38_analysis_ready_bam',\n",
       "  'PreProcessingForVariantDiscovery_GATK4.analysis_ready_bam_index': 'this.hg38_analysis_ready_bam_index'},\n",
       " 'prerequisites': {},\n",
       " 'rootEntityType': 'sample'}"
      ]
     },
     "execution_count": 93,
     "metadata": {},
     "output_type": "execute_result"
    }
   ],
   "source": [
    "realign = refwm.get_config(realign)\n",
    "realign"
   ]
  },
  {
   "cell_type": "code",
   "execution_count": 94,
   "metadata": {
    "scrolled": true
   },
   "outputs": [
    {
     "name": "stdout",
     "output_type": "stream",
     "text": [
      "Successfully updated configuration gatk/Realign_WES_GATK4\n",
      "Successfully created submission 5d172f35-8df7-4bba-acc8-c54efaf4e563.\n"
     ]
    }
   ],
   "source": [
    "refwm.update_config(realign)\n",
    "subid = refwm.create_submission(realign['name'],sample_set_id,\"sample_set\",\"this.samples\")"
   ]
  },
  {
   "cell_type": "code",
   "execution_count": null,
   "metadata": {},
   "outputs": [],
   "source": [
    "terra.wait_for_submission(refwm, subid)"
   ]
  },
  {
   "cell_type": "code",
   "execution_count": 5,
   "metadata": {},
   "outputs": [
    {
     "data": {
      "text/plain": [
       "{'deleted': False,\n",
       " 'inputs': {'CNVSomaticPairWorkflow.preemptible_attempts': '5',\n",
       "  'CNVSomaticPairWorkflow.oncotator_docker': '',\n",
       "  'CNVSomaticPairWorkflow.mem_gb_for_call_copy_ratio_segments': '',\n",
       "  'CNVSomaticPairWorkflow.num_smoothing_iterations_per_fit': '',\n",
       "  'CNVSomaticPairWorkflow.ModelSegmentsNormal.output_dir': '',\n",
       "  'CNVSomaticPairWorkflow.PlotModeledSegmentsTumor.output_dir': '',\n",
       "  'CNVSomaticPairWorkflow.calling_copy_ratio_z_score_threshold': '',\n",
       "  'CNVSomaticPairWorkflow.minor_allele_fraction_prior_alpha': '',\n",
       "  'CNVSomaticPairWorkflow.ModelSegmentsTumor.output_dir': '',\n",
       "  'CNVSomaticPairWorkflow.gatk_docker': 'workspace.gatk_docker',\n",
       "  'CNVSomaticPairWorkflow.num_changepoints_penalty_factor': '',\n",
       "  'CNVSomaticPairWorkflow.common_sites': 'workspace.common_sites_hg38',\n",
       "  'CNVSomaticPairWorkflow.tumor_bam_idx': 'this.WES_bai',\n",
       "  'CNVSomaticPairWorkflow.PlotModeledSegmentsNormal.cpu': '',\n",
       "  'CNVSomaticPairWorkflow.mem_gb_for_oncotator': '',\n",
       "  'CNVSomaticPairWorkflow.neutral_segment_copy_ratio_upper_bound': '',\n",
       "  'CNVSomaticPairWorkflow.minimum_base_quality': '',\n",
       "  'CNVSomaticPairWorkflow.mem_gb_for_denoise_read_counts': '',\n",
       "  'CNVSomaticPairWorkflow.genotyping_base_error_rate': '',\n",
       "  'CNVSomaticPairWorkflow.emergency_extra_disk': '',\n",
       "  'CNVSomaticPairWorkflow.ModelSegmentsNormal.cpu': '',\n",
       "  'CNVSomaticPairWorkflow.CallCopyRatioSegmentsTumor.cpu': '',\n",
       "  'CNVSomaticPairWorkflow.ModelSegmentsNormal.normal_allelic_counts': '',\n",
       "  'CNVSomaticPairWorkflow.PlotModeledSegmentsNormal.output_dir': '',\n",
       "  'CNVSomaticPairWorkflow.ref_fasta_fai': 'workspace.ref_fasta_fai',\n",
       "  'CNVSomaticPairWorkflow.CollectCountsTumor.cpu': '',\n",
       "  'CNVSomaticPairWorkflow.kernel_approximation_dimension': '',\n",
       "  'CNVSomaticPairWorkflow.outlier_neutral_segment_copy_ratio_z_score_threshold': '',\n",
       "  'CNVSomaticPairWorkflow.kernel_variance_copy_ratio': '',\n",
       "  'CNVSomaticPairWorkflow.additional_args_for_oncotator': '',\n",
       "  'CNVSomaticPairWorkflow.format': '',\n",
       "  'CNVSomaticPairWorkflow.mem_gb_for_model_segments': '',\n",
       "  'CNVSomaticPairWorkflow.mem_gb_for_plotting': '',\n",
       "  'CNVSomaticPairWorkflow.min_total_allele_count': '',\n",
       "  'CNVSomaticPairWorkflow.ref_fasta': 'workspace.ref_fasta',\n",
       "  'CNVSomaticPairWorkflow.num_burn_in_allele_fraction': '',\n",
       "  'CNVSomaticPairWorkflow.smoothing_threshold_allele_fraction': '',\n",
       "  'CNVSomaticPairWorkflow.ModelSegmentsTumor.cpu': '',\n",
       "  'CNVSomaticPairWorkflow.mem_gb_for_collect_counts': '',\n",
       "  'CNVSomaticPairWorkflow.ref_fasta_dict': 'workspace.ref_dict',\n",
       "  'CNVSomaticPairWorkflow.minimum_contig_length': '',\n",
       "  'CNVSomaticPairWorkflow.smoothing_threshold_copy_ratio': '',\n",
       "  'CNVSomaticPairWorkflow.PlotDenoisedCopyRatiosNormal.output_dir': '',\n",
       "  'CNVSomaticPairWorkflow.tumor_bam': 'this.WES_bam',\n",
       "  'CNVSomaticPairWorkflow.PlotDenoisedCopyRatiosTumor.cpu': '',\n",
       "  'CNVSomaticPairWorkflow.normal_bam_idx': '',\n",
       "  'CNVSomaticPairWorkflow.CollectAllelicCountsNormal.cpu': '',\n",
       "  'CNVSomaticPairWorkflow.neutral_segment_copy_ratio_lower_bound': '',\n",
       "  'CNVSomaticPairWorkflow.num_samples_allele_fraction': '',\n",
       "  'CNVSomaticPairWorkflow.max_num_segments_per_chromosome': '',\n",
       "  'CNVSomaticPairWorkflow.blacklist_intervals': '',\n",
       "  'CNVSomaticPairWorkflow.kernel_scaling_allele_fraction': '',\n",
       "  'CNVSomaticPairWorkflow.PlotModeledSegmentsTumor.cpu': '',\n",
       "  'CNVSomaticPairWorkflow.mem_gb_for_preprocess_intervals': '',\n",
       "  'CNVSomaticPairWorkflow.genotyping_homozygous_log_ratio_threshold': '',\n",
       "  'CNVSomaticPairWorkflow.max_num_smoothing_iterations': '',\n",
       "  'CNVSomaticPairWorkflow.PreprocessIntervals.cpu': '',\n",
       "  'CNVSomaticPairWorkflow.PlotDenoisedCopyRatiosTumor.output_dir': '',\n",
       "  'CNVSomaticPairWorkflow.is_run_oncotator': '',\n",
       "  'CNVSomaticPairWorkflow.padding': '250',\n",
       "  'CNVSomaticPairWorkflow.mem_gb_for_collect_allelic_counts': '',\n",
       "  'CNVSomaticPairWorkflow.normal_bam': '',\n",
       "  'CNVSomaticPairWorkflow.CollectCountsNormal.cpu': '',\n",
       "  'CNVSomaticPairWorkflow.num_burn_in_copy_ratio': '',\n",
       "  'CNVSomaticPairWorkflow.PlotDenoisedCopyRatiosNormal.cpu': '',\n",
       "  'CNVSomaticPairWorkflow.DenoiseReadCountsNormal.cpu': '',\n",
       "  'CNVSomaticPairWorkflow.CollectAllelicCountsTumor.cpu': '',\n",
       "  'CNVSomaticPairWorkflow.intervals': 'workspace. agilent_xx_intervals_no_pad',\n",
       "  'CNVSomaticPairWorkflow.gatk4_jar_override': '',\n",
       "  'CNVSomaticPairWorkflow.CallCopyRatioSegmentsNormal.cpu': '',\n",
       "  'CNVSomaticPairWorkflow.DenoiseReadCountsTumor.cpu': '',\n",
       "  'CNVSomaticPairWorkflow.number_of_eigensamples': '',\n",
       "  'CNVSomaticPairWorkflow.window_sizes': '',\n",
       "  'CNVSomaticPairWorkflow.num_samples_copy_ratio': '',\n",
       "  'CNVSomaticPairWorkflow.read_count_pon': 'workspace.agilent_pon_xx',\n",
       "  'CNVSomaticPairWorkflow.bin_length': '0',\n",
       "  'CNVSomaticPairWorkflow.kernel_variance_allele_fraction': ''},\n",
       " 'methodConfigVersion': 6,\n",
       " 'methodRepoMethod': {'methodName': 'CNV_Somatic_Pair_Workflow',\n",
       "  'methodVersion': 9,\n",
       "  'methodNamespace': 'gatk',\n",
       "  'methodUri': 'agora://gatk/CNV_Somatic_Pair_Workflow/9',\n",
       "  'sourceRepo': 'agora'},\n",
       " 'name': 'CNV_sample_XX',\n",
       " 'namespace': 'gatk',\n",
       " 'outputs': {'CNVSomaticPairWorkflow.copy_ratio_legacy_segments_normal': 'this.copy_ratio_legacy_segments_normal',\n",
       "  'CNVSomaticPairWorkflow.het_allelic_counts_normal': 'this.het_allelic_counts_normal',\n",
       "  'CNVSomaticPairWorkflow.allelic_counts_normal': 'this.allelic_counts_normal',\n",
       "  'CNVSomaticPairWorkflow.copy_ratio_parameters_normal': 'this.copy_ratio_parameters_normal',\n",
       "  'CNVSomaticPairWorkflow.allele_fraction_legacy_segments_normal': 'this.allele_fraction_legacy_segments_normal',\n",
       "  'CNVSomaticPairWorkflow.normal_het_allelic_counts_normal': 'this.normal_het_allelic_counts_normal',\n",
       "  'CNVSomaticPairWorkflow.allele_fraction_parameters_normal': 'this.allele_fraction_parameters_normal',\n",
       "  'CNVSomaticPairWorkflow.modeled_segments_begin_tumor': 'this.modeled_segments_begin_tumor',\n",
       "  'CNVSomaticPairWorkflow.copy_ratio_parameters_begin_normal': 'this.copy_ratio_parameters_begin_normal',\n",
       "  'CNVSomaticPairWorkflow.copy_ratio_parameters_tumor': 'this.copy_ratio_parameters_tumor',\n",
       "  'CNVSomaticPairWorkflow.denoised_MAD_normal': 'this.denoised_MAD_normal',\n",
       "  'CNVSomaticPairWorkflow.scaled_delta_MAD_tumor': 'this.scaled_delta_MAD_tumor',\n",
       "  'CNVSomaticPairWorkflow.het_allelic_counts_tumor': 'this.het_allelic_counts_tumor',\n",
       "  'CNVSomaticPairWorkflow.scaled_delta_MAD_normal': 'this.scaled_delta_MAD_normal',\n",
       "  'CNVSomaticPairWorkflow.standardized_MAD_tumor': 'this.standardized_MAD_tumor',\n",
       "  'CNVSomaticPairWorkflow.denoised_copy_ratios_plot_tumor': 'this.denoised_copy_ratios_plot_tumor',\n",
       "  'CNVSomaticPairWorkflow.copy_ratio_only_segments_tumor': 'this.copy_ratio_only_segments_tumor',\n",
       "  'CNVSomaticPairWorkflow.oncotated_called_gene_list_file_tumor': 'this.oncotated_called_gene_list_file_tumor',\n",
       "  'CNVSomaticPairWorkflow.denoised_copy_ratios_normal': 'this.denoised_copy_ratios_normal',\n",
       "  'CNVSomaticPairWorkflow.called_copy_ratio_segments_normal': 'this.called_copy_ratio_segments_normal',\n",
       "  'CNVSomaticPairWorkflow.denoised_copy_ratios_lim_4_plot_normal': 'this.denoised_copy_ratios_lim_4_plot_normal',\n",
       "  'CNVSomaticPairWorkflow.oncotated_called_file_tumor': 'this.oncotated_called_file_tumor',\n",
       "  'CNVSomaticPairWorkflow.allele_fraction_parameters_begin_normal': 'this.allele_fraction_parameters_begin_normal',\n",
       "  'CNVSomaticPairWorkflow.delta_MAD_normal': 'this.delta_MAD_normal',\n",
       "  'CNVSomaticPairWorkflow.denoised_MAD_tumor': 'this.denoised_MAD_tumor',\n",
       "  'CNVSomaticPairWorkflow.normal_het_allelic_counts_tumor': 'this.normal_het_allelic_counts_tumor',\n",
       "  'CNVSomaticPairWorkflow.copy_ratio_only_segments_normal': 'this.copy_ratio_only_segments_normal',\n",
       "  'CNVSomaticPairWorkflow.modeled_segments_begin_normal': 'this.modeled_segments_begin_normal',\n",
       "  'CNVSomaticPairWorkflow.denoised_copy_ratios_tumor': 'this.denoised_copy_ratios_tumor',\n",
       "  'CNVSomaticPairWorkflow.denoised_copy_ratios_lim_4_plot_tumor': 'this.denoised_copy_ratios_lim_4_plot_tumor',\n",
       "  'CNVSomaticPairWorkflow.allelic_counts_entity_id_normal': 'this.allelic_counts_entity_id_normal',\n",
       "  'CNVSomaticPairWorkflow.modeled_segments_tumor': 'this.modeled_segments_tumor',\n",
       "  'CNVSomaticPairWorkflow.allele_fraction_parameters_begin_tumor': 'this.allele_fraction_parameters_begin_tumor',\n",
       "  'CNVSomaticPairWorkflow.allelic_counts_tumor': 'this.allelic_counts_tumor',\n",
       "  'CNVSomaticPairWorkflow.read_counts_entity_id_tumor': 'this.read_counts_entity_id_tumor',\n",
       "  'CNVSomaticPairWorkflow.standardized_MAD_normal': 'this.standardized_MAD_normal',\n",
       "  'CNVSomaticPairWorkflow.delta_MAD_tumor': 'this.delta_MAD_tumor',\n",
       "  'CNVSomaticPairWorkflow.read_counts_normal': 'this.read_counts_normal',\n",
       "  'CNVSomaticPairWorkflow.read_counts_tumor': 'this.read_counts_tumor',\n",
       "  'CNVSomaticPairWorkflow.modeled_segments_plot_normal': 'this.modeled_segments_plot_normal',\n",
       "  'CNVSomaticPairWorkflow.modeled_segments_plot_tumor': 'this.modeled_segments_plot_tumor',\n",
       "  'CNVSomaticPairWorkflow.denoised_copy_ratios_plot_normal': 'this.denoised_copy_ratios_plot_normal',\n",
       "  'CNVSomaticPairWorkflow.modeled_segments_normal': 'this.modeled_segments_normal',\n",
       "  'CNVSomaticPairWorkflow.allele_fraction_legacy_segments_tumor': 'this.allele_fraction_legacy_segments_tumor',\n",
       "  'CNVSomaticPairWorkflow.allelic_counts_entity_id_tumor': 'this.allelic_counts_entity_id_tumor',\n",
       "  'CNVSomaticPairWorkflow.copy_ratio_legacy_segments_tumor': 'this.copy_ratio_legacy_segments_tumor',\n",
       "  'CNVSomaticPairWorkflow.standardized_copy_ratios_normal': 'this.standardized_copy_ratios_normal',\n",
       "  'CNVSomaticPairWorkflow.called_copy_ratio_segments_tumor': 'this.called_copy_ratio_segments_tumor',\n",
       "  'CNVSomaticPairWorkflow.read_counts_entity_id_normal': 'this.read_counts_entity_id_normal',\n",
       "  'CNVSomaticPairWorkflow.preprocessed_intervals': 'this.preprocessed_intervals',\n",
       "  'CNVSomaticPairWorkflow.standardized_copy_ratios_tumor': 'this.standardized_copy_ratios_tumor',\n",
       "  'CNVSomaticPairWorkflow.allele_fraction_parameters_tumor': 'this.allele_fraction_parameters_tumor',\n",
       "  'CNVSomaticPairWorkflow.copy_ratio_parameters_begin_tumor': 'this.copy_ratio_parameters_begin_tumor'},\n",
       " 'prerequisites': {},\n",
       " 'rootEntityType': 'sample'}"
      ]
     },
     "execution_count": 5,
     "metadata": {},
     "output_type": "execute_result"
    }
   ],
   "source": [
    "CNV_woXY = refwm.get_config(\"CNV_sample_XX\")\n",
    "CNV_woXY"
   ]
  },
  {
   "cell_type": "code",
   "execution_count": 7,
   "metadata": {},
   "outputs": [
    {
     "name": "stdout",
     "output_type": "stream",
     "text": [
      "Successfully updated configuration gatk/CNV_sample_XX\n",
      "Successfully created submission a47451e6-abb6-45b9-98ab-ee21f9794b98.\n"
     ]
    }
   ],
   "source": [
    "CNV_woXY['inputs']['CNVSomaticPairWorkflow.tumor_bam_idx'] = \"this.hg38_analysis_ready_bam_index\"\n",
    "CNV_woXY['inputs']['CNVSomaticPairWorkflow.tumor_bam'] = \"this.hg38_analysis_ready_bam\"\n",
    "CNV_woXY['inputs']['CNVSomaticPairWorkflow.read_count_pon'] = \"workspace.ice_pon_xx\"\n",
    "CNV_woXY['inputs']['CNVSomaticPairWorkflow.intervals'] =\"workspace.ice_xx_intervals_no_pad\"\n",
    "refwm.update_config(CNV_woXY)\n",
    "submission_id = refwm.create_submission(CNV_woXY['name'],etype='sample_set',entity=sample_set_id,expression='this.samples')\n"
   ]
  },
  {
   "cell_type": "code",
   "execution_count": null,
   "metadata": {},
   "outputs": [],
   "source": [
    "terra.wait_for_submission(refwm,submission_id)"
   ]
  },
  {
   "cell_type": "code",
   "execution_count": 6,
   "metadata": {
    "scrolled": true
   },
   "outputs": [
    {
     "data": {
      "text/plain": [
       "{'deleted': False,\n",
       " 'inputs': {'aggregate_CN_segments_wrkflw.aggregate_CN_segments.disk_space': '10',\n",
       "  'aggregate_CN_segments_wrkflw.aggregate_CN_segments.num_preempt': '5',\n",
       "  'aggregate_CN_segments_wrkflw.aggregate_CN_segments.aggregate_seg_files_script': 'workspace.cn_single_file_script',\n",
       "  'aggregate_CN_segments_wrkflw.aggregate_CN_segments.memory': '5',\n",
       "  'aggregate_CN_segments_wrkflw.aggregate_CN_segments.sample_set_id': 'this.name',\n",
       "  'aggregate_CN_segments_wrkflw.aggregate_CN_segments.sample_seg_files': 'this.samples.called_copy_ratio_segments_tumor'},\n",
       " 'methodConfigVersion': 4,\n",
       " 'methodRepoMethod': {'methodName': 'Aggregate_CN_seg_files',\n",
       "  'methodVersion': 2,\n",
       "  'methodNamespace': 'gkugener',\n",
       "  'methodUri': 'agora://gkugener/Aggregate_CN_seg_files/2',\n",
       "  'sourceRepo': 'agora'},\n",
       " 'name': 'Aggregate_CN_seg_files',\n",
       " 'namespace': 'gkugener',\n",
       " 'outputs': {'aggregate_CN_segments_wrkflw.aggregate_CN_segments.combined_cn_file': 'this.combined_seg_file'},\n",
       " 'prerequisites': {},\n",
       " 'rootEntityType': 'sample_set'}"
      ]
     },
     "execution_count": 6,
     "metadata": {},
     "output_type": "execute_result"
    }
   ],
   "source": [
    "aggregate = refwm.get_config(\"Aggregate_CN_seg_files\")\n",
    "aggregate"
   ]
  },
  {
   "cell_type": "code",
   "execution_count": 8,
   "metadata": {},
   "outputs": [
    {
     "name": "stdout",
     "output_type": "stream",
     "text": [
      "Successfully created submission f2e27f7a-2a07-4726-b891-635e94e629a0.\n"
     ]
    }
   ],
   "source": [
    "submission_id = refwm.create_submission(aggregate['name'],entity=sample_set_id)\n"
   ]
  },
  {
   "cell_type": "code",
   "execution_count": 9,
   "metadata": {},
   "outputs": [
    {
     "ename": "KeyboardInterrupt",
     "evalue": "",
     "output_type": "error",
     "traceback": [
      "\u001b[0;31m---------------------------------------------------------------------------\u001b[0m",
      "\u001b[0;31mKeyboardInterrupt\u001b[0m                         Traceback (most recent call last)",
      "\u001b[0;32m<ipython-input-9-0da96844dd65>\u001b[0m in \u001b[0;36m<module>\u001b[0;34m\u001b[0m\n\u001b[0;32m----> 1\u001b[0;31m \u001b[0mterra\u001b[0m\u001b[0;34m.\u001b[0m\u001b[0mwait_for_submission\u001b[0m\u001b[0;34m(\u001b[0m\u001b[0mrefwm\u001b[0m\u001b[0;34m,\u001b[0m\u001b[0msubmission_id\u001b[0m\u001b[0;34m)\u001b[0m\u001b[0;34m\u001b[0m\u001b[0;34m\u001b[0m\u001b[0m\n\u001b[0m",
      "\u001b[0;32m~/JKBio/TerraFunction.py\u001b[0m in \u001b[0;36mwait_for_submission\u001b[0;34m(wm, submissions)\u001b[0m\n\u001b[1;32m     18\u001b[0m       \u001b[0;32mfor\u001b[0m \u001b[0mi\u001b[0m \u001b[0;32min\u001b[0m \u001b[0mwm\u001b[0m\u001b[0;34m.\u001b[0m\u001b[0mget_submission\u001b[0m\u001b[0;34m(\u001b[0m\u001b[0msubmission_id\u001b[0m\u001b[0;34m)\u001b[0m\u001b[0;34m[\u001b[0m\u001b[0;34m\"workflows\"\u001b[0m\u001b[0;34m]\u001b[0m\u001b[0;34m:\u001b[0m\u001b[0;34m\u001b[0m\u001b[0;34m\u001b[0m\u001b[0m\n\u001b[1;32m     19\u001b[0m         \u001b[0;32mwhile\u001b[0m \u001b[0mi\u001b[0m\u001b[0;34m[\u001b[0m\u001b[0;34m'status'\u001b[0m\u001b[0;34m]\u001b[0m \u001b[0;32mnot\u001b[0m \u001b[0;32min\u001b[0m \u001b[0;34m{\u001b[0m\u001b[0;34m'Done'\u001b[0m\u001b[0;34m,\u001b[0m \u001b[0;34m'Aborted'\u001b[0m\u001b[0;34m}\u001b[0m\u001b[0;34m:\u001b[0m\u001b[0;34m\u001b[0m\u001b[0;34m\u001b[0m\u001b[0m\n\u001b[0;32m---> 20\u001b[0;31m           \u001b[0mtime\u001b[0m\u001b[0;34m.\u001b[0m\u001b[0msleep\u001b[0m\u001b[0;34m(\u001b[0m\u001b[0;36m60\u001b[0m\u001b[0;34m)\u001b[0m\u001b[0;34m\u001b[0m\u001b[0;34m\u001b[0m\u001b[0m\n\u001b[0m\u001b[1;32m     21\u001b[0m         \u001b[0;32mif\u001b[0m \u001b[0mi\u001b[0m\u001b[0;34m[\u001b[0m\u001b[0;34m\"status\"\u001b[0m\u001b[0;34m]\u001b[0m \u001b[0;34m==\u001b[0m \u001b[0;34m'Failed'\u001b[0m\u001b[0;34m:\u001b[0m\u001b[0;34m\u001b[0m\u001b[0;34m\u001b[0m\u001b[0m\n\u001b[1;32m     22\u001b[0m           \u001b[0mprint\u001b[0m\u001b[0;34m(\u001b[0m\u001b[0mnewsample\u001b[0m\u001b[0;34m.\u001b[0m\u001b[0mloc\u001b[0m\u001b[0;34m[\u001b[0m\u001b[0mi\u001b[0m\u001b[0;34m[\u001b[0m\u001b[0;34m\"workflowEntity\"\u001b[0m\u001b[0;34m]\u001b[0m\u001b[0;34m[\u001b[0m\u001b[0;34m\"entityName\"\u001b[0m\u001b[0;34m]\u001b[0m\u001b[0;34m]\u001b[0m\u001b[0;34m[\u001b[0m\u001b[0;34m\"attr_sex\"\u001b[0m\u001b[0;34m]\u001b[0m\u001b[0;34m)\u001b[0m\u001b[0;34m\u001b[0m\u001b[0;34m\u001b[0m\u001b[0m\n",
      "\u001b[0;31mKeyboardInterrupt\u001b[0m: "
     ]
    }
   ],
   "source": [
    "terra.wait_for_submission(refwm,submission_id)"
   ]
  },
  {
   "cell_type": "code",
   "execution_count": 19,
   "metadata": {},
   "outputs": [
    {
     "data": {
      "text/plain": [
       "'gs://fc-secure-d2a2d895-a7af-4117-bdc7-652d7d268324/f2e27f7a-2a07-4726-b891-635e94e629a0/aggregate_CN_segments_wrkflw/fa3fa788-89ce-4b9a-9f47-47b56c1796c4/call-aggregate_CN_segments/CCLE_19Q3interim.called.seg'"
      ]
     },
     "execution_count": 19,
     "metadata": {},
     "output_type": "execute_result"
    }
   ],
   "source": [
    "aggregated = refwm.get_entities('sample_set').loc[sample_set_id][\"combined_seg_file\"]\n",
    "aggregated"
   ]
  },
  {
   "cell_type": "code",
   "execution_count": 20,
   "metadata": {},
   "outputs": [
    {
     "name": "stdout",
     "output_type": "stream",
     "text": [
      "Copying gs://fc-secure-d2a2d895-a7af-4117-bdc7-652d7d268324/f2e27f7a-2a07-4726-b891-635e94e629a0/aggregate_CN_segments_wrkflw/fa3fa788-89ce-4b9a-9f47-47b56c1796c4/call-aggregate_CN_segments/CCLE_19Q3interim.called.seg...\n",
      "/ [1 files][122.4 KiB/122.4 KiB]                                                \n",
      "Operation completed over 1 objects/122.4 KiB.                                    \n"
     ]
    }
   ],
   "source": [
    "! gsutil cp $aggregated \"temp/cnv_ccle.called.seg\""
   ]
  },
  {
   "cell_type": "code",
   "execution_count": 5,
   "metadata": {},
   "outputs": [],
   "source": [
    "%load_ext rpy2.ipython"
   ]
  },
  {
   "cell_type": "code",
   "execution_count": 2,
   "metadata": {},
   "outputs": [
    {
     "name": "stderr",
     "output_type": "stream",
     "text": [
      "R[write to console]: \n",
      "Attaching package: ‘GGally’\n",
      "\n",
      "\n",
      "R[write to console]: The following object is masked from ‘package:dplyr’:\n",
      "\n",
      "    nasa\n",
      "\n",
      "\n",
      "R[write to console]: \n",
      "Attaching package: ‘plotly’\n",
      "\n",
      "\n",
      "R[write to console]: The following object is masked from ‘package:ggplot2’:\n",
      "\n",
      "    last_plot\n",
      "\n",
      "\n",
      "R[write to console]: The following objects are masked from ‘package:plyr’:\n",
      "\n",
      "    arrange, mutate, rename, summarise\n",
      "\n",
      "\n",
      "R[write to console]: The following object is masked from ‘package:stats’:\n",
      "\n",
      "    filter\n",
      "\n",
      "\n",
      "R[write to console]: The following object is masked from ‘package:graphics’:\n",
      "\n",
      "    layout\n",
      "\n",
      "\n",
      "R[write to console]: Loading required package: grid\n",
      "\n",
      "R[write to console]: Loading required package: futile.logger\n",
      "\n",
      "R[write to console]: Registering fonts with R\n",
      "\n",
      "R[write to console]: \n",
      "Attaching package: ‘cowplot’\n",
      "\n",
      "\n",
      "R[write to console]: The following object is masked from ‘package:ggthemes’:\n",
      "\n",
      "    theme_map\n",
      "\n",
      "\n",
      "R[write to console]: The following object is masked from ‘package:ggplot2’:\n",
      "\n",
      "    ggsave\n",
      "\n",
      "\n",
      "R[write to console]: \n",
      "Attaching package: ‘data.table’\n",
      "\n",
      "\n",
      "R[write to console]: The following objects are masked from ‘package:reshape2’:\n",
      "\n",
      "    dcast, melt\n",
      "\n",
      "\n",
      "R[write to console]: The following object is masked from ‘package:purrr’:\n",
      "\n",
      "    transpose\n",
      "\n",
      "\n",
      "R[write to console]: The following objects are masked from ‘package:dplyr’:\n",
      "\n",
      "    between, first, last\n",
      "\n",
      "\n",
      "R[write to console]: \n",
      "Attaching package: ‘DT’\n",
      "\n",
      "\n",
      "R[write to console]: The following object is masked from ‘package:networkD3’:\n",
      "\n",
      "    JS\n",
      "\n",
      "\n",
      "R[write to console]: Loading required package: stats4\n",
      "\n",
      "R[write to console]: Loading required package: BiocGenerics\n",
      "\n",
      "R[write to console]: Loading required package: parallel\n",
      "\n",
      "R[write to console]: \n",
      "Attaching package: ‘BiocGenerics’\n",
      "\n",
      "\n",
      "R[write to console]: The following objects are masked from ‘package:parallel’:\n",
      "\n",
      "    clusterApply, clusterApplyLB, clusterCall, clusterEvalQ,\n",
      "    clusterExport, clusterMap, parApply, parCapply, parLapply,\n",
      "    parLapplyLB, parRapply, parSapply, parSapplyLB\n",
      "\n",
      "\n",
      "R[write to console]: The following object is masked from ‘package:gridExtra’:\n",
      "\n",
      "    combine\n",
      "\n",
      "\n",
      "R[write to console]: The following objects are masked from ‘package:dplyr’:\n",
      "\n",
      "    combine, intersect, setdiff, union\n",
      "\n",
      "\n",
      "R[write to console]: The following objects are masked from ‘package:stats’:\n",
      "\n",
      "    IQR, mad, sd, var, xtabs\n",
      "\n",
      "\n",
      "R[write to console]: The following objects are masked from ‘package:base’:\n",
      "\n",
      "    anyDuplicated, append, as.data.frame, basename, cbind, colMeans,\n",
      "    colnames, colSums, dirname, do.call, duplicated, eval, evalq,\n",
      "    Filter, Find, get, grep, grepl, intersect, is.unsorted, lapply,\n",
      "    lengths, Map, mapply, match, mget, order, paste, pmax, pmax.int,\n",
      "    pmin, pmin.int, Position, rank, rbind, Reduce, rowMeans, rownames,\n",
      "    rowSums, sapply, setdiff, sort, table, tapply, union, unique,\n",
      "    unsplit, which, which.max, which.min\n",
      "\n",
      "\n",
      "R[write to console]: Loading required package: S4Vectors\n",
      "\n",
      "R[write to console]: \n",
      "Attaching package: ‘S4Vectors’\n",
      "\n",
      "\n",
      "R[write to console]: The following objects are masked from ‘package:data.table’:\n",
      "\n",
      "    first, second\n",
      "\n",
      "\n",
      "R[write to console]: The following object is masked from ‘package:plotly’:\n",
      "\n",
      "    rename\n",
      "\n",
      "\n",
      "R[write to console]: The following object is masked from ‘package:tidyr’:\n",
      "\n",
      "    expand\n",
      "\n",
      "\n",
      "R[write to console]: The following objects are masked from ‘package:dplyr’:\n",
      "\n",
      "    first, rename\n",
      "\n",
      "\n",
      "R[write to console]: The following object is masked from ‘package:plyr’:\n",
      "\n",
      "    rename\n",
      "\n",
      "\n",
      "R[write to console]: The following object is masked from ‘package:base’:\n",
      "\n",
      "    expand.grid\n",
      "\n",
      "\n",
      "R[write to console]: Loading required package: IRanges\n",
      "\n",
      "R[write to console]: \n",
      "Attaching package: ‘IRanges’\n",
      "\n",
      "\n",
      "R[write to console]: The following object is masked from ‘package:data.table’:\n",
      "\n",
      "    shift\n",
      "\n",
      "\n",
      "R[write to console]: The following object is masked from ‘package:plotly’:\n",
      "\n",
      "    slice\n",
      "\n",
      "\n",
      "R[write to console]: The following object is masked from ‘package:purrr’:\n",
      "\n",
      "    reduce\n",
      "\n",
      "\n",
      "R[write to console]: The following objects are masked from ‘package:dplyr’:\n",
      "\n",
      "    collapse, desc, slice\n",
      "\n",
      "\n",
      "R[write to console]: The following object is masked from ‘package:plyr’:\n",
      "\n",
      "    desc\n",
      "\n",
      "\n",
      "R[write to console]: Loading required package: GenomeInfoDb\n",
      "\n",
      "R[write to console]: Loading required package: Biobase\n",
      "\n",
      "R[write to console]: Welcome to Bioconductor\n",
      "\n",
      "    Vignettes contain introductory material; view with\n",
      "    'browseVignettes()'. To cite Bioconductor, see\n",
      "    'citation(\"Biobase\")', and for packages 'citation(\"pkgname\")'.\n",
      "\n",
      "\n",
      "R[write to console]: Loading required package: annotate\n",
      "\n",
      "R[write to console]: Loading required package: AnnotationDbi\n",
      "\n",
      "R[write to console]: \n",
      "Attaching package: ‘AnnotationDbi’\n",
      "\n",
      "\n",
      "R[write to console]: The following object is masked from ‘package:plotly’:\n",
      "\n",
      "    select\n",
      "\n",
      "\n",
      "R[write to console]: The following object is masked from ‘package:dplyr’:\n",
      "\n",
      "    select\n",
      "\n",
      "\n",
      "R[write to console]: Loading required package: XML\n",
      "\n",
      "R[write to console]: \n",
      "Attaching package: ‘XML’\n",
      "\n",
      "\n",
      "R[write to console]: The following object is masked from ‘package:tools’:\n",
      "\n",
      "    toHTML\n",
      "\n",
      "\n",
      "R[write to console]: Loading required package: graph\n",
      "\n",
      "R[write to console]: \n",
      "Attaching package: ‘graph’\n",
      "\n",
      "\n",
      "R[write to console]: The following object is masked from ‘package:XML’:\n",
      "\n",
      "    addNode\n",
      "\n",
      "\n",
      "R[write to console]: The following object is masked from ‘package:stringr’:\n",
      "\n",
      "    boundary\n",
      "\n",
      "\n",
      "R[write to console]: The following object is masked from ‘package:plyr’:\n",
      "\n",
      "    join\n",
      "\n",
      "\n",
      "R[write to console]: Loading required package: RCurl\n",
      "\n",
      "R[write to console]: Loading required package: bitops\n",
      "\n",
      "R[write to console]: \n",
      "Attaching package: ‘RCurl’\n",
      "\n",
      "\n",
      "R[write to console]: The following object is masked from ‘package:tidyr’:\n",
      "\n",
      "    complete\n",
      "\n",
      "\n",
      "R[write to console]: Loading required package: httr\n",
      "\n",
      "R[write to console]: \n",
      "Attaching package: ‘httr’\n",
      "\n",
      "\n",
      "R[write to console]: The following object is masked from ‘package:Biobase’:\n",
      "\n",
      "    content\n",
      "\n",
      "\n",
      "R[write to console]: The following object is masked from ‘package:plotly’:\n",
      "\n",
      "    config\n",
      "\n",
      "\n",
      "R[write to console]: Package 'mclust' version 5.4.3\n",
      "Type 'citation(\"mclust\")' for citing this R package in publications.\n",
      "\n",
      "R[write to console]: \n",
      "Attaching package: ‘mclust’\n",
      "\n",
      "\n",
      "R[write to console]: The following object is masked from ‘package:purrr’:\n",
      "\n",
      "    map\n",
      "\n",
      "\n",
      "R[write to console]: Loading required package: mgcv\n",
      "\n",
      "R[write to console]: Loading required package: nlme\n",
      "\n",
      "R[write to console]: \n",
      "Attaching package: ‘nlme’\n",
      "\n",
      "\n",
      "R[write to console]: The following object is masked from ‘package:IRanges’:\n",
      "\n",
      "    collapse\n",
      "\n",
      "\n",
      "R[write to console]: The following object is masked from ‘package:dplyr’:\n",
      "\n",
      "    collapse\n",
      "\n",
      "\n",
      "R[write to console]: This is mgcv 1.8-28. For overview type 'help(\"mgcv-package\")'.\n",
      "\n",
      "R[write to console]: \n",
      "Attaching package: ‘mgcv’\n",
      "\n",
      "\n",
      "R[write to console]: The following object is masked from ‘package:mclust’:\n",
      "\n",
      "    mvn\n",
      "\n",
      "\n",
      "R[write to console]: The following object is masked from ‘package:futile.logger’:\n",
      "\n",
      "    scat\n",
      "\n",
      "\n",
      "R[write to console]: Loading required package: genefilter\n",
      "\n",
      "R[write to console]: \n",
      "Attaching package: ‘genefilter’\n",
      "\n",
      "\n",
      "R[write to console]: The following object is masked from ‘package:readr’:\n",
      "\n",
      "    spec\n",
      "\n",
      "\n",
      "R[write to console]: Loading required package: BiocParallel\n",
      "\n",
      "R[write to console]: \n",
      "Attaching package: ‘limma’\n",
      "\n",
      "\n",
      "R[write to console]: The following object is masked from ‘package:BiocGenerics’:\n",
      "\n",
      "    plotMA\n",
      "\n",
      "\n",
      "R[write to console]: Loading required package: lpSolve\n",
      "\n",
      "R[write to console]: \n",
      "Attaching package: ‘zoo’\n",
      "\n",
      "\n",
      "R[write to console]: The following objects are masked from ‘package:base’:\n",
      "\n",
      "    as.Date, as.Date.numeric\n",
      "\n",
      "\n",
      "R[write to console]: \n",
      "Attaching package: ‘scales’\n",
      "\n",
      "\n",
      "R[write to console]: The following object is masked from ‘package:purrr’:\n",
      "\n",
      "    discard\n",
      "\n",
      "\n",
      "R[write to console]: The following object is masked from ‘package:readr’:\n",
      "\n",
      "    col_factor\n",
      "\n",
      "\n",
      "R[write to console]: \n",
      "Attaching package: ‘rlang’\n",
      "\n",
      "\n",
      "R[write to console]: The following object is masked from ‘package:Biobase’:\n",
      "\n",
      "    exprs\n",
      "\n",
      "\n",
      "R[write to console]: The following object is masked from ‘package:data.table’:\n",
      "\n",
      "    :=\n",
      "\n",
      "\n",
      "R[write to console]: The following object is masked from ‘package:magrittr’:\n",
      "\n",
      "    set_names\n",
      "\n",
      "\n",
      "R[write to console]: The following objects are masked from ‘package:purrr’:\n",
      "\n",
      "    %@%, as_function, flatten, flatten_chr, flatten_dbl, flatten_int,\n",
      "    flatten_lgl, flatten_raw, invoke, list_along, modify, prepend,\n",
      "    splice\n",
      "\n",
      "\n",
      "R[write to console]: Loading required package: SnowballC\n",
      "\n"
     ]
    },
    {
     "name": "stdout",
     "output_type": "stream",
     "text": [
      "Fetching https://cds.team/taiga/api/dataset/msigdb-gene-set-collections-8453/2 \n",
      "Status 200 \n"
     ]
    },
    {
     "name": "stderr",
     "output_type": "stream",
     "text": [
      "R[write to console]: No encoding supplied: defaulting to UTF-8.\n",
      "\n"
     ]
    },
    {
     "name": "stdout",
     "output_type": "stream",
     "text": [
      "loading cached data version from  ~/.taiga/msigdb-gene-set-collections-8453_2.toc \n",
      "Checking for cached file ~/.taiga/495ea37b8d744a428946a5628c5fe7ce_gsc-data.raw \n"
     ]
    }
   ],
   "source": [
    "%%R\n",
    "source('../JKBio/gkugener/RScripts/load_libraries_and_annotations.R')\n",
    "genome_version <- 'hg38'\n",
    "release <- '19Q3interim'\n",
    "hg38_cyto_band_reference <- 'data/hg38_cytoband.gz'\n",
    "new_samples_copy_number_broad_wes <- 'temp/cnv_ccle.called.seg'"
   ]
  },
  {
   "cell_type": "code",
   "execution_count": 6,
   "metadata": {
    "scrolled": true
   },
   "outputs": [
    {
     "name": "stdout",
     "output_type": "stream",
     "text": [
      "Fetching https://cds.team/taiga/api/datafile?format=metadata&dataset_permaname=segmented-cn-wes-prioritzed-7fe1&datafile_name=CCLE_internal_19q2_segmented_cn \n",
      "Status 200 \n"
     ]
    },
    {
     "name": "stderr",
     "output_type": "stream",
     "text": [
      "R[write to console]: No encoding supplied: defaulting to UTF-8.\n",
      "\n"
     ]
    },
    {
     "name": "stdout",
     "output_type": "stream",
     "text": [
      "Could not find segmented-cn-wes-prioritzed-7fe1 in cache, requesting from taiga...\n",
      "Fetching https://cds.team/taiga/api/datafile?format=rds&dataset_version_id=fc139d4490ea48c98c7bb29ead4d2a1d&datafile_name=CCLE_internal_19q2_segmented_cn \n",
      "Status 200 \n"
     ]
    },
    {
     "name": "stderr",
     "output_type": "stream",
     "text": [
      "R[write to console]: No encoding supplied: defaulting to UTF-8.\n",
      "\n",
      "R[write to console]: Downloading segmented-cn-wes-prioritzed-7fe1/v25/CCLE_internal_19q2_segmented_cn ...\n",
      "\n"
     ]
    },
    {
     "name": "stdout",
     "output_type": "stream",
     "text": [
      "  |======================================================================| 100%\n",
      "Saving segmented-cn-wes-prioritzed-7fe1 in cache ( fc139d4490ea48c98c7bb29ead4d2a1d CCLE_internal_19q2_segmented_cn )...\n"
     ]
    },
    {
     "name": "stderr",
     "output_type": "stream",
     "text": [
      "R[write to console]: Saved to cache as fc139d4490ea48c98c7bb29ead4d2a1d_ccle-internal-19q2-segmented-cn.rds\n",
      "\n"
     ]
    },
    {
     "name": "stdout",
     "output_type": "stream",
     "text": [
      "writing /home/jeremie/.taiga/fc139d4490ea48c98c7bb29ead4d2a1d_ccle-internal-19q2-segmented-cn.idx /home/jeremie/.taiga/segmented-cn-wes-prioritzed-7fe1_ccle-internal-19q2-segmented-cn_25.idx \n",
      "Fetching https://cds.team/taiga/api/datafile?format=metadata&dataset_permaname=segmented-cn-wes-prioritzed-7fe1&datafile_name=CCLE_internal_19q2_gene_cn \n",
      "Status 200 \n"
     ]
    },
    {
     "name": "stderr",
     "output_type": "stream",
     "text": [
      "R[write to console]: No encoding supplied: defaulting to UTF-8.\n",
      "\n",
      "R[write to console]: Loading from cached file /home/jeremie/.taiga/fc139d4490ea48c98c7bb29ead4d2a1d_ccle-internal-19q2-gene-cn.rds\n",
      "\n"
     ]
    }
   ],
   "source": [
    "%%R\n",
    "# Previous release copy number profiles. This line will need to be updated as well\n",
    "wes.priority.cn.seg.profiles <- taigr::load.from.taiga(data.name='segmented-cn-wes-prioritzed-7fe1', data.file='CCLE_internal_19q2_segmented_cn') %>%\n",
    "  dplyr::select(DepMap_ID, Chromosome, Start, End, Num_Probes, Segment_Mean, Source)\n",
    "wes.priority.cn.gene.profiles <- taigr::load.from.taiga(data.name='segmented-cn-wes-prioritzed-7fe1', data.file='CCLE_internal_19q2_gene_cn')"
   ]
  },
  {
   "cell_type": "code",
   "execution_count": 33,
   "metadata": {},
   "outputs": [],
   "source": [
    "%%R \n",
    "source(\"CCLE_postp_function.R\")"
   ]
  },
  {
   "cell_type": "code",
   "execution_count": 41,
   "metadata": {},
   "outputs": [
    {
     "name": "stdout",
     "output_type": "stream",
     "text": [
      "[1] 0\n"
     ]
    },
    {
     "name": "stderr",
     "output_type": "stream",
     "text": [
      "R[write to console]: Parsed with column specification:\n",
      "cols(\n",
      "  X1 = \u001b[31mcol_character()\u001b[39m,\n",
      "  X2 = \u001b[32mcol_double()\u001b[39m,\n",
      "  X3 = \u001b[32mcol_double()\u001b[39m,\n",
      "  X4 = \u001b[31mcol_character()\u001b[39m,\n",
      "  X5 = \u001b[31mcol_character()\u001b[39m\n",
      ")\n",
      "\n"
     ]
    },
    {
     "name": "stdout",
     "output_type": "stream",
     "text": [
      "\u001b[90m# A tibble: 2,326 x 7\u001b[39m\n",
      "   DepMap_ID  seqnames     start       end Num_Probes Segment_Mean Source   \n",
      "   \u001b[3m\u001b[90m<chr>\u001b[39m\u001b[23m      \u001b[3m\u001b[90m<fct>\u001b[39m\u001b[23m        \u001b[3m\u001b[90m<dbl>\u001b[39m\u001b[23m     \u001b[3m\u001b[90m<dbl>\u001b[39m\u001b[23m      \u001b[3m\u001b[90m<dbl>\u001b[39m\u001b[23m        \u001b[3m\u001b[90m<dbl>\u001b[39m\u001b[23m \u001b[3m\u001b[90m<chr>\u001b[39m\u001b[23m    \n",
      "\u001b[90m 1\u001b[39m ACH-001518 chr1             1  16\u001b[4m4\u001b[24m\u001b[4m5\u001b[24m\u001b[4m7\u001b[24m368       \u001b[4m2\u001b[24m069  1.05        Broad WES\n",
      "\u001b[90m 2\u001b[39m ACH-001518 chr1      16\u001b[4m4\u001b[24m\u001b[4m5\u001b[24m\u001b[4m7\u001b[24m369  16\u001b[4m9\u001b[24m\u001b[4m7\u001b[24m\u001b[4m6\u001b[24m116         61  1.48        Broad WES\n",
      "\u001b[90m 3\u001b[39m ACH-001518 chr1      16\u001b[4m9\u001b[24m\u001b[4m7\u001b[24m\u001b[4m6\u001b[24m117 101\u001b[4m0\u001b[24m\u001b[4m2\u001b[24m\u001b[4m3\u001b[24m537       \u001b[4m7\u001b[24m024  1.02        Broad WES\n",
      "\u001b[90m 4\u001b[39m ACH-001518 chr1     101\u001b[4m0\u001b[24m\u001b[4m2\u001b[24m\u001b[4m3\u001b[24m538 149\u001b[4m4\u001b[24m\u001b[4m8\u001b[24m\u001b[4m7\u001b[24m698       \u001b[4m1\u001b[24m672  1.19        Broad WES\n",
      "\u001b[90m 5\u001b[39m ACH-001518 chr1     149\u001b[4m4\u001b[24m\u001b[4m8\u001b[24m\u001b[4m7\u001b[24m699 149\u001b[4m6\u001b[24m\u001b[4m3\u001b[24m\u001b[4m6\u001b[24m094          1  0.076\u001b[4m7\u001b[24m      Broad WES\n",
      "\u001b[90m 6\u001b[39m ACH-001518 chr1     149\u001b[4m6\u001b[24m\u001b[4m3\u001b[24m\u001b[4m6\u001b[24m095 248\u001b[4m9\u001b[24m\u001b[4m5\u001b[24m\u001b[4m6\u001b[24m422       \u001b[4m8\u001b[24m383  1.02        Broad WES\n",
      "\u001b[90m 7\u001b[39m ACH-001518 chr2             1  47\u001b[4m6\u001b[24m\u001b[4m2\u001b[24m\u001b[4m4\u001b[24m291       \u001b[4m2\u001b[24m999  1.00        Broad WES\n",
      "\u001b[90m 8\u001b[39m ACH-001518 chr2      47\u001b[4m6\u001b[24m\u001b[4m2\u001b[24m\u001b[4m4\u001b[24m292  47\u001b[4m7\u001b[24m\u001b[4m8\u001b[24m\u001b[4m7\u001b[24m210          2  0.000\u001b[4m0\u001b[24m\u001b[4m0\u001b[24m\u001b[4m0\u001b[24m991 Broad WES\n",
      "\u001b[90m 9\u001b[39m ACH-001518 chr2      47\u001b[4m7\u001b[24m\u001b[4m8\u001b[24m\u001b[4m7\u001b[24m211  86\u001b[4m8\u001b[24m\u001b[4m5\u001b[24m\u001b[4m2\u001b[24m415       \u001b[4m2\u001b[24m131  0.991       Broad WES\n",
      "\u001b[90m10\u001b[39m ACH-001518 chr2      86\u001b[4m8\u001b[24m\u001b[4m5\u001b[24m\u001b[4m2\u001b[24m416  87\u001b[4m2\u001b[24m\u001b[4m6\u001b[24m\u001b[4m2\u001b[24m876          3  0.034\u001b[4m6\u001b[24m      Broad WES\n",
      "\u001b[90m# … with 2,316 more rows\u001b[39m\n",
      "   DepMap_ID Chromosome    Start      End Num_Probes Segment_Mean     Source\n",
      "1 ACH-000001          1        1  1969745        286     2.546065 Sanger WES\n",
      "2 ACH-000001          1  1969746  6354345        365     2.175759 Sanger WES\n",
      "3 ACH-000001          1  6354346  6958256        100     3.109430 Sanger WES\n",
      "4 ACH-000001          1  6958257 15977206        884     2.134831 Sanger WES\n",
      "5 ACH-000001          1 15977207 16174774         57     2.952592 Sanger WES\n",
      "6 ACH-000001          1 16174775 16275770         19     1.710129 Sanger WES\n",
      "\u001b[90m# A tibble: 2,326 x 7\u001b[39m\n",
      "   DepMap_ID  Chromosome     Start       End Num_Probes Segment_Mean Source   \n",
      "   \u001b[3m\u001b[90m<chr>\u001b[39m\u001b[23m      \u001b[3m\u001b[90m<fct>\u001b[39m\u001b[23m          \u001b[3m\u001b[90m<dbl>\u001b[39m\u001b[23m     \u001b[3m\u001b[90m<dbl>\u001b[39m\u001b[23m      \u001b[3m\u001b[90m<dbl>\u001b[39m\u001b[23m        \u001b[3m\u001b[90m<dbl>\u001b[39m\u001b[23m \u001b[3m\u001b[90m<chr>\u001b[39m\u001b[23m    \n",
      "\u001b[90m 1\u001b[39m ACH-001518 chr1               1  16\u001b[4m4\u001b[24m\u001b[4m5\u001b[24m\u001b[4m7\u001b[24m368       \u001b[4m2\u001b[24m069  1.05        Broad WES\n",
      "\u001b[90m 2\u001b[39m ACH-001518 chr1        16\u001b[4m4\u001b[24m\u001b[4m5\u001b[24m\u001b[4m7\u001b[24m369  16\u001b[4m9\u001b[24m\u001b[4m7\u001b[24m\u001b[4m6\u001b[24m116         61  1.48        Broad WES\n",
      "\u001b[90m 3\u001b[39m ACH-001518 chr1        16\u001b[4m9\u001b[24m\u001b[4m7\u001b[24m\u001b[4m6\u001b[24m117 101\u001b[4m0\u001b[24m\u001b[4m2\u001b[24m\u001b[4m3\u001b[24m537       \u001b[4m7\u001b[24m024  1.02        Broad WES\n",
      "\u001b[90m 4\u001b[39m ACH-001518 chr1       101\u001b[4m0\u001b[24m\u001b[4m2\u001b[24m\u001b[4m3\u001b[24m538 149\u001b[4m4\u001b[24m\u001b[4m8\u001b[24m\u001b[4m7\u001b[24m698       \u001b[4m1\u001b[24m672  1.19        Broad WES\n",
      "\u001b[90m 5\u001b[39m ACH-001518 chr1       149\u001b[4m4\u001b[24m\u001b[4m8\u001b[24m\u001b[4m7\u001b[24m699 149\u001b[4m6\u001b[24m\u001b[4m3\u001b[24m\u001b[4m6\u001b[24m094          1  0.076\u001b[4m7\u001b[24m      Broad WES\n",
      "\u001b[90m 6\u001b[39m ACH-001518 chr1       149\u001b[4m6\u001b[24m\u001b[4m3\u001b[24m\u001b[4m6\u001b[24m095 248\u001b[4m9\u001b[24m\u001b[4m5\u001b[24m\u001b[4m6\u001b[24m422       \u001b[4m8\u001b[24m383  1.02        Broad WES\n",
      "\u001b[90m 7\u001b[39m ACH-001518 chr2               1  47\u001b[4m6\u001b[24m\u001b[4m2\u001b[24m\u001b[4m4\u001b[24m291       \u001b[4m2\u001b[24m999  1.00        Broad WES\n",
      "\u001b[90m 8\u001b[39m ACH-001518 chr2        47\u001b[4m6\u001b[24m\u001b[4m2\u001b[24m\u001b[4m4\u001b[24m292  47\u001b[4m7\u001b[24m\u001b[4m8\u001b[24m\u001b[4m7\u001b[24m210          2  0.000\u001b[4m0\u001b[24m\u001b[4m0\u001b[24m\u001b[4m0\u001b[24m991 Broad WES\n",
      "\u001b[90m 9\u001b[39m ACH-001518 chr2        47\u001b[4m7\u001b[24m\u001b[4m8\u001b[24m\u001b[4m7\u001b[24m211  86\u001b[4m8\u001b[24m\u001b[4m5\u001b[24m\u001b[4m2\u001b[24m415       \u001b[4m2\u001b[24m131  0.991       Broad WES\n",
      "\u001b[90m10\u001b[39m ACH-001518 chr2        86\u001b[4m8\u001b[24m\u001b[4m5\u001b[24m\u001b[4m2\u001b[24m416  87\u001b[4m2\u001b[24m\u001b[4m6\u001b[24m\u001b[4m2\u001b[24m876          3  0.034\u001b[4m6\u001b[24m      Broad WES\n",
      "\u001b[90m# … with 2,316 more rows\u001b[39m\n"
     ]
    }
   ],
   "source": [
    "%%R\n",
    "segments <- filter_for_CCLE(process_segments(new_samples_copy_number_broad_wes))\n",
    "segments <- interpolate_gaps_in_segmented(segments)$segs\n",
    "segments %<>% extend_ends_of_segments(.,'../JKBio/data/hg38_cytoband.gz')\n",
    "print(segments)\n",
    "print(head(wes.priority.cn.seg.profiles))\n",
    "segments <- reprioritize_data(segments, wes.priority.cn.seg.profiles)\n",
    "# Fill in the gaps on the entire dataset\n",
    "# Extend start sites to 1, end sites to the end of the chromosome?\n",
    "\n",
    "# TODO: IF seqnames (CHR) are 1-9 values, append \"chr\" in front of each! (bulk)\n",
    "# ifelse(grepl(\"[0-9]+\", new_copy_number$ChrChromosome), \"chr\"+, \"no\")\n"
   ]
  },
  {
   "cell_type": "code",
   "execution_count": 52,
   "metadata": {},
   "outputs": [],
   "source": [
    "%%R\n",
    "write.table(segments, file = paste0(\"temp/wes.\",release,\".segmented.cn\"), sep = ',', quote = F, row.names = F) \n",
    "# What we upload to taiga\n",
    "# TODO : change column name again"
   ]
  },
  {
   "cell_type": "code",
   "execution_count": 19,
   "metadata": {},
   "outputs": [],
   "source": [
    "%%R\n",
    "entrezgenes <- generate_entrez_genes()"
   ]
  },
  {
   "cell_type": "code",
   "execution_count": 42,
   "metadata": {},
   "outputs": [],
   "source": [
    "%%R\n",
    "genematrix <- generate_gene_level_matrix_from_segments(entrezgenes, segments)"
   ]
  },
  {
   "cell_type": "code",
   "execution_count": 51,
   "metadata": {},
   "outputs": [
    {
     "name": "stdout",
     "output_type": "stream",
     "text": [
      "           A1BG (1) NAT2 (10) ADA (100) CDH2 (1000) AKT3 (10000)\n",
      "ACH-000001 1.265172 1.1415254 1.2958359   0.6627515     1.012791\n",
      "ACH-000002 1.013633 0.9741737 1.0175121   1.4893275     1.012618\n",
      "ACH-000003 1.031898 1.0958118 1.8768326   0.5364814     1.002498\n",
      "ACH-000004 1.349290 1.0865089 0.7855092   1.0770610     1.086057\n",
      "ACH-000005 1.222033 1.1622070 0.7612536   1.0724579     1.120937\n"
     ]
    }
   ],
   "source": [
    "%%R\n",
    "corner(genematrix)"
   ]
  },
  {
   "cell_type": "code",
   "execution_count": 53,
   "metadata": {},
   "outputs": [],
   "source": [
    "%%R\n",
    "write.table(log2(genematrix+1), file = paste0('temp/wes.',release,'.gene.cn'), \n",
    "      sep = '\\t', quote = F, row.names = T)"
   ]
  },
  {
   "cell_type": "code",
   "execution_count": 19,
   "metadata": {
    "scrolled": true
   },
   "outputs": [
    {
     "name": "stdout",
     "output_type": "stream",
     "text": [
      "Uploading wes.19Q3interim.gene...\n",
      "hitting https://cds.team/taiga/api/datafile/a4b6935ca4fb4b2f86a86e53bd555ad9\n",
      "Conversion and upload...:\n",
      "\t Downloading the file from S3\n",
      "\t Downloading the file from S3\n",
      "\t Downloading the file from S3\n",
      "\t Downloading the file from S3\n",
      "\t Downloading the file from S3\n",
      "\t Downloading the file from S3\n",
      "\t Downloading the file from S3\n",
      "\t Downloading the file from S3\n",
      "\t Downloading the file from S3\n",
      "\t Downloading the file from S3\n",
      "\t Downloading the file from S3\n",
      "\t Downloading the file from S3\n",
      "\t Downloading the file from S3\n",
      "\t Downloading the file from S3\n",
      "\t Scanning through file to determine size (line 1001)\n",
      "\t Scanning through file to determine size (line 1001)\n",
      "\t Scanning through file to determine size (line 1001)\n",
      "\t Scanning through file to determine size (line 1001)\n",
      "\t Scanning through file to determine size (line 1001)\n",
      "\t Scanning through file to determine size (line 1001)\n",
      "\t Scanning through file to determine size (line 1001)\n",
      "\t Scanning through file to determine size (line 1001)\n",
      "\t Scanning through file to determine size (line 1001)\n",
      "\t Conversion in progress, line 250\n",
      "\t Conversion in progress, line 250\n",
      "\t Conversion in progress, line 250\n",
      "\t Conversion in progress, line 250\n",
      "\t Conversion in progress, line 500\n",
      "\t Conversion in progress, line 500\n",
      "\t Conversion in progress, line 500\n",
      "\t Conversion in progress, line 500\n",
      "\t Conversion in progress, line 500\n",
      "\t Conversion in progress, line 750\n",
      "\t Conversion in progress, line 750\n",
      "\t Conversion in progress, line 750\n",
      "\t Conversion in progress, line 750\n",
      "\t Conversion in progress, line 1000\n",
      "\t Conversion in progress, line 1000\n",
      "\t Conversion in progress, line 1000\n",
      "\t Conversion in progress, line 1000\n",
      "\t Conversion in progress, line 1000\n",
      "\t Conversion in progress, line 1250\n",
      "\t Conversion in progress, line 1250\n",
      "\t Conversion in progress, line 1250\n",
      "\t Conversion in progress, line 1250\n",
      "\t Conversion in progress, line 1500\n",
      "\t Conversion in progress, line 1500\n",
      "\t Conversion in progress, line 1500\n",
      "\t Conversion in progress, line 1500\n",
      "\t Uploading to S3\n",
      "\t Uploading to S3\n",
      "\t Uploading to S3\n",
      "\t Uploading to S3\n",
      "\t Uploading to S3\n",
      "\n",
      "\t Done: wes.19Q3interim.gene properly converted and uploaded\n",
      "Uploading wes.19Q3interim.segmented...\n",
      "hitting https://cds.team/taiga/api/datafile/a4b6935ca4fb4b2f86a86e53bd555ad9\n",
      "Conversion and upload...:\n",
      "\t Downloading the file from S3\n",
      "\t Downloading the file from S3\n",
      "\t Downloading the file from S3\n",
      "\t Uploading to S3\n",
      "\n",
      "\t Done: wes.19Q3interim.segmented properly converted and uploaded\n",
      "Creating the new version with these files:\n",
      "\tNEW: wes.19Q3interim.gene - NumericMatrixTSV\n",
      "\tNEW: wes.19Q3interim.segmented - TableTSV\n",
      "hitting https://cds.team/taiga/api/datasetVersion\n",
      "\n",
      "Dataset version with id 62f91108461344969df9f43408024f3f created. You can access to this dataset version directly with this url: https://cds.team/taiga/dataset_version/62f91108461344969df9f43408024f3f\n"
     ]
    },
    {
     "data": {
      "text/plain": [
       "'62f91108461344969df9f43408024f3f'"
      ]
     },
     "execution_count": 19,
     "metadata": {},
     "output_type": "execute_result"
    }
   ],
   "source": [
    "from taigapy import TaigaClient\n",
    "\n",
    "tc = TaigaClient()\n",
    "tc.update_dataset(dataset_permaname=\"segmented-cn-wes-prioritzed-7fe1\", \n",
    "                  upload_file_path_dict={'temp/wes.'+sample_set_id+'.gene.cn': 'NumericMatrixTSV',\n",
    "                                        'temp/wes.'+sample_set_id+'.segmented.cn': 'TableTSV'},\n",
    "                 dataset_description=\"updating to \",\n",
    "                force_remove=True\n",
    "                 )"
   ]
  },
  {
   "cell_type": "code",
   "execution_count": null,
   "metadata": {},
   "outputs": [],
   "source": []
  }
 ],
 "metadata": {
  "kernelspec": {
   "display_name": "Python 3",
   "language": "python",
   "name": "python3"
  },
  "language_info": {
   "codemirror_mode": {
    "name": "ipython",
    "version": 3
   },
   "file_extension": ".py",
   "mimetype": "text/x-python",
   "name": "python",
   "nbconvert_exporter": "python",
   "pygments_lexer": "ipython3",
   "version": "3.7.3"
  }
 },
 "nbformat": 4,
 "nbformat_minor": 2
}
